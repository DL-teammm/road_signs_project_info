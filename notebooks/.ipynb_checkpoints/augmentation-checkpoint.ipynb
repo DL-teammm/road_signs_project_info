{
 "cells": [
  {
   "cell_type": "code",
   "execution_count": null,
   "id": "2a1c3a9f",
   "metadata": {},
   "outputs": [],
   "source": [
    "! pip install imgaug\n",
    "! pip install imagecorruptions"
   ]
  },
  {
   "cell_type": "code",
   "execution_count": 51,
   "id": "03b29b4f",
   "metadata": {},
   "outputs": [],
   "source": [
    "import os\n",
    "import json\n",
    "from ast import literal_eval\n",
    "import math\n",
    "import random\n",
    "\n",
    "import numpy as np \n",
    "import pandas as pd \n",
    "import plotly.express as px\n",
    "import matplotlib.pyplot as plt\n",
    "import seaborn as sns\n",
    "\n",
    "import imgaug as ia\n",
    "import imgaug.augmenters as iaa\n",
    "\n",
    "from PIL import Image\n",
    "\n",
    "import warnings\n",
    "warnings.filterwarnings('ignore')"
   ]
  },
  {
   "cell_type": "markdown",
   "id": "9b0c1088",
   "metadata": {},
   "source": [
    "## Чтение датасета"
   ]
  },
  {
   "cell_type": "code",
   "execution_count": 133,
   "id": "77431223",
   "metadata": {},
   "outputs": [],
   "source": [
    "f_train = open('./data/train_anno.json')\n",
    "f_val = open('./data/val_anno.json')\n",
    " \n",
    "data_train = json.load(f_train)\n",
    "data_val = json.load(f_val)\n",
    "  \n",
    "f_train.close()\n",
    "f_val.close()"
   ]
  },
  {
   "cell_type": "code",
   "execution_count": 134,
   "id": "bc93f827",
   "metadata": {},
   "outputs": [],
   "source": [
    "df_train_img = pd.DataFrame(data_train['images'])\n",
    "df_train_annot = pd.DataFrame(data_train['annotations'])\n",
    "df_train_cat = pd.DataFrame(data_train['categories'])\n",
    "\n",
    "df_val_img = pd.DataFrame(data_val['images'])\n",
    "df_val_annot = pd.DataFrame(data_val['annotations'])\n",
    "df_val_cat = pd.DataFrame(data_val['categories'])"
   ]
  },
  {
   "cell_type": "code",
   "execution_count": 135,
   "id": "0eb4a2c4",
   "metadata": {},
   "outputs": [
    {
     "data": {
      "text/html": [
       "<div>\n",
       "<style scoped>\n",
       "    .dataframe tbody tr th:only-of-type {\n",
       "        vertical-align: middle;\n",
       "    }\n",
       "\n",
       "    .dataframe tbody tr th {\n",
       "        vertical-align: top;\n",
       "    }\n",
       "\n",
       "    .dataframe thead th {\n",
       "        text-align: right;\n",
       "    }\n",
       "</style>\n",
       "<table border=\"1\" class=\"dataframe\">\n",
       "  <thead>\n",
       "    <tr style=\"text-align: right;\">\n",
       "      <th></th>\n",
       "      <th>width</th>\n",
       "      <th>height</th>\n",
       "      <th>file_name</th>\n",
       "      <th>image_id</th>\n",
       "      <th>category_id</th>\n",
       "      <th>area</th>\n",
       "      <th>bbox</th>\n",
       "      <th>iscrowd</th>\n",
       "      <th>name</th>\n",
       "    </tr>\n",
       "  </thead>\n",
       "  <tbody>\n",
       "    <tr>\n",
       "      <th>0</th>\n",
       "      <td>1280</td>\n",
       "      <td>720</td>\n",
       "      <td>rtsd-frames/autosave01_02_2012_09_13_33.jpg</td>\n",
       "      <td>0</td>\n",
       "      <td>1</td>\n",
       "      <td>324</td>\n",
       "      <td>[649, 376, 18, 18]</td>\n",
       "      <td>0</td>\n",
       "      <td>2_1</td>\n",
       "    </tr>\n",
       "    <tr>\n",
       "      <th>1</th>\n",
       "      <td>1280</td>\n",
       "      <td>720</td>\n",
       "      <td>rtsd-frames/autosave01_02_2012_09_13_34.jpg</td>\n",
       "      <td>1</td>\n",
       "      <td>1</td>\n",
       "      <td>420</td>\n",
       "      <td>[671, 356, 20, 21]</td>\n",
       "      <td>0</td>\n",
       "      <td>2_1</td>\n",
       "    </tr>\n",
       "    <tr>\n",
       "      <th>2</th>\n",
       "      <td>1280</td>\n",
       "      <td>720</td>\n",
       "      <td>rtsd-frames/autosave01_02_2012_09_13_35.jpg</td>\n",
       "      <td>2</td>\n",
       "      <td>1</td>\n",
       "      <td>702</td>\n",
       "      <td>[711, 332, 27, 26]</td>\n",
       "      <td>0</td>\n",
       "      <td>2_1</td>\n",
       "    </tr>\n",
       "    <tr>\n",
       "      <th>3</th>\n",
       "      <td>1280</td>\n",
       "      <td>720</td>\n",
       "      <td>rtsd-frames/autosave01_02_2012_09_13_36.jpg</td>\n",
       "      <td>3</td>\n",
       "      <td>1</td>\n",
       "      <td>1332</td>\n",
       "      <td>[764, 290, 37, 36]</td>\n",
       "      <td>0</td>\n",
       "      <td>2_1</td>\n",
       "    </tr>\n",
       "    <tr>\n",
       "      <th>4</th>\n",
       "      <td>1280</td>\n",
       "      <td>720</td>\n",
       "      <td>rtsd-frames/autosave01_02_2012_09_13_37.jpg</td>\n",
       "      <td>4</td>\n",
       "      <td>1</td>\n",
       "      <td>3192</td>\n",
       "      <td>[876, 200, 56, 57]</td>\n",
       "      <td>0</td>\n",
       "      <td>2_1</td>\n",
       "    </tr>\n",
       "  </tbody>\n",
       "</table>\n",
       "</div>"
      ],
      "text/plain": [
       "   width  height                                    file_name  image_id  \\\n",
       "0   1280     720  rtsd-frames/autosave01_02_2012_09_13_33.jpg         0   \n",
       "1   1280     720  rtsd-frames/autosave01_02_2012_09_13_34.jpg         1   \n",
       "2   1280     720  rtsd-frames/autosave01_02_2012_09_13_35.jpg         2   \n",
       "3   1280     720  rtsd-frames/autosave01_02_2012_09_13_36.jpg         3   \n",
       "4   1280     720  rtsd-frames/autosave01_02_2012_09_13_37.jpg         4   \n",
       "\n",
       "   category_id  area                bbox  iscrowd name  \n",
       "0            1   324  [649, 376, 18, 18]        0  2_1  \n",
       "1            1   420  [671, 356, 20, 21]        0  2_1  \n",
       "2            1   702  [711, 332, 27, 26]        0  2_1  \n",
       "3            1  1332  [764, 290, 37, 36]        0  2_1  \n",
       "4            1  3192  [876, 200, 56, 57]        0  2_1  "
      ]
     },
     "execution_count": 135,
     "metadata": {},
     "output_type": "execute_result"
    }
   ],
   "source": [
    "df_train = pd.merge(\n",
    "    df_train_img,\n",
    "    df_train_annot,\n",
    "    how=\"inner\",\n",
    "    left_on=\"id\",\n",
    "    right_on=\"image_id\"\n",
    ")\n",
    "\n",
    "df_train = pd.merge(\n",
    "    df_train,\n",
    "    df_train_cat,\n",
    "    how=\"inner\",\n",
    "    left_on=\"category_id\",\n",
    "    right_on=\"id\"\n",
    ")\n",
    "\n",
    "df_train.drop(columns=['id_x', 'id_y', 'id'], inplace=True)\n",
    "\n",
    "df_train.head(5)"
   ]
  },
  {
   "cell_type": "code",
   "execution_count": 136,
   "id": "ffd99ecc",
   "metadata": {},
   "outputs": [
    {
     "data": {
      "text/html": [
       "<div>\n",
       "<style scoped>\n",
       "    .dataframe tbody tr th:only-of-type {\n",
       "        vertical-align: middle;\n",
       "    }\n",
       "\n",
       "    .dataframe tbody tr th {\n",
       "        vertical-align: top;\n",
       "    }\n",
       "\n",
       "    .dataframe thead th {\n",
       "        text-align: right;\n",
       "    }\n",
       "</style>\n",
       "<table border=\"1\" class=\"dataframe\">\n",
       "  <thead>\n",
       "    <tr style=\"text-align: right;\">\n",
       "      <th></th>\n",
       "      <th>width</th>\n",
       "      <th>height</th>\n",
       "      <th>file_name</th>\n",
       "      <th>image_id</th>\n",
       "      <th>category_id</th>\n",
       "      <th>area</th>\n",
       "      <th>bbox</th>\n",
       "      <th>iscrowd</th>\n",
       "      <th>name</th>\n",
       "    </tr>\n",
       "  </thead>\n",
       "  <tbody>\n",
       "    <tr>\n",
       "      <th>0</th>\n",
       "      <td>1280</td>\n",
       "      <td>720</td>\n",
       "      <td>rtsd-frames/autosave10_10_2012_13_50_36_1.jpg</td>\n",
       "      <td>22978</td>\n",
       "      <td>3</td>\n",
       "      <td>810</td>\n",
       "      <td>[622, 375, 30, 27]</td>\n",
       "      <td>0</td>\n",
       "      <td>1_17</td>\n",
       "    </tr>\n",
       "    <tr>\n",
       "      <th>1</th>\n",
       "      <td>1920</td>\n",
       "      <td>1080</td>\n",
       "      <td>rtsd-frames/autosave16_04_2013_15_11_26_1.jpg</td>\n",
       "      <td>34704</td>\n",
       "      <td>3</td>\n",
       "      <td>667</td>\n",
       "      <td>[1050, 436, 29, 23]</td>\n",
       "      <td>0</td>\n",
       "      <td>1_17</td>\n",
       "    </tr>\n",
       "    <tr>\n",
       "      <th>2</th>\n",
       "      <td>1920</td>\n",
       "      <td>1080</td>\n",
       "      <td>rtsd-frames/autosave16_04_2013_13_19_50_2.jpg</td>\n",
       "      <td>32165</td>\n",
       "      <td>3</td>\n",
       "      <td>1720</td>\n",
       "      <td>[1033, 506, 43, 40]</td>\n",
       "      <td>0</td>\n",
       "      <td>1_17</td>\n",
       "    </tr>\n",
       "    <tr>\n",
       "      <th>3</th>\n",
       "      <td>1920</td>\n",
       "      <td>1080</td>\n",
       "      <td>rtsd-frames/autosave13_04_2013_11_07_29_0.jpg</td>\n",
       "      <td>25166</td>\n",
       "      <td>3</td>\n",
       "      <td>1260</td>\n",
       "      <td>[1185, 380, 36, 35]</td>\n",
       "      <td>0</td>\n",
       "      <td>1_17</td>\n",
       "    </tr>\n",
       "    <tr>\n",
       "      <th>4</th>\n",
       "      <td>1920</td>\n",
       "      <td>1080</td>\n",
       "      <td>rtsd-frames/autosave16_04_2013_13_19_50_0.jpg</td>\n",
       "      <td>32163</td>\n",
       "      <td>3</td>\n",
       "      <td>980</td>\n",
       "      <td>[979, 530, 35, 28]</td>\n",
       "      <td>0</td>\n",
       "      <td>1_17</td>\n",
       "    </tr>\n",
       "  </tbody>\n",
       "</table>\n",
       "</div>"
      ],
      "text/plain": [
       "   width  height                                      file_name  image_id  \\\n",
       "0   1280     720  rtsd-frames/autosave10_10_2012_13_50_36_1.jpg     22978   \n",
       "1   1920    1080  rtsd-frames/autosave16_04_2013_15_11_26_1.jpg     34704   \n",
       "2   1920    1080  rtsd-frames/autosave16_04_2013_13_19_50_2.jpg     32165   \n",
       "3   1920    1080  rtsd-frames/autosave13_04_2013_11_07_29_0.jpg     25166   \n",
       "4   1920    1080  rtsd-frames/autosave16_04_2013_13_19_50_0.jpg     32163   \n",
       "\n",
       "   category_id  area                 bbox  iscrowd  name  \n",
       "0            3   810   [622, 375, 30, 27]        0  1_17  \n",
       "1            3   667  [1050, 436, 29, 23]        0  1_17  \n",
       "2            3  1720  [1033, 506, 43, 40]        0  1_17  \n",
       "3            3  1260  [1185, 380, 36, 35]        0  1_17  \n",
       "4            3   980   [979, 530, 35, 28]        0  1_17  "
      ]
     },
     "execution_count": 136,
     "metadata": {},
     "output_type": "execute_result"
    }
   ],
   "source": [
    "df_val = pd.merge(\n",
    "    df_val_img,\n",
    "    df_val_annot,\n",
    "    how=\"inner\",\n",
    "    left_on=\"id\",\n",
    "    right_on=\"image_id\"\n",
    ")\n",
    "\n",
    "df_val = pd.merge(\n",
    "    df_val,\n",
    "    df_val_cat,\n",
    "    how=\"inner\",\n",
    "    left_on=\"category_id\",\n",
    "    right_on=\"id\"\n",
    ")\n",
    "\n",
    "df_val.drop(columns=['id_x', 'id_y', 'id'], inplace=True)\n",
    "\n",
    "df_val.head(5)"
   ]
  },
  {
   "cell_type": "code",
   "execution_count": 137,
   "id": "b1b98a7d",
   "metadata": {},
   "outputs": [
    {
     "data": {
      "text/html": [
       "<div>\n",
       "<style scoped>\n",
       "    .dataframe tbody tr th:only-of-type {\n",
       "        vertical-align: middle;\n",
       "    }\n",
       "\n",
       "    .dataframe tbody tr th {\n",
       "        vertical-align: top;\n",
       "    }\n",
       "\n",
       "    .dataframe thead th {\n",
       "        text-align: right;\n",
       "    }\n",
       "</style>\n",
       "<table border=\"1\" class=\"dataframe\">\n",
       "  <thead>\n",
       "    <tr style=\"text-align: right;\">\n",
       "      <th></th>\n",
       "      <th>width</th>\n",
       "      <th>height</th>\n",
       "      <th>file_name</th>\n",
       "      <th>image_id</th>\n",
       "      <th>category_id</th>\n",
       "      <th>area</th>\n",
       "      <th>bbox</th>\n",
       "      <th>iscrowd</th>\n",
       "      <th>category_name</th>\n",
       "    </tr>\n",
       "  </thead>\n",
       "  <tbody>\n",
       "    <tr>\n",
       "      <th>0</th>\n",
       "      <td>1280</td>\n",
       "      <td>720</td>\n",
       "      <td>rtsd-frames/autosave01_02_2012_09_13_33.jpg</td>\n",
       "      <td>0</td>\n",
       "      <td>1</td>\n",
       "      <td>324</td>\n",
       "      <td>[649, 376, 18, 18]</td>\n",
       "      <td>0</td>\n",
       "      <td>2_1</td>\n",
       "    </tr>\n",
       "    <tr>\n",
       "      <th>1</th>\n",
       "      <td>1280</td>\n",
       "      <td>720</td>\n",
       "      <td>rtsd-frames/autosave01_02_2012_09_13_34.jpg</td>\n",
       "      <td>1</td>\n",
       "      <td>1</td>\n",
       "      <td>420</td>\n",
       "      <td>[671, 356, 20, 21]</td>\n",
       "      <td>0</td>\n",
       "      <td>2_1</td>\n",
       "    </tr>\n",
       "    <tr>\n",
       "      <th>2</th>\n",
       "      <td>1280</td>\n",
       "      <td>720</td>\n",
       "      <td>rtsd-frames/autosave01_02_2012_09_13_35.jpg</td>\n",
       "      <td>2</td>\n",
       "      <td>1</td>\n",
       "      <td>702</td>\n",
       "      <td>[711, 332, 27, 26]</td>\n",
       "      <td>0</td>\n",
       "      <td>2_1</td>\n",
       "    </tr>\n",
       "    <tr>\n",
       "      <th>3</th>\n",
       "      <td>1280</td>\n",
       "      <td>720</td>\n",
       "      <td>rtsd-frames/autosave01_02_2012_09_13_36.jpg</td>\n",
       "      <td>3</td>\n",
       "      <td>1</td>\n",
       "      <td>1332</td>\n",
       "      <td>[764, 290, 37, 36]</td>\n",
       "      <td>0</td>\n",
       "      <td>2_1</td>\n",
       "    </tr>\n",
       "    <tr>\n",
       "      <th>4</th>\n",
       "      <td>1280</td>\n",
       "      <td>720</td>\n",
       "      <td>rtsd-frames/autosave01_02_2012_09_13_37.jpg</td>\n",
       "      <td>4</td>\n",
       "      <td>1</td>\n",
       "      <td>3192</td>\n",
       "      <td>[876, 200, 56, 57]</td>\n",
       "      <td>0</td>\n",
       "      <td>2_1</td>\n",
       "    </tr>\n",
       "  </tbody>\n",
       "</table>\n",
       "</div>"
      ],
      "text/plain": [
       "   width  height                                    file_name  image_id  \\\n",
       "0   1280     720  rtsd-frames/autosave01_02_2012_09_13_33.jpg         0   \n",
       "1   1280     720  rtsd-frames/autosave01_02_2012_09_13_34.jpg         1   \n",
       "2   1280     720  rtsd-frames/autosave01_02_2012_09_13_35.jpg         2   \n",
       "3   1280     720  rtsd-frames/autosave01_02_2012_09_13_36.jpg         3   \n",
       "4   1280     720  rtsd-frames/autosave01_02_2012_09_13_37.jpg         4   \n",
       "\n",
       "   category_id  area                bbox  iscrowd category_name  \n",
       "0            1   324  [649, 376, 18, 18]        0           2_1  \n",
       "1            1   420  [671, 356, 20, 21]        0           2_1  \n",
       "2            1   702  [711, 332, 27, 26]        0           2_1  \n",
       "3            1  1332  [764, 290, 37, 36]        0           2_1  \n",
       "4            1  3192  [876, 200, 56, 57]        0           2_1  "
      ]
     },
     "execution_count": 137,
     "metadata": {},
     "output_type": "execute_result"
    }
   ],
   "source": [
    "df = pd.concat([df_train, df_val], axis=0)\n",
    "df = df.rename(columns={'name': 'category_name'})\n",
    "\n",
    "df.head(5)"
   ]
  },
  {
   "cell_type": "code",
   "execution_count": 138,
   "id": "b923c399",
   "metadata": {},
   "outputs": [],
   "source": [
    "temp = np.array([list(item) for item in df['bbox'].to_numpy()])\n",
    "df = pd.concat([df.reset_index(), pd.DataFrame(temp, columns=['x', 'y', 'w', 'h']).reset_index()], axis=1) \n",
    "df.drop('bbox', axis=1, inplace=True)"
   ]
  },
  {
   "cell_type": "code",
   "execution_count": 78,
   "id": "08d7bc2a",
   "metadata": {},
   "outputs": [
    {
     "data": {
      "application/vnd.plotly.v1+json": {
       "config": {
        "plotlyServerURL": "https://plot.ly"
       },
       "data": [
        {
         "alignmentgroup": "True",
         "hovertemplate": "category_name=%{x}<br>count=%{y}<extra></extra>",
         "legendgroup": "",
         "marker": {
          "color": "blue",
          "pattern": {
           "shape": ""
          }
         },
         "name": "",
         "offsetgroup": "",
         "orientation": "v",
         "showlegend": false,
         "textposition": "auto",
         "type": "bar",
         "x": [
          "5_19_1",
          "2_1",
          "5_16",
          "5_15_2",
          "3_24",
          "2_4",
          "3_27",
          "1_23",
          "4_1_1",
          "5_20",
          "3_20",
          "5_15_3",
          "5_15_1",
          "5_15_2_2",
          "1_17",
          "5_15_5",
          "4_2_1",
          "4_2_3",
          "4_1_4",
          "7_3",
          "6_4",
          "6_16",
          "5_5",
          "1_25",
          "8_2_1",
          "2_3_2",
          "3_1",
          "1_22",
          "6_6",
          "8_13",
          "2_3_3",
          "3_4_1",
          "2_2",
          "2_5",
          "4_2_2",
          "5_6",
          "1_11_1",
          "4_1_2",
          "5_15_7",
          "2_3",
          "1_11",
          "1_20_2",
          "3_21",
          "1_8",
          "1_16",
          "3_28",
          "7_5",
          "8_15",
          "5_14",
          "1_2",
          "3_13",
          "3_18",
          "6_3_1",
          "1_15",
          "4_1_5",
          "1_1",
          "8_1_1",
          "4_1_2_1",
          "1_12",
          "3_18_2",
          "3_25",
          "3_31",
          "8_3_1",
          "1_12_2",
          "3_2",
          "6_15_1",
          "7_2",
          "4_3",
          "6_2",
          "7_7",
          "5_7_1",
          "4_1_2_2",
          "5_7_2",
          "7_12",
          "8_13_1",
          "7_4",
          "7_11",
          "1_33",
          "8_2_2",
          "8_2_4",
          "1_14",
          "3_32",
          "1_20_3",
          "5_3",
          "1_21",
          "6_7",
          "1_20",
          "8_2_3",
          "3_11",
          "8_5_4",
          "1_27",
          "3_29",
          "1_5",
          "5_11",
          "2_6",
          "8_5_2",
          "1_13",
          "4_1_6",
          "4_8_2",
          "8_3_2",
          "7_6",
          "3_19",
          "4_1_3",
          "3_30",
          "5_21",
          "7_1",
          "3_4",
          "8_4_1",
          "3_10",
          "1_19",
          "5_22",
          "3_12",
          "8_6_4",
          "3_14",
          "6_15_2",
          "5_8",
          "8_1_4",
          "8_1_3",
          "8_4_4",
          "8_18",
          "8_6_2",
          "8_8",
          "1_10",
          "1_18",
          "5_18",
          "1_31",
          "7_15",
          "8_17",
          "1_6",
          "1_7",
          "5_4",
          "3_6",
          "1_26",
          "4_8_3",
          "6_8_2",
          "2_3_4",
          "6_8_3",
          "3_16",
          "2_3_6",
          "1_30",
          "5_17",
          "7_14",
          "5_12",
          "2_7",
          "8_4_3",
          "7_18",
          "6_8_1",
          "6_15_3",
          "8_14",
          "8_16",
          "8_23",
          "8_3_3",
          "4_5",
          "2_3_5",
          "3_33"
         ],
         "xaxis": "x",
         "y": [
          24264,
          10961,
          5172,
          4944,
          4104,
          4095,
          3558,
          2787,
          2333,
          2007,
          1803,
          1592,
          1493,
          1390,
          1256,
          1208,
          1191,
          1190,
          1166,
          1104,
          1075,
          1054,
          1027,
          1024,
          1007,
          997,
          995,
          943,
          814,
          694,
          635,
          576,
          548,
          544,
          543,
          533,
          477,
          473,
          437,
          432,
          385,
          384,
          366,
          353,
          341,
          339,
          334,
          313,
          310,
          310,
          274,
          272,
          261,
          227,
          208,
          208,
          203,
          199,
          191,
          190,
          188,
          183,
          180,
          178,
          178,
          176,
          175,
          174,
          167,
          164,
          158,
          156,
          155,
          147,
          147,
          144,
          138,
          126,
          119,
          106,
          104,
          103,
          101,
          99,
          98,
          96,
          96,
          93,
          92,
          90,
          88,
          85,
          85,
          85,
          83,
          81,
          75,
          75,
          74,
          72,
          68,
          68,
          61,
          58,
          57,
          55,
          52,
          51,
          51,
          45,
          43,
          43,
          42,
          37,
          36,
          34,
          34,
          26,
          25,
          25,
          25,
          24,
          22,
          20,
          20,
          19,
          19,
          18,
          16,
          15,
          14,
          14,
          13,
          13,
          13,
          13,
          12,
          12,
          11,
          11,
          10,
          9,
          9,
          8,
          8,
          6,
          5,
          4,
          4,
          3,
          3,
          2,
          2,
          1,
          1
         ],
         "yaxis": "y"
        }
       ],
       "layout": {
        "barmode": "relative",
        "legend": {
         "tracegroupgap": 0
        },
        "template": {
         "data": {
          "bar": [
           {
            "error_x": {
             "color": "#2a3f5f"
            },
            "error_y": {
             "color": "#2a3f5f"
            },
            "marker": {
             "line": {
              "color": "#E5ECF6",
              "width": 0.5
             },
             "pattern": {
              "fillmode": "overlay",
              "size": 10,
              "solidity": 0.2
             }
            },
            "type": "bar"
           }
          ],
          "barpolar": [
           {
            "marker": {
             "line": {
              "color": "#E5ECF6",
              "width": 0.5
             },
             "pattern": {
              "fillmode": "overlay",
              "size": 10,
              "solidity": 0.2
             }
            },
            "type": "barpolar"
           }
          ],
          "carpet": [
           {
            "aaxis": {
             "endlinecolor": "#2a3f5f",
             "gridcolor": "white",
             "linecolor": "white",
             "minorgridcolor": "white",
             "startlinecolor": "#2a3f5f"
            },
            "baxis": {
             "endlinecolor": "#2a3f5f",
             "gridcolor": "white",
             "linecolor": "white",
             "minorgridcolor": "white",
             "startlinecolor": "#2a3f5f"
            },
            "type": "carpet"
           }
          ],
          "choropleth": [
           {
            "colorbar": {
             "outlinewidth": 0,
             "ticks": ""
            },
            "type": "choropleth"
           }
          ],
          "contour": [
           {
            "colorbar": {
             "outlinewidth": 0,
             "ticks": ""
            },
            "colorscale": [
             [
              0,
              "#0d0887"
             ],
             [
              0.1111111111111111,
              "#46039f"
             ],
             [
              0.2222222222222222,
              "#7201a8"
             ],
             [
              0.3333333333333333,
              "#9c179e"
             ],
             [
              0.4444444444444444,
              "#bd3786"
             ],
             [
              0.5555555555555556,
              "#d8576b"
             ],
             [
              0.6666666666666666,
              "#ed7953"
             ],
             [
              0.7777777777777778,
              "#fb9f3a"
             ],
             [
              0.8888888888888888,
              "#fdca26"
             ],
             [
              1,
              "#f0f921"
             ]
            ],
            "type": "contour"
           }
          ],
          "contourcarpet": [
           {
            "colorbar": {
             "outlinewidth": 0,
             "ticks": ""
            },
            "type": "contourcarpet"
           }
          ],
          "heatmap": [
           {
            "colorbar": {
             "outlinewidth": 0,
             "ticks": ""
            },
            "colorscale": [
             [
              0,
              "#0d0887"
             ],
             [
              0.1111111111111111,
              "#46039f"
             ],
             [
              0.2222222222222222,
              "#7201a8"
             ],
             [
              0.3333333333333333,
              "#9c179e"
             ],
             [
              0.4444444444444444,
              "#bd3786"
             ],
             [
              0.5555555555555556,
              "#d8576b"
             ],
             [
              0.6666666666666666,
              "#ed7953"
             ],
             [
              0.7777777777777778,
              "#fb9f3a"
             ],
             [
              0.8888888888888888,
              "#fdca26"
             ],
             [
              1,
              "#f0f921"
             ]
            ],
            "type": "heatmap"
           }
          ],
          "heatmapgl": [
           {
            "colorbar": {
             "outlinewidth": 0,
             "ticks": ""
            },
            "colorscale": [
             [
              0,
              "#0d0887"
             ],
             [
              0.1111111111111111,
              "#46039f"
             ],
             [
              0.2222222222222222,
              "#7201a8"
             ],
             [
              0.3333333333333333,
              "#9c179e"
             ],
             [
              0.4444444444444444,
              "#bd3786"
             ],
             [
              0.5555555555555556,
              "#d8576b"
             ],
             [
              0.6666666666666666,
              "#ed7953"
             ],
             [
              0.7777777777777778,
              "#fb9f3a"
             ],
             [
              0.8888888888888888,
              "#fdca26"
             ],
             [
              1,
              "#f0f921"
             ]
            ],
            "type": "heatmapgl"
           }
          ],
          "histogram": [
           {
            "marker": {
             "pattern": {
              "fillmode": "overlay",
              "size": 10,
              "solidity": 0.2
             }
            },
            "type": "histogram"
           }
          ],
          "histogram2d": [
           {
            "colorbar": {
             "outlinewidth": 0,
             "ticks": ""
            },
            "colorscale": [
             [
              0,
              "#0d0887"
             ],
             [
              0.1111111111111111,
              "#46039f"
             ],
             [
              0.2222222222222222,
              "#7201a8"
             ],
             [
              0.3333333333333333,
              "#9c179e"
             ],
             [
              0.4444444444444444,
              "#bd3786"
             ],
             [
              0.5555555555555556,
              "#d8576b"
             ],
             [
              0.6666666666666666,
              "#ed7953"
             ],
             [
              0.7777777777777778,
              "#fb9f3a"
             ],
             [
              0.8888888888888888,
              "#fdca26"
             ],
             [
              1,
              "#f0f921"
             ]
            ],
            "type": "histogram2d"
           }
          ],
          "histogram2dcontour": [
           {
            "colorbar": {
             "outlinewidth": 0,
             "ticks": ""
            },
            "colorscale": [
             [
              0,
              "#0d0887"
             ],
             [
              0.1111111111111111,
              "#46039f"
             ],
             [
              0.2222222222222222,
              "#7201a8"
             ],
             [
              0.3333333333333333,
              "#9c179e"
             ],
             [
              0.4444444444444444,
              "#bd3786"
             ],
             [
              0.5555555555555556,
              "#d8576b"
             ],
             [
              0.6666666666666666,
              "#ed7953"
             ],
             [
              0.7777777777777778,
              "#fb9f3a"
             ],
             [
              0.8888888888888888,
              "#fdca26"
             ],
             [
              1,
              "#f0f921"
             ]
            ],
            "type": "histogram2dcontour"
           }
          ],
          "mesh3d": [
           {
            "colorbar": {
             "outlinewidth": 0,
             "ticks": ""
            },
            "type": "mesh3d"
           }
          ],
          "parcoords": [
           {
            "line": {
             "colorbar": {
              "outlinewidth": 0,
              "ticks": ""
             }
            },
            "type": "parcoords"
           }
          ],
          "pie": [
           {
            "automargin": true,
            "type": "pie"
           }
          ],
          "scatter": [
           {
            "marker": {
             "colorbar": {
              "outlinewidth": 0,
              "ticks": ""
             }
            },
            "type": "scatter"
           }
          ],
          "scatter3d": [
           {
            "line": {
             "colorbar": {
              "outlinewidth": 0,
              "ticks": ""
             }
            },
            "marker": {
             "colorbar": {
              "outlinewidth": 0,
              "ticks": ""
             }
            },
            "type": "scatter3d"
           }
          ],
          "scattercarpet": [
           {
            "marker": {
             "colorbar": {
              "outlinewidth": 0,
              "ticks": ""
             }
            },
            "type": "scattercarpet"
           }
          ],
          "scattergeo": [
           {
            "marker": {
             "colorbar": {
              "outlinewidth": 0,
              "ticks": ""
             }
            },
            "type": "scattergeo"
           }
          ],
          "scattergl": [
           {
            "marker": {
             "colorbar": {
              "outlinewidth": 0,
              "ticks": ""
             }
            },
            "type": "scattergl"
           }
          ],
          "scattermapbox": [
           {
            "marker": {
             "colorbar": {
              "outlinewidth": 0,
              "ticks": ""
             }
            },
            "type": "scattermapbox"
           }
          ],
          "scatterpolar": [
           {
            "marker": {
             "colorbar": {
              "outlinewidth": 0,
              "ticks": ""
             }
            },
            "type": "scatterpolar"
           }
          ],
          "scatterpolargl": [
           {
            "marker": {
             "colorbar": {
              "outlinewidth": 0,
              "ticks": ""
             }
            },
            "type": "scatterpolargl"
           }
          ],
          "scatterternary": [
           {
            "marker": {
             "colorbar": {
              "outlinewidth": 0,
              "ticks": ""
             }
            },
            "type": "scatterternary"
           }
          ],
          "surface": [
           {
            "colorbar": {
             "outlinewidth": 0,
             "ticks": ""
            },
            "colorscale": [
             [
              0,
              "#0d0887"
             ],
             [
              0.1111111111111111,
              "#46039f"
             ],
             [
              0.2222222222222222,
              "#7201a8"
             ],
             [
              0.3333333333333333,
              "#9c179e"
             ],
             [
              0.4444444444444444,
              "#bd3786"
             ],
             [
              0.5555555555555556,
              "#d8576b"
             ],
             [
              0.6666666666666666,
              "#ed7953"
             ],
             [
              0.7777777777777778,
              "#fb9f3a"
             ],
             [
              0.8888888888888888,
              "#fdca26"
             ],
             [
              1,
              "#f0f921"
             ]
            ],
            "type": "surface"
           }
          ],
          "table": [
           {
            "cells": {
             "fill": {
              "color": "#EBF0F8"
             },
             "line": {
              "color": "white"
             }
            },
            "header": {
             "fill": {
              "color": "#C8D4E3"
             },
             "line": {
              "color": "white"
             }
            },
            "type": "table"
           }
          ]
         },
         "layout": {
          "annotationdefaults": {
           "arrowcolor": "#2a3f5f",
           "arrowhead": 0,
           "arrowwidth": 1
          },
          "autotypenumbers": "strict",
          "coloraxis": {
           "colorbar": {
            "outlinewidth": 0,
            "ticks": ""
           }
          },
          "colorscale": {
           "diverging": [
            [
             0,
             "#8e0152"
            ],
            [
             0.1,
             "#c51b7d"
            ],
            [
             0.2,
             "#de77ae"
            ],
            [
             0.3,
             "#f1b6da"
            ],
            [
             0.4,
             "#fde0ef"
            ],
            [
             0.5,
             "#f7f7f7"
            ],
            [
             0.6,
             "#e6f5d0"
            ],
            [
             0.7,
             "#b8e186"
            ],
            [
             0.8,
             "#7fbc41"
            ],
            [
             0.9,
             "#4d9221"
            ],
            [
             1,
             "#276419"
            ]
           ],
           "sequential": [
            [
             0,
             "#0d0887"
            ],
            [
             0.1111111111111111,
             "#46039f"
            ],
            [
             0.2222222222222222,
             "#7201a8"
            ],
            [
             0.3333333333333333,
             "#9c179e"
            ],
            [
             0.4444444444444444,
             "#bd3786"
            ],
            [
             0.5555555555555556,
             "#d8576b"
            ],
            [
             0.6666666666666666,
             "#ed7953"
            ],
            [
             0.7777777777777778,
             "#fb9f3a"
            ],
            [
             0.8888888888888888,
             "#fdca26"
            ],
            [
             1,
             "#f0f921"
            ]
           ],
           "sequentialminus": [
            [
             0,
             "#0d0887"
            ],
            [
             0.1111111111111111,
             "#46039f"
            ],
            [
             0.2222222222222222,
             "#7201a8"
            ],
            [
             0.3333333333333333,
             "#9c179e"
            ],
            [
             0.4444444444444444,
             "#bd3786"
            ],
            [
             0.5555555555555556,
             "#d8576b"
            ],
            [
             0.6666666666666666,
             "#ed7953"
            ],
            [
             0.7777777777777778,
             "#fb9f3a"
            ],
            [
             0.8888888888888888,
             "#fdca26"
            ],
            [
             1,
             "#f0f921"
            ]
           ]
          },
          "colorway": [
           "#636efa",
           "#EF553B",
           "#00cc96",
           "#ab63fa",
           "#FFA15A",
           "#19d3f3",
           "#FF6692",
           "#B6E880",
           "#FF97FF",
           "#FECB52"
          ],
          "font": {
           "color": "#2a3f5f"
          },
          "geo": {
           "bgcolor": "white",
           "lakecolor": "white",
           "landcolor": "#E5ECF6",
           "showlakes": true,
           "showland": true,
           "subunitcolor": "white"
          },
          "hoverlabel": {
           "align": "left"
          },
          "hovermode": "closest",
          "mapbox": {
           "style": "light"
          },
          "paper_bgcolor": "white",
          "plot_bgcolor": "#E5ECF6",
          "polar": {
           "angularaxis": {
            "gridcolor": "white",
            "linecolor": "white",
            "ticks": ""
           },
           "bgcolor": "#E5ECF6",
           "radialaxis": {
            "gridcolor": "white",
            "linecolor": "white",
            "ticks": ""
           }
          },
          "scene": {
           "xaxis": {
            "backgroundcolor": "#E5ECF6",
            "gridcolor": "white",
            "gridwidth": 2,
            "linecolor": "white",
            "showbackground": true,
            "ticks": "",
            "zerolinecolor": "white"
           },
           "yaxis": {
            "backgroundcolor": "#E5ECF6",
            "gridcolor": "white",
            "gridwidth": 2,
            "linecolor": "white",
            "showbackground": true,
            "ticks": "",
            "zerolinecolor": "white"
           },
           "zaxis": {
            "backgroundcolor": "#E5ECF6",
            "gridcolor": "white",
            "gridwidth": 2,
            "linecolor": "white",
            "showbackground": true,
            "ticks": "",
            "zerolinecolor": "white"
           }
          },
          "shapedefaults": {
           "line": {
            "color": "#2a3f5f"
           }
          },
          "ternary": {
           "aaxis": {
            "gridcolor": "white",
            "linecolor": "white",
            "ticks": ""
           },
           "baxis": {
            "gridcolor": "white",
            "linecolor": "white",
            "ticks": ""
           },
           "bgcolor": "#E5ECF6",
           "caxis": {
            "gridcolor": "white",
            "linecolor": "white",
            "ticks": ""
           }
          },
          "title": {
           "x": 0.05
          },
          "xaxis": {
           "automargin": true,
           "gridcolor": "white",
           "linecolor": "white",
           "ticks": "",
           "title": {
            "standoff": 15
           },
           "zerolinecolor": "white",
           "zerolinewidth": 2
          },
          "yaxis": {
           "automargin": true,
           "gridcolor": "white",
           "linecolor": "white",
           "ticks": "",
           "title": {
            "standoff": 15
           },
           "zerolinecolor": "white",
           "zerolinewidth": 2
          }
         }
        },
        "title": {
         "text": "Distribution of sign_class"
        },
        "xaxis": {
         "anchor": "y",
         "domain": [
          0,
          1
         ],
         "title": {
          "text": "category_name"
         }
        },
        "yaxis": {
         "anchor": "x",
         "domain": [
          0,
          1
         ],
         "title": {
          "text": "count"
         }
        }
       }
      },
      "text/html": [
       "<div>                            <div id=\"878e551a-f6fa-4086-80d4-e286c6bdacca\" class=\"plotly-graph-div\" style=\"height:525px; width:100%;\"></div>            <script type=\"text/javascript\">                require([\"plotly\"], function(Plotly) {                    window.PLOTLYENV=window.PLOTLYENV || {};                                    if (document.getElementById(\"878e551a-f6fa-4086-80d4-e286c6bdacca\")) {                    Plotly.newPlot(                        \"878e551a-f6fa-4086-80d4-e286c6bdacca\",                        [{\"alignmentgroup\":\"True\",\"hovertemplate\":\"category_name=%{x}<br>count=%{y}<extra></extra>\",\"legendgroup\":\"\",\"marker\":{\"color\":\"blue\",\"pattern\":{\"shape\":\"\"}},\"name\":\"\",\"offsetgroup\":\"\",\"orientation\":\"v\",\"showlegend\":false,\"textposition\":\"auto\",\"type\":\"bar\",\"x\":[\"5_19_1\",\"2_1\",\"5_16\",\"5_15_2\",\"3_24\",\"2_4\",\"3_27\",\"1_23\",\"4_1_1\",\"5_20\",\"3_20\",\"5_15_3\",\"5_15_1\",\"5_15_2_2\",\"1_17\",\"5_15_5\",\"4_2_1\",\"4_2_3\",\"4_1_4\",\"7_3\",\"6_4\",\"6_16\",\"5_5\",\"1_25\",\"8_2_1\",\"2_3_2\",\"3_1\",\"1_22\",\"6_6\",\"8_13\",\"2_3_3\",\"3_4_1\",\"2_2\",\"2_5\",\"4_2_2\",\"5_6\",\"1_11_1\",\"4_1_2\",\"5_15_7\",\"2_3\",\"1_11\",\"1_20_2\",\"3_21\",\"1_8\",\"1_16\",\"3_28\",\"7_5\",\"8_15\",\"5_14\",\"1_2\",\"3_13\",\"3_18\",\"6_3_1\",\"1_15\",\"4_1_5\",\"1_1\",\"8_1_1\",\"4_1_2_1\",\"1_12\",\"3_18_2\",\"3_25\",\"3_31\",\"8_3_1\",\"1_12_2\",\"3_2\",\"6_15_1\",\"7_2\",\"4_3\",\"6_2\",\"7_7\",\"5_7_1\",\"4_1_2_2\",\"5_7_2\",\"7_12\",\"8_13_1\",\"7_4\",\"7_11\",\"1_33\",\"8_2_2\",\"8_2_4\",\"1_14\",\"3_32\",\"1_20_3\",\"5_3\",\"1_21\",\"6_7\",\"1_20\",\"8_2_3\",\"3_11\",\"8_5_4\",\"1_27\",\"3_29\",\"1_5\",\"5_11\",\"2_6\",\"8_5_2\",\"1_13\",\"4_1_6\",\"4_8_2\",\"8_3_2\",\"7_6\",\"3_19\",\"4_1_3\",\"3_30\",\"5_21\",\"7_1\",\"3_4\",\"8_4_1\",\"3_10\",\"1_19\",\"5_22\",\"3_12\",\"8_6_4\",\"3_14\",\"6_15_2\",\"5_8\",\"8_1_4\",\"8_1_3\",\"8_4_4\",\"8_18\",\"8_6_2\",\"8_8\",\"1_10\",\"1_18\",\"5_18\",\"1_31\",\"7_15\",\"8_17\",\"1_6\",\"1_7\",\"5_4\",\"3_6\",\"1_26\",\"4_8_3\",\"6_8_2\",\"2_3_4\",\"6_8_3\",\"3_16\",\"2_3_6\",\"1_30\",\"5_17\",\"7_14\",\"5_12\",\"2_7\",\"8_4_3\",\"7_18\",\"6_8_1\",\"6_15_3\",\"8_14\",\"8_16\",\"8_23\",\"8_3_3\",\"4_5\",\"2_3_5\",\"3_33\"],\"xaxis\":\"x\",\"y\":[24264,10961,5172,4944,4104,4095,3558,2787,2333,2007,1803,1592,1493,1390,1256,1208,1191,1190,1166,1104,1075,1054,1027,1024,1007,997,995,943,814,694,635,576,548,544,543,533,477,473,437,432,385,384,366,353,341,339,334,313,310,310,274,272,261,227,208,208,203,199,191,190,188,183,180,178,178,176,175,174,167,164,158,156,155,147,147,144,138,126,119,106,104,103,101,99,98,96,96,93,92,90,88,85,85,85,83,81,75,75,74,72,68,68,61,58,57,55,52,51,51,45,43,43,42,37,36,34,34,26,25,25,25,24,22,20,20,19,19,18,16,15,14,14,13,13,13,13,12,12,11,11,10,9,9,8,8,6,5,4,4,3,3,2,2,1,1],\"yaxis\":\"y\"}],                        {\"barmode\":\"relative\",\"legend\":{\"tracegroupgap\":0},\"template\":{\"data\":{\"bar\":[{\"error_x\":{\"color\":\"#2a3f5f\"},\"error_y\":{\"color\":\"#2a3f5f\"},\"marker\":{\"line\":{\"color\":\"#E5ECF6\",\"width\":0.5},\"pattern\":{\"fillmode\":\"overlay\",\"size\":10,\"solidity\":0.2}},\"type\":\"bar\"}],\"barpolar\":[{\"marker\":{\"line\":{\"color\":\"#E5ECF6\",\"width\":0.5},\"pattern\":{\"fillmode\":\"overlay\",\"size\":10,\"solidity\":0.2}},\"type\":\"barpolar\"}],\"carpet\":[{\"aaxis\":{\"endlinecolor\":\"#2a3f5f\",\"gridcolor\":\"white\",\"linecolor\":\"white\",\"minorgridcolor\":\"white\",\"startlinecolor\":\"#2a3f5f\"},\"baxis\":{\"endlinecolor\":\"#2a3f5f\",\"gridcolor\":\"white\",\"linecolor\":\"white\",\"minorgridcolor\":\"white\",\"startlinecolor\":\"#2a3f5f\"},\"type\":\"carpet\"}],\"choropleth\":[{\"colorbar\":{\"outlinewidth\":0,\"ticks\":\"\"},\"type\":\"choropleth\"}],\"contour\":[{\"colorbar\":{\"outlinewidth\":0,\"ticks\":\"\"},\"colorscale\":[[0.0,\"#0d0887\"],[0.1111111111111111,\"#46039f\"],[0.2222222222222222,\"#7201a8\"],[0.3333333333333333,\"#9c179e\"],[0.4444444444444444,\"#bd3786\"],[0.5555555555555556,\"#d8576b\"],[0.6666666666666666,\"#ed7953\"],[0.7777777777777778,\"#fb9f3a\"],[0.8888888888888888,\"#fdca26\"],[1.0,\"#f0f921\"]],\"type\":\"contour\"}],\"contourcarpet\":[{\"colorbar\":{\"outlinewidth\":0,\"ticks\":\"\"},\"type\":\"contourcarpet\"}],\"heatmap\":[{\"colorbar\":{\"outlinewidth\":0,\"ticks\":\"\"},\"colorscale\":[[0.0,\"#0d0887\"],[0.1111111111111111,\"#46039f\"],[0.2222222222222222,\"#7201a8\"],[0.3333333333333333,\"#9c179e\"],[0.4444444444444444,\"#bd3786\"],[0.5555555555555556,\"#d8576b\"],[0.6666666666666666,\"#ed7953\"],[0.7777777777777778,\"#fb9f3a\"],[0.8888888888888888,\"#fdca26\"],[1.0,\"#f0f921\"]],\"type\":\"heatmap\"}],\"heatmapgl\":[{\"colorbar\":{\"outlinewidth\":0,\"ticks\":\"\"},\"colorscale\":[[0.0,\"#0d0887\"],[0.1111111111111111,\"#46039f\"],[0.2222222222222222,\"#7201a8\"],[0.3333333333333333,\"#9c179e\"],[0.4444444444444444,\"#bd3786\"],[0.5555555555555556,\"#d8576b\"],[0.6666666666666666,\"#ed7953\"],[0.7777777777777778,\"#fb9f3a\"],[0.8888888888888888,\"#fdca26\"],[1.0,\"#f0f921\"]],\"type\":\"heatmapgl\"}],\"histogram\":[{\"marker\":{\"pattern\":{\"fillmode\":\"overlay\",\"size\":10,\"solidity\":0.2}},\"type\":\"histogram\"}],\"histogram2d\":[{\"colorbar\":{\"outlinewidth\":0,\"ticks\":\"\"},\"colorscale\":[[0.0,\"#0d0887\"],[0.1111111111111111,\"#46039f\"],[0.2222222222222222,\"#7201a8\"],[0.3333333333333333,\"#9c179e\"],[0.4444444444444444,\"#bd3786\"],[0.5555555555555556,\"#d8576b\"],[0.6666666666666666,\"#ed7953\"],[0.7777777777777778,\"#fb9f3a\"],[0.8888888888888888,\"#fdca26\"],[1.0,\"#f0f921\"]],\"type\":\"histogram2d\"}],\"histogram2dcontour\":[{\"colorbar\":{\"outlinewidth\":0,\"ticks\":\"\"},\"colorscale\":[[0.0,\"#0d0887\"],[0.1111111111111111,\"#46039f\"],[0.2222222222222222,\"#7201a8\"],[0.3333333333333333,\"#9c179e\"],[0.4444444444444444,\"#bd3786\"],[0.5555555555555556,\"#d8576b\"],[0.6666666666666666,\"#ed7953\"],[0.7777777777777778,\"#fb9f3a\"],[0.8888888888888888,\"#fdca26\"],[1.0,\"#f0f921\"]],\"type\":\"histogram2dcontour\"}],\"mesh3d\":[{\"colorbar\":{\"outlinewidth\":0,\"ticks\":\"\"},\"type\":\"mesh3d\"}],\"parcoords\":[{\"line\":{\"colorbar\":{\"outlinewidth\":0,\"ticks\":\"\"}},\"type\":\"parcoords\"}],\"pie\":[{\"automargin\":true,\"type\":\"pie\"}],\"scatter\":[{\"marker\":{\"colorbar\":{\"outlinewidth\":0,\"ticks\":\"\"}},\"type\":\"scatter\"}],\"scatter3d\":[{\"line\":{\"colorbar\":{\"outlinewidth\":0,\"ticks\":\"\"}},\"marker\":{\"colorbar\":{\"outlinewidth\":0,\"ticks\":\"\"}},\"type\":\"scatter3d\"}],\"scattercarpet\":[{\"marker\":{\"colorbar\":{\"outlinewidth\":0,\"ticks\":\"\"}},\"type\":\"scattercarpet\"}],\"scattergeo\":[{\"marker\":{\"colorbar\":{\"outlinewidth\":0,\"ticks\":\"\"}},\"type\":\"scattergeo\"}],\"scattergl\":[{\"marker\":{\"colorbar\":{\"outlinewidth\":0,\"ticks\":\"\"}},\"type\":\"scattergl\"}],\"scattermapbox\":[{\"marker\":{\"colorbar\":{\"outlinewidth\":0,\"ticks\":\"\"}},\"type\":\"scattermapbox\"}],\"scatterpolar\":[{\"marker\":{\"colorbar\":{\"outlinewidth\":0,\"ticks\":\"\"}},\"type\":\"scatterpolar\"}],\"scatterpolargl\":[{\"marker\":{\"colorbar\":{\"outlinewidth\":0,\"ticks\":\"\"}},\"type\":\"scatterpolargl\"}],\"scatterternary\":[{\"marker\":{\"colorbar\":{\"outlinewidth\":0,\"ticks\":\"\"}},\"type\":\"scatterternary\"}],\"surface\":[{\"colorbar\":{\"outlinewidth\":0,\"ticks\":\"\"},\"colorscale\":[[0.0,\"#0d0887\"],[0.1111111111111111,\"#46039f\"],[0.2222222222222222,\"#7201a8\"],[0.3333333333333333,\"#9c179e\"],[0.4444444444444444,\"#bd3786\"],[0.5555555555555556,\"#d8576b\"],[0.6666666666666666,\"#ed7953\"],[0.7777777777777778,\"#fb9f3a\"],[0.8888888888888888,\"#fdca26\"],[1.0,\"#f0f921\"]],\"type\":\"surface\"}],\"table\":[{\"cells\":{\"fill\":{\"color\":\"#EBF0F8\"},\"line\":{\"color\":\"white\"}},\"header\":{\"fill\":{\"color\":\"#C8D4E3\"},\"line\":{\"color\":\"white\"}},\"type\":\"table\"}]},\"layout\":{\"annotationdefaults\":{\"arrowcolor\":\"#2a3f5f\",\"arrowhead\":0,\"arrowwidth\":1},\"autotypenumbers\":\"strict\",\"coloraxis\":{\"colorbar\":{\"outlinewidth\":0,\"ticks\":\"\"}},\"colorscale\":{\"diverging\":[[0,\"#8e0152\"],[0.1,\"#c51b7d\"],[0.2,\"#de77ae\"],[0.3,\"#f1b6da\"],[0.4,\"#fde0ef\"],[0.5,\"#f7f7f7\"],[0.6,\"#e6f5d0\"],[0.7,\"#b8e186\"],[0.8,\"#7fbc41\"],[0.9,\"#4d9221\"],[1,\"#276419\"]],\"sequential\":[[0.0,\"#0d0887\"],[0.1111111111111111,\"#46039f\"],[0.2222222222222222,\"#7201a8\"],[0.3333333333333333,\"#9c179e\"],[0.4444444444444444,\"#bd3786\"],[0.5555555555555556,\"#d8576b\"],[0.6666666666666666,\"#ed7953\"],[0.7777777777777778,\"#fb9f3a\"],[0.8888888888888888,\"#fdca26\"],[1.0,\"#f0f921\"]],\"sequentialminus\":[[0.0,\"#0d0887\"],[0.1111111111111111,\"#46039f\"],[0.2222222222222222,\"#7201a8\"],[0.3333333333333333,\"#9c179e\"],[0.4444444444444444,\"#bd3786\"],[0.5555555555555556,\"#d8576b\"],[0.6666666666666666,\"#ed7953\"],[0.7777777777777778,\"#fb9f3a\"],[0.8888888888888888,\"#fdca26\"],[1.0,\"#f0f921\"]]},\"colorway\":[\"#636efa\",\"#EF553B\",\"#00cc96\",\"#ab63fa\",\"#FFA15A\",\"#19d3f3\",\"#FF6692\",\"#B6E880\",\"#FF97FF\",\"#FECB52\"],\"font\":{\"color\":\"#2a3f5f\"},\"geo\":{\"bgcolor\":\"white\",\"lakecolor\":\"white\",\"landcolor\":\"#E5ECF6\",\"showlakes\":true,\"showland\":true,\"subunitcolor\":\"white\"},\"hoverlabel\":{\"align\":\"left\"},\"hovermode\":\"closest\",\"mapbox\":{\"style\":\"light\"},\"paper_bgcolor\":\"white\",\"plot_bgcolor\":\"#E5ECF6\",\"polar\":{\"angularaxis\":{\"gridcolor\":\"white\",\"linecolor\":\"white\",\"ticks\":\"\"},\"bgcolor\":\"#E5ECF6\",\"radialaxis\":{\"gridcolor\":\"white\",\"linecolor\":\"white\",\"ticks\":\"\"}},\"scene\":{\"xaxis\":{\"backgroundcolor\":\"#E5ECF6\",\"gridcolor\":\"white\",\"gridwidth\":2,\"linecolor\":\"white\",\"showbackground\":true,\"ticks\":\"\",\"zerolinecolor\":\"white\"},\"yaxis\":{\"backgroundcolor\":\"#E5ECF6\",\"gridcolor\":\"white\",\"gridwidth\":2,\"linecolor\":\"white\",\"showbackground\":true,\"ticks\":\"\",\"zerolinecolor\":\"white\"},\"zaxis\":{\"backgroundcolor\":\"#E5ECF6\",\"gridcolor\":\"white\",\"gridwidth\":2,\"linecolor\":\"white\",\"showbackground\":true,\"ticks\":\"\",\"zerolinecolor\":\"white\"}},\"shapedefaults\":{\"line\":{\"color\":\"#2a3f5f\"}},\"ternary\":{\"aaxis\":{\"gridcolor\":\"white\",\"linecolor\":\"white\",\"ticks\":\"\"},\"baxis\":{\"gridcolor\":\"white\",\"linecolor\":\"white\",\"ticks\":\"\"},\"bgcolor\":\"#E5ECF6\",\"caxis\":{\"gridcolor\":\"white\",\"linecolor\":\"white\",\"ticks\":\"\"}},\"title\":{\"x\":0.05},\"xaxis\":{\"automargin\":true,\"gridcolor\":\"white\",\"linecolor\":\"white\",\"ticks\":\"\",\"title\":{\"standoff\":15},\"zerolinecolor\":\"white\",\"zerolinewidth\":2},\"yaxis\":{\"automargin\":true,\"gridcolor\":\"white\",\"linecolor\":\"white\",\"ticks\":\"\",\"title\":{\"standoff\":15},\"zerolinecolor\":\"white\",\"zerolinewidth\":2}}},\"title\":{\"text\":\"Distribution of sign_class\"},\"xaxis\":{\"anchor\":\"y\",\"domain\":[0.0,1.0],\"title\":{\"text\":\"category_name\"}},\"yaxis\":{\"anchor\":\"x\",\"domain\":[0.0,1.0],\"title\":{\"text\":\"count\"}}},                        {\"responsive\": true}                    ).then(function(){\n",
       "                            \n",
       "var gd = document.getElementById('878e551a-f6fa-4086-80d4-e286c6bdacca');\n",
       "var x = new MutationObserver(function (mutations, observer) {{\n",
       "        var display = window.getComputedStyle(gd).display;\n",
       "        if (!display || display === 'none') {{\n",
       "            console.log([gd, 'removed!']);\n",
       "            Plotly.purge(gd);\n",
       "            observer.disconnect();\n",
       "        }}\n",
       "}});\n",
       "\n",
       "// Listen for the removal of the full notebook cells\n",
       "var notebookContainer = gd.closest('#notebook-container');\n",
       "if (notebookContainer) {{\n",
       "    x.observe(notebookContainer, {childList: true});\n",
       "}}\n",
       "\n",
       "// Listen for the clearing of the current output cell\n",
       "var outputEl = gd.closest('.output');\n",
       "if (outputEl) {{\n",
       "    x.observe(outputEl, {childList: true});\n",
       "}}\n",
       "\n",
       "                        })                };                });            </script>        </div>"
      ]
     },
     "metadata": {},
     "output_type": "display_data"
    }
   ],
   "source": [
    "grouped_data = df.groupby('category_name').size().reset_index(name='count')\n",
    "grouped_data = grouped_data.sort_values(by='count', ascending=False)\n",
    "fig = px.bar(grouped_data, x='category_name' ,y ='count', \n",
    "             labels={'category_name': 'category_name'}, color_discrete_sequence=['blue'], \n",
    "             title=f'Distribution of sign_class')\n",
    "fig.show()"
   ]
  },
  {
   "cell_type": "code",
   "execution_count": 79,
   "id": "5d1af2a6",
   "metadata": {},
   "outputs": [],
   "source": [
    "df.drop('index', axis=1, inplace=True)"
   ]
  },
  {
   "cell_type": "code",
   "execution_count": 80,
   "id": "5df57258",
   "metadata": {},
   "outputs": [
    {
     "data": {
      "text/html": [
       "<div>\n",
       "<style scoped>\n",
       "    .dataframe tbody tr th:only-of-type {\n",
       "        vertical-align: middle;\n",
       "    }\n",
       "\n",
       "    .dataframe tbody tr th {\n",
       "        vertical-align: top;\n",
       "    }\n",
       "\n",
       "    .dataframe thead th {\n",
       "        text-align: right;\n",
       "    }\n",
       "</style>\n",
       "<table border=\"1\" class=\"dataframe\">\n",
       "  <thead>\n",
       "    <tr style=\"text-align: right;\">\n",
       "      <th></th>\n",
       "      <th>width</th>\n",
       "      <th>height</th>\n",
       "      <th>file_name</th>\n",
       "      <th>image_id</th>\n",
       "      <th>category_id</th>\n",
       "      <th>area</th>\n",
       "      <th>iscrowd</th>\n",
       "      <th>category_name</th>\n",
       "      <th>x</th>\n",
       "      <th>y</th>\n",
       "      <th>w</th>\n",
       "      <th>h</th>\n",
       "    </tr>\n",
       "  </thead>\n",
       "  <tbody>\n",
       "    <tr>\n",
       "      <th>0</th>\n",
       "      <td>1280</td>\n",
       "      <td>720</td>\n",
       "      <td>rtsd-frames/autosave01_02_2012_09_13_33.jpg</td>\n",
       "      <td>0</td>\n",
       "      <td>1</td>\n",
       "      <td>324</td>\n",
       "      <td>0</td>\n",
       "      <td>2_1</td>\n",
       "      <td>649</td>\n",
       "      <td>376</td>\n",
       "      <td>18</td>\n",
       "      <td>18</td>\n",
       "    </tr>\n",
       "    <tr>\n",
       "      <th>1</th>\n",
       "      <td>1280</td>\n",
       "      <td>720</td>\n",
       "      <td>rtsd-frames/autosave01_02_2012_09_13_34.jpg</td>\n",
       "      <td>1</td>\n",
       "      <td>1</td>\n",
       "      <td>420</td>\n",
       "      <td>0</td>\n",
       "      <td>2_1</td>\n",
       "      <td>671</td>\n",
       "      <td>356</td>\n",
       "      <td>20</td>\n",
       "      <td>21</td>\n",
       "    </tr>\n",
       "    <tr>\n",
       "      <th>2</th>\n",
       "      <td>1280</td>\n",
       "      <td>720</td>\n",
       "      <td>rtsd-frames/autosave01_02_2012_09_13_35.jpg</td>\n",
       "      <td>2</td>\n",
       "      <td>1</td>\n",
       "      <td>702</td>\n",
       "      <td>0</td>\n",
       "      <td>2_1</td>\n",
       "      <td>711</td>\n",
       "      <td>332</td>\n",
       "      <td>27</td>\n",
       "      <td>26</td>\n",
       "    </tr>\n",
       "    <tr>\n",
       "      <th>3</th>\n",
       "      <td>1280</td>\n",
       "      <td>720</td>\n",
       "      <td>rtsd-frames/autosave01_02_2012_09_13_36.jpg</td>\n",
       "      <td>3</td>\n",
       "      <td>1</td>\n",
       "      <td>1332</td>\n",
       "      <td>0</td>\n",
       "      <td>2_1</td>\n",
       "      <td>764</td>\n",
       "      <td>290</td>\n",
       "      <td>37</td>\n",
       "      <td>36</td>\n",
       "    </tr>\n",
       "    <tr>\n",
       "      <th>4</th>\n",
       "      <td>1280</td>\n",
       "      <td>720</td>\n",
       "      <td>rtsd-frames/autosave01_02_2012_09_13_37.jpg</td>\n",
       "      <td>4</td>\n",
       "      <td>1</td>\n",
       "      <td>3192</td>\n",
       "      <td>0</td>\n",
       "      <td>2_1</td>\n",
       "      <td>876</td>\n",
       "      <td>200</td>\n",
       "      <td>56</td>\n",
       "      <td>57</td>\n",
       "    </tr>\n",
       "    <tr>\n",
       "      <th>...</th>\n",
       "      <td>...</td>\n",
       "      <td>...</td>\n",
       "      <td>...</td>\n",
       "      <td>...</td>\n",
       "      <td>...</td>\n",
       "      <td>...</td>\n",
       "      <td>...</td>\n",
       "      <td>...</td>\n",
       "      <td>...</td>\n",
       "      <td>...</td>\n",
       "      <td>...</td>\n",
       "      <td>...</td>\n",
       "    </tr>\n",
       "    <tr>\n",
       "      <th>104353</th>\n",
       "      <td>1920</td>\n",
       "      <td>1080</td>\n",
       "      <td>rtsd-frames/autosave16_04_2013_13_34_06_2.jpg</td>\n",
       "      <td>32502</td>\n",
       "      <td>147</td>\n",
       "      <td>840</td>\n",
       "      <td>0</td>\n",
       "      <td>1_26</td>\n",
       "      <td>1192</td>\n",
       "      <td>838</td>\n",
       "      <td>30</td>\n",
       "      <td>28</td>\n",
       "    </tr>\n",
       "    <tr>\n",
       "      <th>104354</th>\n",
       "      <td>1280</td>\n",
       "      <td>720</td>\n",
       "      <td>rtsd-frames/autosave24_10_2013_11_21_12_0.jpg</td>\n",
       "      <td>57590</td>\n",
       "      <td>153</td>\n",
       "      <td>1000</td>\n",
       "      <td>0</td>\n",
       "      <td>7_18</td>\n",
       "      <td>869</td>\n",
       "      <td>350</td>\n",
       "      <td>25</td>\n",
       "      <td>40</td>\n",
       "    </tr>\n",
       "    <tr>\n",
       "      <th>104355</th>\n",
       "      <td>1280</td>\n",
       "      <td>720</td>\n",
       "      <td>rtsd-frames/autosave10_10_2012_09_29_51_1.jpg</td>\n",
       "      <td>18492</td>\n",
       "      <td>133</td>\n",
       "      <td>899</td>\n",
       "      <td>0</td>\n",
       "      <td>5_12</td>\n",
       "      <td>781</td>\n",
       "      <td>333</td>\n",
       "      <td>31</td>\n",
       "      <td>29</td>\n",
       "    </tr>\n",
       "    <tr>\n",
       "      <th>104356</th>\n",
       "      <td>1280</td>\n",
       "      <td>720</td>\n",
       "      <td>rtsd-frames/autosave16_10_2012_08_36_42_0.jpg</td>\n",
       "      <td>38147</td>\n",
       "      <td>149</td>\n",
       "      <td>966</td>\n",
       "      <td>0</td>\n",
       "      <td>6_8_1</td>\n",
       "      <td>820</td>\n",
       "      <td>316</td>\n",
       "      <td>23</td>\n",
       "      <td>42</td>\n",
       "    </tr>\n",
       "    <tr>\n",
       "      <th>104357</th>\n",
       "      <td>1280</td>\n",
       "      <td>720</td>\n",
       "      <td>rtsd-frames/autosave09_10_2012_11_07_59_3.jpg</td>\n",
       "      <td>8241</td>\n",
       "      <td>114</td>\n",
       "      <td>2756</td>\n",
       "      <td>0</td>\n",
       "      <td>2_7</td>\n",
       "      <td>799</td>\n",
       "      <td>333</td>\n",
       "      <td>52</td>\n",
       "      <td>53</td>\n",
       "    </tr>\n",
       "  </tbody>\n",
       "</table>\n",
       "<p>104358 rows × 12 columns</p>\n",
       "</div>"
      ],
      "text/plain": [
       "        width  height                                      file_name  \\\n",
       "0        1280     720    rtsd-frames/autosave01_02_2012_09_13_33.jpg   \n",
       "1        1280     720    rtsd-frames/autosave01_02_2012_09_13_34.jpg   \n",
       "2        1280     720    rtsd-frames/autosave01_02_2012_09_13_35.jpg   \n",
       "3        1280     720    rtsd-frames/autosave01_02_2012_09_13_36.jpg   \n",
       "4        1280     720    rtsd-frames/autosave01_02_2012_09_13_37.jpg   \n",
       "...       ...     ...                                            ...   \n",
       "104353   1920    1080  rtsd-frames/autosave16_04_2013_13_34_06_2.jpg   \n",
       "104354   1280     720  rtsd-frames/autosave24_10_2013_11_21_12_0.jpg   \n",
       "104355   1280     720  rtsd-frames/autosave10_10_2012_09_29_51_1.jpg   \n",
       "104356   1280     720  rtsd-frames/autosave16_10_2012_08_36_42_0.jpg   \n",
       "104357   1280     720  rtsd-frames/autosave09_10_2012_11_07_59_3.jpg   \n",
       "\n",
       "        image_id  category_id  area  iscrowd category_name     x    y   w   h  \n",
       "0              0            1   324        0           2_1   649  376  18  18  \n",
       "1              1            1   420        0           2_1   671  356  20  21  \n",
       "2              2            1   702        0           2_1   711  332  27  26  \n",
       "3              3            1  1332        0           2_1   764  290  37  36  \n",
       "4              4            1  3192        0           2_1   876  200  56  57  \n",
       "...          ...          ...   ...      ...           ...   ...  ...  ..  ..  \n",
       "104353     32502          147   840        0          1_26  1192  838  30  28  \n",
       "104354     57590          153  1000        0          7_18   869  350  25  40  \n",
       "104355     18492          133   899        0          5_12   781  333  31  29  \n",
       "104356     38147          149   966        0         6_8_1   820  316  23  42  \n",
       "104357      8241          114  2756        0           2_7   799  333  52  53  \n",
       "\n",
       "[104358 rows x 12 columns]"
      ]
     },
     "execution_count": 80,
     "metadata": {},
     "output_type": "execute_result"
    }
   ],
   "source": [
    "df"
   ]
  },
  {
   "cell_type": "markdown",
   "id": "b775a064",
   "metadata": {},
   "source": [
    "## Уменьшение датасета"
   ]
  },
  {
   "cell_type": "code",
   "execution_count": 94,
   "id": "8bd34766",
   "metadata": {},
   "outputs": [],
   "source": [
    "df_result = pd.DataFrame()\n",
    "\n",
    "for cat_name in df['category_name'].unique():\n",
    "    df_cat = df[df['category_name'] == cat_name]\n",
    "    df_cat = df_cat.sample(frac=1).reset_index(drop=True).iloc[:500]\n",
    "    df_result = pd.concat([df_result, df_cat], axis=0)"
   ]
  },
  {
   "cell_type": "code",
   "execution_count": 95,
   "id": "6158b8c1",
   "metadata": {},
   "outputs": [
    {
     "data": {
      "application/vnd.plotly.v1+json": {
       "config": {
        "plotlyServerURL": "https://plot.ly"
       },
       "data": [
        {
         "alignmentgroup": "True",
         "hovertemplate": "category_name=%{x}<br>count=%{y}<extra></extra>",
         "legendgroup": "",
         "marker": {
          "color": "blue",
          "pattern": {
           "shape": ""
          }
         },
         "name": "",
         "offsetgroup": "",
         "orientation": "v",
         "showlegend": false,
         "textposition": "auto",
         "type": "bar",
         "x": [
          "1_1",
          "5_5",
          "5_19_1",
          "5_20",
          "5_21",
          "5_22",
          "5_3",
          "5_4",
          "5_6",
          "5_16",
          "5_7_1",
          "5_7_2",
          "6_15_1",
          "6_15_2",
          "6_15_3",
          "6_16",
          "5_18",
          "5_15_7",
          "6_3_1",
          "4_8_3",
          "4_1_6",
          "4_2_1",
          "4_2_2",
          "4_3",
          "4_5",
          "4_8_2",
          "5_11",
          "5_15_5",
          "5_12",
          "5_14",
          "5_15_1",
          "5_15_2",
          "5_15_2_2",
          "5_15_3",
          "6_2",
          "6_4",
          "4_1_4",
          "8_3_1",
          "8_1_3",
          "8_1_4",
          "8_2_1",
          "8_2_2",
          "8_2_3",
          "8_2_4",
          "8_3_2",
          "8_18",
          "8_3_3",
          "8_4_1",
          "8_4_4",
          "8_5_4",
          "8_6_2",
          "8_6_4",
          "8_1_1",
          "8_15",
          "6_6",
          "7_15",
          "6_7",
          "6_8_2",
          "6_8_3",
          "7_1",
          "7_11",
          "7_12",
          "7_2",
          "8_13_1",
          "7_3",
          "7_4",
          "7_5",
          "7_6",
          "7_7",
          "8_13",
          "4_1_5",
          "4_2_3",
          "4_1_3",
          "2_3_6",
          "1_25",
          "1_27",
          "1_30",
          "1_31",
          "1_33",
          "1_5",
          "1_6",
          "1_7",
          "1_8",
          "2_1",
          "2_2",
          "2_3",
          "4_1_2_2",
          "2_3_3",
          "2_3_4",
          "1_23",
          "1_22",
          "1_21",
          "1_15",
          "1_11",
          "1_11_1",
          "1_12",
          "1_12_2",
          "1_13",
          "1_14",
          "1_16",
          "1_20_3",
          "1_17",
          "1_18",
          "1_19",
          "1_2",
          "1_20",
          "1_20_2",
          "2_3_5",
          "2_3_2",
          "2_4",
          "3_2",
          "2_5",
          "3_24",
          "3_25",
          "3_27",
          "3_28",
          "3_29",
          "3_30",
          "3_31",
          "3_32",
          "3_33",
          "3_4",
          "3_4_1",
          "4_1_1",
          "4_1_2",
          "4_1_2_1",
          "3_20",
          "3_21",
          "3_13",
          "3_14",
          "2_6",
          "2_7",
          "3_1",
          "3_10",
          "3_11",
          "3_12",
          "8_8",
          "3_19",
          "3_18",
          "3_18_2",
          "3_16",
          "8_4_3",
          "8_5_2",
          "5_8",
          "1_10",
          "8_17",
          "3_6",
          "1_26",
          "5_17",
          "7_14",
          "7_18",
          "6_8_1",
          "8_14",
          "8_16",
          "8_23"
         ],
         "xaxis": "x",
         "y": [
          500,
          500,
          500,
          500,
          500,
          500,
          500,
          500,
          500,
          500,
          500,
          500,
          500,
          500,
          500,
          500,
          500,
          500,
          500,
          500,
          500,
          500,
          500,
          500,
          500,
          500,
          500,
          500,
          500,
          500,
          500,
          500,
          500,
          500,
          500,
          500,
          500,
          500,
          500,
          500,
          500,
          500,
          500,
          500,
          500,
          500,
          500,
          500,
          500,
          500,
          500,
          500,
          500,
          500,
          500,
          500,
          500,
          500,
          500,
          500,
          500,
          500,
          500,
          500,
          500,
          500,
          500,
          500,
          500,
          500,
          500,
          500,
          500,
          500,
          500,
          500,
          500,
          500,
          500,
          500,
          500,
          500,
          500,
          500,
          500,
          500,
          500,
          500,
          500,
          500,
          500,
          500,
          500,
          500,
          500,
          500,
          500,
          500,
          500,
          500,
          500,
          500,
          500,
          500,
          500,
          500,
          500,
          500,
          500,
          500,
          500,
          500,
          500,
          500,
          500,
          500,
          500,
          500,
          500,
          500,
          500,
          500,
          500,
          500,
          500,
          500,
          500,
          500,
          500,
          500,
          500,
          500,
          500,
          500,
          500,
          500,
          500,
          500,
          500,
          500,
          500,
          258,
          81,
          34,
          22,
          18,
          14,
          13,
          10,
          9,
          6,
          5,
          4,
          3,
          3
         ],
         "yaxis": "y"
        }
       ],
       "layout": {
        "barmode": "relative",
        "legend": {
         "tracegroupgap": 0
        },
        "template": {
         "data": {
          "bar": [
           {
            "error_x": {
             "color": "#2a3f5f"
            },
            "error_y": {
             "color": "#2a3f5f"
            },
            "marker": {
             "line": {
              "color": "#E5ECF6",
              "width": 0.5
             },
             "pattern": {
              "fillmode": "overlay",
              "size": 10,
              "solidity": 0.2
             }
            },
            "type": "bar"
           }
          ],
          "barpolar": [
           {
            "marker": {
             "line": {
              "color": "#E5ECF6",
              "width": 0.5
             },
             "pattern": {
              "fillmode": "overlay",
              "size": 10,
              "solidity": 0.2
             }
            },
            "type": "barpolar"
           }
          ],
          "carpet": [
           {
            "aaxis": {
             "endlinecolor": "#2a3f5f",
             "gridcolor": "white",
             "linecolor": "white",
             "minorgridcolor": "white",
             "startlinecolor": "#2a3f5f"
            },
            "baxis": {
             "endlinecolor": "#2a3f5f",
             "gridcolor": "white",
             "linecolor": "white",
             "minorgridcolor": "white",
             "startlinecolor": "#2a3f5f"
            },
            "type": "carpet"
           }
          ],
          "choropleth": [
           {
            "colorbar": {
             "outlinewidth": 0,
             "ticks": ""
            },
            "type": "choropleth"
           }
          ],
          "contour": [
           {
            "colorbar": {
             "outlinewidth": 0,
             "ticks": ""
            },
            "colorscale": [
             [
              0,
              "#0d0887"
             ],
             [
              0.1111111111111111,
              "#46039f"
             ],
             [
              0.2222222222222222,
              "#7201a8"
             ],
             [
              0.3333333333333333,
              "#9c179e"
             ],
             [
              0.4444444444444444,
              "#bd3786"
             ],
             [
              0.5555555555555556,
              "#d8576b"
             ],
             [
              0.6666666666666666,
              "#ed7953"
             ],
             [
              0.7777777777777778,
              "#fb9f3a"
             ],
             [
              0.8888888888888888,
              "#fdca26"
             ],
             [
              1,
              "#f0f921"
             ]
            ],
            "type": "contour"
           }
          ],
          "contourcarpet": [
           {
            "colorbar": {
             "outlinewidth": 0,
             "ticks": ""
            },
            "type": "contourcarpet"
           }
          ],
          "heatmap": [
           {
            "colorbar": {
             "outlinewidth": 0,
             "ticks": ""
            },
            "colorscale": [
             [
              0,
              "#0d0887"
             ],
             [
              0.1111111111111111,
              "#46039f"
             ],
             [
              0.2222222222222222,
              "#7201a8"
             ],
             [
              0.3333333333333333,
              "#9c179e"
             ],
             [
              0.4444444444444444,
              "#bd3786"
             ],
             [
              0.5555555555555556,
              "#d8576b"
             ],
             [
              0.6666666666666666,
              "#ed7953"
             ],
             [
              0.7777777777777778,
              "#fb9f3a"
             ],
             [
              0.8888888888888888,
              "#fdca26"
             ],
             [
              1,
              "#f0f921"
             ]
            ],
            "type": "heatmap"
           }
          ],
          "heatmapgl": [
           {
            "colorbar": {
             "outlinewidth": 0,
             "ticks": ""
            },
            "colorscale": [
             [
              0,
              "#0d0887"
             ],
             [
              0.1111111111111111,
              "#46039f"
             ],
             [
              0.2222222222222222,
              "#7201a8"
             ],
             [
              0.3333333333333333,
              "#9c179e"
             ],
             [
              0.4444444444444444,
              "#bd3786"
             ],
             [
              0.5555555555555556,
              "#d8576b"
             ],
             [
              0.6666666666666666,
              "#ed7953"
             ],
             [
              0.7777777777777778,
              "#fb9f3a"
             ],
             [
              0.8888888888888888,
              "#fdca26"
             ],
             [
              1,
              "#f0f921"
             ]
            ],
            "type": "heatmapgl"
           }
          ],
          "histogram": [
           {
            "marker": {
             "pattern": {
              "fillmode": "overlay",
              "size": 10,
              "solidity": 0.2
             }
            },
            "type": "histogram"
           }
          ],
          "histogram2d": [
           {
            "colorbar": {
             "outlinewidth": 0,
             "ticks": ""
            },
            "colorscale": [
             [
              0,
              "#0d0887"
             ],
             [
              0.1111111111111111,
              "#46039f"
             ],
             [
              0.2222222222222222,
              "#7201a8"
             ],
             [
              0.3333333333333333,
              "#9c179e"
             ],
             [
              0.4444444444444444,
              "#bd3786"
             ],
             [
              0.5555555555555556,
              "#d8576b"
             ],
             [
              0.6666666666666666,
              "#ed7953"
             ],
             [
              0.7777777777777778,
              "#fb9f3a"
             ],
             [
              0.8888888888888888,
              "#fdca26"
             ],
             [
              1,
              "#f0f921"
             ]
            ],
            "type": "histogram2d"
           }
          ],
          "histogram2dcontour": [
           {
            "colorbar": {
             "outlinewidth": 0,
             "ticks": ""
            },
            "colorscale": [
             [
              0,
              "#0d0887"
             ],
             [
              0.1111111111111111,
              "#46039f"
             ],
             [
              0.2222222222222222,
              "#7201a8"
             ],
             [
              0.3333333333333333,
              "#9c179e"
             ],
             [
              0.4444444444444444,
              "#bd3786"
             ],
             [
              0.5555555555555556,
              "#d8576b"
             ],
             [
              0.6666666666666666,
              "#ed7953"
             ],
             [
              0.7777777777777778,
              "#fb9f3a"
             ],
             [
              0.8888888888888888,
              "#fdca26"
             ],
             [
              1,
              "#f0f921"
             ]
            ],
            "type": "histogram2dcontour"
           }
          ],
          "mesh3d": [
           {
            "colorbar": {
             "outlinewidth": 0,
             "ticks": ""
            },
            "type": "mesh3d"
           }
          ],
          "parcoords": [
           {
            "line": {
             "colorbar": {
              "outlinewidth": 0,
              "ticks": ""
             }
            },
            "type": "parcoords"
           }
          ],
          "pie": [
           {
            "automargin": true,
            "type": "pie"
           }
          ],
          "scatter": [
           {
            "marker": {
             "colorbar": {
              "outlinewidth": 0,
              "ticks": ""
             }
            },
            "type": "scatter"
           }
          ],
          "scatter3d": [
           {
            "line": {
             "colorbar": {
              "outlinewidth": 0,
              "ticks": ""
             }
            },
            "marker": {
             "colorbar": {
              "outlinewidth": 0,
              "ticks": ""
             }
            },
            "type": "scatter3d"
           }
          ],
          "scattercarpet": [
           {
            "marker": {
             "colorbar": {
              "outlinewidth": 0,
              "ticks": ""
             }
            },
            "type": "scattercarpet"
           }
          ],
          "scattergeo": [
           {
            "marker": {
             "colorbar": {
              "outlinewidth": 0,
              "ticks": ""
             }
            },
            "type": "scattergeo"
           }
          ],
          "scattergl": [
           {
            "marker": {
             "colorbar": {
              "outlinewidth": 0,
              "ticks": ""
             }
            },
            "type": "scattergl"
           }
          ],
          "scattermapbox": [
           {
            "marker": {
             "colorbar": {
              "outlinewidth": 0,
              "ticks": ""
             }
            },
            "type": "scattermapbox"
           }
          ],
          "scatterpolar": [
           {
            "marker": {
             "colorbar": {
              "outlinewidth": 0,
              "ticks": ""
             }
            },
            "type": "scatterpolar"
           }
          ],
          "scatterpolargl": [
           {
            "marker": {
             "colorbar": {
              "outlinewidth": 0,
              "ticks": ""
             }
            },
            "type": "scatterpolargl"
           }
          ],
          "scatterternary": [
           {
            "marker": {
             "colorbar": {
              "outlinewidth": 0,
              "ticks": ""
             }
            },
            "type": "scatterternary"
           }
          ],
          "surface": [
           {
            "colorbar": {
             "outlinewidth": 0,
             "ticks": ""
            },
            "colorscale": [
             [
              0,
              "#0d0887"
             ],
             [
              0.1111111111111111,
              "#46039f"
             ],
             [
              0.2222222222222222,
              "#7201a8"
             ],
             [
              0.3333333333333333,
              "#9c179e"
             ],
             [
              0.4444444444444444,
              "#bd3786"
             ],
             [
              0.5555555555555556,
              "#d8576b"
             ],
             [
              0.6666666666666666,
              "#ed7953"
             ],
             [
              0.7777777777777778,
              "#fb9f3a"
             ],
             [
              0.8888888888888888,
              "#fdca26"
             ],
             [
              1,
              "#f0f921"
             ]
            ],
            "type": "surface"
           }
          ],
          "table": [
           {
            "cells": {
             "fill": {
              "color": "#EBF0F8"
             },
             "line": {
              "color": "white"
             }
            },
            "header": {
             "fill": {
              "color": "#C8D4E3"
             },
             "line": {
              "color": "white"
             }
            },
            "type": "table"
           }
          ]
         },
         "layout": {
          "annotationdefaults": {
           "arrowcolor": "#2a3f5f",
           "arrowhead": 0,
           "arrowwidth": 1
          },
          "autotypenumbers": "strict",
          "coloraxis": {
           "colorbar": {
            "outlinewidth": 0,
            "ticks": ""
           }
          },
          "colorscale": {
           "diverging": [
            [
             0,
             "#8e0152"
            ],
            [
             0.1,
             "#c51b7d"
            ],
            [
             0.2,
             "#de77ae"
            ],
            [
             0.3,
             "#f1b6da"
            ],
            [
             0.4,
             "#fde0ef"
            ],
            [
             0.5,
             "#f7f7f7"
            ],
            [
             0.6,
             "#e6f5d0"
            ],
            [
             0.7,
             "#b8e186"
            ],
            [
             0.8,
             "#7fbc41"
            ],
            [
             0.9,
             "#4d9221"
            ],
            [
             1,
             "#276419"
            ]
           ],
           "sequential": [
            [
             0,
             "#0d0887"
            ],
            [
             0.1111111111111111,
             "#46039f"
            ],
            [
             0.2222222222222222,
             "#7201a8"
            ],
            [
             0.3333333333333333,
             "#9c179e"
            ],
            [
             0.4444444444444444,
             "#bd3786"
            ],
            [
             0.5555555555555556,
             "#d8576b"
            ],
            [
             0.6666666666666666,
             "#ed7953"
            ],
            [
             0.7777777777777778,
             "#fb9f3a"
            ],
            [
             0.8888888888888888,
             "#fdca26"
            ],
            [
             1,
             "#f0f921"
            ]
           ],
           "sequentialminus": [
            [
             0,
             "#0d0887"
            ],
            [
             0.1111111111111111,
             "#46039f"
            ],
            [
             0.2222222222222222,
             "#7201a8"
            ],
            [
             0.3333333333333333,
             "#9c179e"
            ],
            [
             0.4444444444444444,
             "#bd3786"
            ],
            [
             0.5555555555555556,
             "#d8576b"
            ],
            [
             0.6666666666666666,
             "#ed7953"
            ],
            [
             0.7777777777777778,
             "#fb9f3a"
            ],
            [
             0.8888888888888888,
             "#fdca26"
            ],
            [
             1,
             "#f0f921"
            ]
           ]
          },
          "colorway": [
           "#636efa",
           "#EF553B",
           "#00cc96",
           "#ab63fa",
           "#FFA15A",
           "#19d3f3",
           "#FF6692",
           "#B6E880",
           "#FF97FF",
           "#FECB52"
          ],
          "font": {
           "color": "#2a3f5f"
          },
          "geo": {
           "bgcolor": "white",
           "lakecolor": "white",
           "landcolor": "#E5ECF6",
           "showlakes": true,
           "showland": true,
           "subunitcolor": "white"
          },
          "hoverlabel": {
           "align": "left"
          },
          "hovermode": "closest",
          "mapbox": {
           "style": "light"
          },
          "paper_bgcolor": "white",
          "plot_bgcolor": "#E5ECF6",
          "polar": {
           "angularaxis": {
            "gridcolor": "white",
            "linecolor": "white",
            "ticks": ""
           },
           "bgcolor": "#E5ECF6",
           "radialaxis": {
            "gridcolor": "white",
            "linecolor": "white",
            "ticks": ""
           }
          },
          "scene": {
           "xaxis": {
            "backgroundcolor": "#E5ECF6",
            "gridcolor": "white",
            "gridwidth": 2,
            "linecolor": "white",
            "showbackground": true,
            "ticks": "",
            "zerolinecolor": "white"
           },
           "yaxis": {
            "backgroundcolor": "#E5ECF6",
            "gridcolor": "white",
            "gridwidth": 2,
            "linecolor": "white",
            "showbackground": true,
            "ticks": "",
            "zerolinecolor": "white"
           },
           "zaxis": {
            "backgroundcolor": "#E5ECF6",
            "gridcolor": "white",
            "gridwidth": 2,
            "linecolor": "white",
            "showbackground": true,
            "ticks": "",
            "zerolinecolor": "white"
           }
          },
          "shapedefaults": {
           "line": {
            "color": "#2a3f5f"
           }
          },
          "ternary": {
           "aaxis": {
            "gridcolor": "white",
            "linecolor": "white",
            "ticks": ""
           },
           "baxis": {
            "gridcolor": "white",
            "linecolor": "white",
            "ticks": ""
           },
           "bgcolor": "#E5ECF6",
           "caxis": {
            "gridcolor": "white",
            "linecolor": "white",
            "ticks": ""
           }
          },
          "title": {
           "x": 0.05
          },
          "xaxis": {
           "automargin": true,
           "gridcolor": "white",
           "linecolor": "white",
           "ticks": "",
           "title": {
            "standoff": 15
           },
           "zerolinecolor": "white",
           "zerolinewidth": 2
          },
          "yaxis": {
           "automargin": true,
           "gridcolor": "white",
           "linecolor": "white",
           "ticks": "",
           "title": {
            "standoff": 15
           },
           "zerolinecolor": "white",
           "zerolinewidth": 2
          }
         }
        },
        "title": {
         "text": "Distribution of sign_class"
        },
        "xaxis": {
         "anchor": "y",
         "domain": [
          0,
          1
         ],
         "title": {
          "text": "category_name"
         }
        },
        "yaxis": {
         "anchor": "x",
         "domain": [
          0,
          1
         ],
         "title": {
          "text": "count"
         }
        }
       }
      },
      "text/html": [
       "<div>                            <div id=\"8d6fd8bd-b150-4f7a-a4c2-e0b10e37c510\" class=\"plotly-graph-div\" style=\"height:525px; width:100%;\"></div>            <script type=\"text/javascript\">                require([\"plotly\"], function(Plotly) {                    window.PLOTLYENV=window.PLOTLYENV || {};                                    if (document.getElementById(\"8d6fd8bd-b150-4f7a-a4c2-e0b10e37c510\")) {                    Plotly.newPlot(                        \"8d6fd8bd-b150-4f7a-a4c2-e0b10e37c510\",                        [{\"alignmentgroup\":\"True\",\"hovertemplate\":\"category_name=%{x}<br>count=%{y}<extra></extra>\",\"legendgroup\":\"\",\"marker\":{\"color\":\"blue\",\"pattern\":{\"shape\":\"\"}},\"name\":\"\",\"offsetgroup\":\"\",\"orientation\":\"v\",\"showlegend\":false,\"textposition\":\"auto\",\"type\":\"bar\",\"x\":[\"1_1\",\"5_5\",\"5_19_1\",\"5_20\",\"5_21\",\"5_22\",\"5_3\",\"5_4\",\"5_6\",\"5_16\",\"5_7_1\",\"5_7_2\",\"6_15_1\",\"6_15_2\",\"6_15_3\",\"6_16\",\"5_18\",\"5_15_7\",\"6_3_1\",\"4_8_3\",\"4_1_6\",\"4_2_1\",\"4_2_2\",\"4_3\",\"4_5\",\"4_8_2\",\"5_11\",\"5_15_5\",\"5_12\",\"5_14\",\"5_15_1\",\"5_15_2\",\"5_15_2_2\",\"5_15_3\",\"6_2\",\"6_4\",\"4_1_4\",\"8_3_1\",\"8_1_3\",\"8_1_4\",\"8_2_1\",\"8_2_2\",\"8_2_3\",\"8_2_4\",\"8_3_2\",\"8_18\",\"8_3_3\",\"8_4_1\",\"8_4_4\",\"8_5_4\",\"8_6_2\",\"8_6_4\",\"8_1_1\",\"8_15\",\"6_6\",\"7_15\",\"6_7\",\"6_8_2\",\"6_8_3\",\"7_1\",\"7_11\",\"7_12\",\"7_2\",\"8_13_1\",\"7_3\",\"7_4\",\"7_5\",\"7_6\",\"7_7\",\"8_13\",\"4_1_5\",\"4_2_3\",\"4_1_3\",\"2_3_6\",\"1_25\",\"1_27\",\"1_30\",\"1_31\",\"1_33\",\"1_5\",\"1_6\",\"1_7\",\"1_8\",\"2_1\",\"2_2\",\"2_3\",\"4_1_2_2\",\"2_3_3\",\"2_3_4\",\"1_23\",\"1_22\",\"1_21\",\"1_15\",\"1_11\",\"1_11_1\",\"1_12\",\"1_12_2\",\"1_13\",\"1_14\",\"1_16\",\"1_20_3\",\"1_17\",\"1_18\",\"1_19\",\"1_2\",\"1_20\",\"1_20_2\",\"2_3_5\",\"2_3_2\",\"2_4\",\"3_2\",\"2_5\",\"3_24\",\"3_25\",\"3_27\",\"3_28\",\"3_29\",\"3_30\",\"3_31\",\"3_32\",\"3_33\",\"3_4\",\"3_4_1\",\"4_1_1\",\"4_1_2\",\"4_1_2_1\",\"3_20\",\"3_21\",\"3_13\",\"3_14\",\"2_6\",\"2_7\",\"3_1\",\"3_10\",\"3_11\",\"3_12\",\"8_8\",\"3_19\",\"3_18\",\"3_18_2\",\"3_16\",\"8_4_3\",\"8_5_2\",\"5_8\",\"1_10\",\"8_17\",\"3_6\",\"1_26\",\"5_17\",\"7_14\",\"7_18\",\"6_8_1\",\"8_14\",\"8_16\",\"8_23\"],\"xaxis\":\"x\",\"y\":[500,500,500,500,500,500,500,500,500,500,500,500,500,500,500,500,500,500,500,500,500,500,500,500,500,500,500,500,500,500,500,500,500,500,500,500,500,500,500,500,500,500,500,500,500,500,500,500,500,500,500,500,500,500,500,500,500,500,500,500,500,500,500,500,500,500,500,500,500,500,500,500,500,500,500,500,500,500,500,500,500,500,500,500,500,500,500,500,500,500,500,500,500,500,500,500,500,500,500,500,500,500,500,500,500,500,500,500,500,500,500,500,500,500,500,500,500,500,500,500,500,500,500,500,500,500,500,500,500,500,500,500,500,500,500,500,500,500,500,500,500,258,81,34,22,18,14,13,10,9,6,5,4,3,3],\"yaxis\":\"y\"}],                        {\"barmode\":\"relative\",\"legend\":{\"tracegroupgap\":0},\"template\":{\"data\":{\"bar\":[{\"error_x\":{\"color\":\"#2a3f5f\"},\"error_y\":{\"color\":\"#2a3f5f\"},\"marker\":{\"line\":{\"color\":\"#E5ECF6\",\"width\":0.5},\"pattern\":{\"fillmode\":\"overlay\",\"size\":10,\"solidity\":0.2}},\"type\":\"bar\"}],\"barpolar\":[{\"marker\":{\"line\":{\"color\":\"#E5ECF6\",\"width\":0.5},\"pattern\":{\"fillmode\":\"overlay\",\"size\":10,\"solidity\":0.2}},\"type\":\"barpolar\"}],\"carpet\":[{\"aaxis\":{\"endlinecolor\":\"#2a3f5f\",\"gridcolor\":\"white\",\"linecolor\":\"white\",\"minorgridcolor\":\"white\",\"startlinecolor\":\"#2a3f5f\"},\"baxis\":{\"endlinecolor\":\"#2a3f5f\",\"gridcolor\":\"white\",\"linecolor\":\"white\",\"minorgridcolor\":\"white\",\"startlinecolor\":\"#2a3f5f\"},\"type\":\"carpet\"}],\"choropleth\":[{\"colorbar\":{\"outlinewidth\":0,\"ticks\":\"\"},\"type\":\"choropleth\"}],\"contour\":[{\"colorbar\":{\"outlinewidth\":0,\"ticks\":\"\"},\"colorscale\":[[0.0,\"#0d0887\"],[0.1111111111111111,\"#46039f\"],[0.2222222222222222,\"#7201a8\"],[0.3333333333333333,\"#9c179e\"],[0.4444444444444444,\"#bd3786\"],[0.5555555555555556,\"#d8576b\"],[0.6666666666666666,\"#ed7953\"],[0.7777777777777778,\"#fb9f3a\"],[0.8888888888888888,\"#fdca26\"],[1.0,\"#f0f921\"]],\"type\":\"contour\"}],\"contourcarpet\":[{\"colorbar\":{\"outlinewidth\":0,\"ticks\":\"\"},\"type\":\"contourcarpet\"}],\"heatmap\":[{\"colorbar\":{\"outlinewidth\":0,\"ticks\":\"\"},\"colorscale\":[[0.0,\"#0d0887\"],[0.1111111111111111,\"#46039f\"],[0.2222222222222222,\"#7201a8\"],[0.3333333333333333,\"#9c179e\"],[0.4444444444444444,\"#bd3786\"],[0.5555555555555556,\"#d8576b\"],[0.6666666666666666,\"#ed7953\"],[0.7777777777777778,\"#fb9f3a\"],[0.8888888888888888,\"#fdca26\"],[1.0,\"#f0f921\"]],\"type\":\"heatmap\"}],\"heatmapgl\":[{\"colorbar\":{\"outlinewidth\":0,\"ticks\":\"\"},\"colorscale\":[[0.0,\"#0d0887\"],[0.1111111111111111,\"#46039f\"],[0.2222222222222222,\"#7201a8\"],[0.3333333333333333,\"#9c179e\"],[0.4444444444444444,\"#bd3786\"],[0.5555555555555556,\"#d8576b\"],[0.6666666666666666,\"#ed7953\"],[0.7777777777777778,\"#fb9f3a\"],[0.8888888888888888,\"#fdca26\"],[1.0,\"#f0f921\"]],\"type\":\"heatmapgl\"}],\"histogram\":[{\"marker\":{\"pattern\":{\"fillmode\":\"overlay\",\"size\":10,\"solidity\":0.2}},\"type\":\"histogram\"}],\"histogram2d\":[{\"colorbar\":{\"outlinewidth\":0,\"ticks\":\"\"},\"colorscale\":[[0.0,\"#0d0887\"],[0.1111111111111111,\"#46039f\"],[0.2222222222222222,\"#7201a8\"],[0.3333333333333333,\"#9c179e\"],[0.4444444444444444,\"#bd3786\"],[0.5555555555555556,\"#d8576b\"],[0.6666666666666666,\"#ed7953\"],[0.7777777777777778,\"#fb9f3a\"],[0.8888888888888888,\"#fdca26\"],[1.0,\"#f0f921\"]],\"type\":\"histogram2d\"}],\"histogram2dcontour\":[{\"colorbar\":{\"outlinewidth\":0,\"ticks\":\"\"},\"colorscale\":[[0.0,\"#0d0887\"],[0.1111111111111111,\"#46039f\"],[0.2222222222222222,\"#7201a8\"],[0.3333333333333333,\"#9c179e\"],[0.4444444444444444,\"#bd3786\"],[0.5555555555555556,\"#d8576b\"],[0.6666666666666666,\"#ed7953\"],[0.7777777777777778,\"#fb9f3a\"],[0.8888888888888888,\"#fdca26\"],[1.0,\"#f0f921\"]],\"type\":\"histogram2dcontour\"}],\"mesh3d\":[{\"colorbar\":{\"outlinewidth\":0,\"ticks\":\"\"},\"type\":\"mesh3d\"}],\"parcoords\":[{\"line\":{\"colorbar\":{\"outlinewidth\":0,\"ticks\":\"\"}},\"type\":\"parcoords\"}],\"pie\":[{\"automargin\":true,\"type\":\"pie\"}],\"scatter\":[{\"marker\":{\"colorbar\":{\"outlinewidth\":0,\"ticks\":\"\"}},\"type\":\"scatter\"}],\"scatter3d\":[{\"line\":{\"colorbar\":{\"outlinewidth\":0,\"ticks\":\"\"}},\"marker\":{\"colorbar\":{\"outlinewidth\":0,\"ticks\":\"\"}},\"type\":\"scatter3d\"}],\"scattercarpet\":[{\"marker\":{\"colorbar\":{\"outlinewidth\":0,\"ticks\":\"\"}},\"type\":\"scattercarpet\"}],\"scattergeo\":[{\"marker\":{\"colorbar\":{\"outlinewidth\":0,\"ticks\":\"\"}},\"type\":\"scattergeo\"}],\"scattergl\":[{\"marker\":{\"colorbar\":{\"outlinewidth\":0,\"ticks\":\"\"}},\"type\":\"scattergl\"}],\"scattermapbox\":[{\"marker\":{\"colorbar\":{\"outlinewidth\":0,\"ticks\":\"\"}},\"type\":\"scattermapbox\"}],\"scatterpolar\":[{\"marker\":{\"colorbar\":{\"outlinewidth\":0,\"ticks\":\"\"}},\"type\":\"scatterpolar\"}],\"scatterpolargl\":[{\"marker\":{\"colorbar\":{\"outlinewidth\":0,\"ticks\":\"\"}},\"type\":\"scatterpolargl\"}],\"scatterternary\":[{\"marker\":{\"colorbar\":{\"outlinewidth\":0,\"ticks\":\"\"}},\"type\":\"scatterternary\"}],\"surface\":[{\"colorbar\":{\"outlinewidth\":0,\"ticks\":\"\"},\"colorscale\":[[0.0,\"#0d0887\"],[0.1111111111111111,\"#46039f\"],[0.2222222222222222,\"#7201a8\"],[0.3333333333333333,\"#9c179e\"],[0.4444444444444444,\"#bd3786\"],[0.5555555555555556,\"#d8576b\"],[0.6666666666666666,\"#ed7953\"],[0.7777777777777778,\"#fb9f3a\"],[0.8888888888888888,\"#fdca26\"],[1.0,\"#f0f921\"]],\"type\":\"surface\"}],\"table\":[{\"cells\":{\"fill\":{\"color\":\"#EBF0F8\"},\"line\":{\"color\":\"white\"}},\"header\":{\"fill\":{\"color\":\"#C8D4E3\"},\"line\":{\"color\":\"white\"}},\"type\":\"table\"}]},\"layout\":{\"annotationdefaults\":{\"arrowcolor\":\"#2a3f5f\",\"arrowhead\":0,\"arrowwidth\":1},\"autotypenumbers\":\"strict\",\"coloraxis\":{\"colorbar\":{\"outlinewidth\":0,\"ticks\":\"\"}},\"colorscale\":{\"diverging\":[[0,\"#8e0152\"],[0.1,\"#c51b7d\"],[0.2,\"#de77ae\"],[0.3,\"#f1b6da\"],[0.4,\"#fde0ef\"],[0.5,\"#f7f7f7\"],[0.6,\"#e6f5d0\"],[0.7,\"#b8e186\"],[0.8,\"#7fbc41\"],[0.9,\"#4d9221\"],[1,\"#276419\"]],\"sequential\":[[0.0,\"#0d0887\"],[0.1111111111111111,\"#46039f\"],[0.2222222222222222,\"#7201a8\"],[0.3333333333333333,\"#9c179e\"],[0.4444444444444444,\"#bd3786\"],[0.5555555555555556,\"#d8576b\"],[0.6666666666666666,\"#ed7953\"],[0.7777777777777778,\"#fb9f3a\"],[0.8888888888888888,\"#fdca26\"],[1.0,\"#f0f921\"]],\"sequentialminus\":[[0.0,\"#0d0887\"],[0.1111111111111111,\"#46039f\"],[0.2222222222222222,\"#7201a8\"],[0.3333333333333333,\"#9c179e\"],[0.4444444444444444,\"#bd3786\"],[0.5555555555555556,\"#d8576b\"],[0.6666666666666666,\"#ed7953\"],[0.7777777777777778,\"#fb9f3a\"],[0.8888888888888888,\"#fdca26\"],[1.0,\"#f0f921\"]]},\"colorway\":[\"#636efa\",\"#EF553B\",\"#00cc96\",\"#ab63fa\",\"#FFA15A\",\"#19d3f3\",\"#FF6692\",\"#B6E880\",\"#FF97FF\",\"#FECB52\"],\"font\":{\"color\":\"#2a3f5f\"},\"geo\":{\"bgcolor\":\"white\",\"lakecolor\":\"white\",\"landcolor\":\"#E5ECF6\",\"showlakes\":true,\"showland\":true,\"subunitcolor\":\"white\"},\"hoverlabel\":{\"align\":\"left\"},\"hovermode\":\"closest\",\"mapbox\":{\"style\":\"light\"},\"paper_bgcolor\":\"white\",\"plot_bgcolor\":\"#E5ECF6\",\"polar\":{\"angularaxis\":{\"gridcolor\":\"white\",\"linecolor\":\"white\",\"ticks\":\"\"},\"bgcolor\":\"#E5ECF6\",\"radialaxis\":{\"gridcolor\":\"white\",\"linecolor\":\"white\",\"ticks\":\"\"}},\"scene\":{\"xaxis\":{\"backgroundcolor\":\"#E5ECF6\",\"gridcolor\":\"white\",\"gridwidth\":2,\"linecolor\":\"white\",\"showbackground\":true,\"ticks\":\"\",\"zerolinecolor\":\"white\"},\"yaxis\":{\"backgroundcolor\":\"#E5ECF6\",\"gridcolor\":\"white\",\"gridwidth\":2,\"linecolor\":\"white\",\"showbackground\":true,\"ticks\":\"\",\"zerolinecolor\":\"white\"},\"zaxis\":{\"backgroundcolor\":\"#E5ECF6\",\"gridcolor\":\"white\",\"gridwidth\":2,\"linecolor\":\"white\",\"showbackground\":true,\"ticks\":\"\",\"zerolinecolor\":\"white\"}},\"shapedefaults\":{\"line\":{\"color\":\"#2a3f5f\"}},\"ternary\":{\"aaxis\":{\"gridcolor\":\"white\",\"linecolor\":\"white\",\"ticks\":\"\"},\"baxis\":{\"gridcolor\":\"white\",\"linecolor\":\"white\",\"ticks\":\"\"},\"bgcolor\":\"#E5ECF6\",\"caxis\":{\"gridcolor\":\"white\",\"linecolor\":\"white\",\"ticks\":\"\"}},\"title\":{\"x\":0.05},\"xaxis\":{\"automargin\":true,\"gridcolor\":\"white\",\"linecolor\":\"white\",\"ticks\":\"\",\"title\":{\"standoff\":15},\"zerolinecolor\":\"white\",\"zerolinewidth\":2},\"yaxis\":{\"automargin\":true,\"gridcolor\":\"white\",\"linecolor\":\"white\",\"ticks\":\"\",\"title\":{\"standoff\":15},\"zerolinecolor\":\"white\",\"zerolinewidth\":2}}},\"title\":{\"text\":\"Distribution of sign_class\"},\"xaxis\":{\"anchor\":\"y\",\"domain\":[0.0,1.0],\"title\":{\"text\":\"category_name\"}},\"yaxis\":{\"anchor\":\"x\",\"domain\":[0.0,1.0],\"title\":{\"text\":\"count\"}}},                        {\"responsive\": true}                    ).then(function(){\n",
       "                            \n",
       "var gd = document.getElementById('8d6fd8bd-b150-4f7a-a4c2-e0b10e37c510');\n",
       "var x = new MutationObserver(function (mutations, observer) {{\n",
       "        var display = window.getComputedStyle(gd).display;\n",
       "        if (!display || display === 'none') {{\n",
       "            console.log([gd, 'removed!']);\n",
       "            Plotly.purge(gd);\n",
       "            observer.disconnect();\n",
       "        }}\n",
       "}});\n",
       "\n",
       "// Listen for the removal of the full notebook cells\n",
       "var notebookContainer = gd.closest('#notebook-container');\n",
       "if (notebookContainer) {{\n",
       "    x.observe(notebookContainer, {childList: true});\n",
       "}}\n",
       "\n",
       "// Listen for the clearing of the current output cell\n",
       "var outputEl = gd.closest('.output');\n",
       "if (outputEl) {{\n",
       "    x.observe(outputEl, {childList: true});\n",
       "}}\n",
       "\n",
       "                        })                };                });            </script>        </div>"
      ]
     },
     "metadata": {},
     "output_type": "display_data"
    }
   ],
   "source": [
    "grouped_data = df_result.groupby('category_name').size().reset_index(name='count')\n",
    "grouped_data = grouped_data.sort_values(by='count', ascending=False)\n",
    "fig = px.bar(grouped_data, x='category_name' ,y ='count', \n",
    "             labels={'category_name': 'category_name'}, color_discrete_sequence=['blue'], \n",
    "             title=f'Distribution of sign_class')\n",
    "fig.show()"
   ]
  },
  {
   "cell_type": "code",
   "execution_count": 96,
   "id": "829ad52e",
   "metadata": {},
   "outputs": [
    {
     "data": {
      "text/html": [
       "<div>\n",
       "<style scoped>\n",
       "    .dataframe tbody tr th:only-of-type {\n",
       "        vertical-align: middle;\n",
       "    }\n",
       "\n",
       "    .dataframe tbody tr th {\n",
       "        vertical-align: top;\n",
       "    }\n",
       "\n",
       "    .dataframe thead th {\n",
       "        text-align: right;\n",
       "    }\n",
       "</style>\n",
       "<table border=\"1\" class=\"dataframe\">\n",
       "  <thead>\n",
       "    <tr style=\"text-align: right;\">\n",
       "      <th></th>\n",
       "      <th>width</th>\n",
       "      <th>height</th>\n",
       "      <th>file_name</th>\n",
       "      <th>image_id</th>\n",
       "      <th>category_id</th>\n",
       "      <th>area</th>\n",
       "      <th>iscrowd</th>\n",
       "      <th>category_name</th>\n",
       "      <th>x</th>\n",
       "      <th>y</th>\n",
       "      <th>w</th>\n",
       "      <th>h</th>\n",
       "    </tr>\n",
       "  </thead>\n",
       "  <tbody>\n",
       "    <tr>\n",
       "      <th>0</th>\n",
       "      <td>1280</td>\n",
       "      <td>720</td>\n",
       "      <td>rtsd-frames/autosave24_10_2013_11_21_31_0.jpg</td>\n",
       "      <td>57609</td>\n",
       "      <td>1</td>\n",
       "      <td>1764</td>\n",
       "      <td>0</td>\n",
       "      <td>2_1</td>\n",
       "      <td>803</td>\n",
       "      <td>351</td>\n",
       "      <td>42</td>\n",
       "      <td>42</td>\n",
       "    </tr>\n",
       "    <tr>\n",
       "      <th>1</th>\n",
       "      <td>1280</td>\n",
       "      <td>720</td>\n",
       "      <td>rtsd-frames/autosave09_10_2012_12_54_26_0.jpg</td>\n",
       "      <td>11150</td>\n",
       "      <td>1</td>\n",
       "      <td>702</td>\n",
       "      <td>0</td>\n",
       "      <td>2_1</td>\n",
       "      <td>788</td>\n",
       "      <td>333</td>\n",
       "      <td>26</td>\n",
       "      <td>27</td>\n",
       "    </tr>\n",
       "    <tr>\n",
       "      <th>2</th>\n",
       "      <td>1920</td>\n",
       "      <td>1080</td>\n",
       "      <td>rtsd-frames/autosave16_04_2013_11_53_05_0.jpg</td>\n",
       "      <td>30508</td>\n",
       "      <td>1</td>\n",
       "      <td>323</td>\n",
       "      <td>0</td>\n",
       "      <td>2_1</td>\n",
       "      <td>924</td>\n",
       "      <td>535</td>\n",
       "      <td>19</td>\n",
       "      <td>17</td>\n",
       "    </tr>\n",
       "    <tr>\n",
       "      <th>3</th>\n",
       "      <td>1920</td>\n",
       "      <td>1080</td>\n",
       "      <td>rtsd-frames/autosave13_04_2013_09_48_32_0.jpg</td>\n",
       "      <td>24663</td>\n",
       "      <td>1</td>\n",
       "      <td>5313</td>\n",
       "      <td>0</td>\n",
       "      <td>2_1</td>\n",
       "      <td>1119</td>\n",
       "      <td>225</td>\n",
       "      <td>69</td>\n",
       "      <td>77</td>\n",
       "    </tr>\n",
       "    <tr>\n",
       "      <th>4</th>\n",
       "      <td>1280</td>\n",
       "      <td>720</td>\n",
       "      <td>rtsd-frames/autosave23_10_2012_09_03_01_1.jpg</td>\n",
       "      <td>45945</td>\n",
       "      <td>1</td>\n",
       "      <td>624</td>\n",
       "      <td>0</td>\n",
       "      <td>2_1</td>\n",
       "      <td>1006</td>\n",
       "      <td>313</td>\n",
       "      <td>26</td>\n",
       "      <td>24</td>\n",
       "    </tr>\n",
       "    <tr>\n",
       "      <th>...</th>\n",
       "      <td>...</td>\n",
       "      <td>...</td>\n",
       "      <td>...</td>\n",
       "      <td>...</td>\n",
       "      <td>...</td>\n",
       "      <td>...</td>\n",
       "      <td>...</td>\n",
       "      <td>...</td>\n",
       "      <td>...</td>\n",
       "      <td>...</td>\n",
       "      <td>...</td>\n",
       "      <td>...</td>\n",
       "    </tr>\n",
       "    <tr>\n",
       "      <th>7</th>\n",
       "      <td>1280</td>\n",
       "      <td>720</td>\n",
       "      <td>rtsd-frames/autosave24_10_2013_11_23_19_2.jpg</td>\n",
       "      <td>57701</td>\n",
       "      <td>154</td>\n",
       "      <td>2340</td>\n",
       "      <td>0</td>\n",
       "      <td>7_14</td>\n",
       "      <td>767</td>\n",
       "      <td>306</td>\n",
       "      <td>39</td>\n",
       "      <td>60</td>\n",
       "    </tr>\n",
       "    <tr>\n",
       "      <th>8</th>\n",
       "      <td>1280</td>\n",
       "      <td>720</td>\n",
       "      <td>rtsd-frames/autosave24_10_2013_11_23_20_1.jpg</td>\n",
       "      <td>57703</td>\n",
       "      <td>154</td>\n",
       "      <td>16912</td>\n",
       "      <td>0</td>\n",
       "      <td>7_14</td>\n",
       "      <td>1143</td>\n",
       "      <td>101</td>\n",
       "      <td>112</td>\n",
       "      <td>151</td>\n",
       "    </tr>\n",
       "    <tr>\n",
       "      <th>0</th>\n",
       "      <td>1280</td>\n",
       "      <td>720</td>\n",
       "      <td>rtsd-frames/autosave24_10_2013_11_29_00_2.jpg</td>\n",
       "      <td>57824</td>\n",
       "      <td>155</td>\n",
       "      <td>3648</td>\n",
       "      <td>0</td>\n",
       "      <td>8_23</td>\n",
       "      <td>1203</td>\n",
       "      <td>283</td>\n",
       "      <td>76</td>\n",
       "      <td>48</td>\n",
       "    </tr>\n",
       "    <tr>\n",
       "      <th>1</th>\n",
       "      <td>1280</td>\n",
       "      <td>720</td>\n",
       "      <td>rtsd-frames/autosave24_10_2013_11_29_00_0.jpg</td>\n",
       "      <td>57822</td>\n",
       "      <td>155</td>\n",
       "      <td>612</td>\n",
       "      <td>0</td>\n",
       "      <td>8_23</td>\n",
       "      <td>762</td>\n",
       "      <td>367</td>\n",
       "      <td>36</td>\n",
       "      <td>17</td>\n",
       "    </tr>\n",
       "    <tr>\n",
       "      <th>2</th>\n",
       "      <td>1280</td>\n",
       "      <td>720</td>\n",
       "      <td>rtsd-frames/autosave24_10_2013_11_29_00_1.jpg</td>\n",
       "      <td>57823</td>\n",
       "      <td>155</td>\n",
       "      <td>1456</td>\n",
       "      <td>0</td>\n",
       "      <td>8_23</td>\n",
       "      <td>878</td>\n",
       "      <td>346</td>\n",
       "      <td>56</td>\n",
       "      <td>26</td>\n",
       "    </tr>\n",
       "  </tbody>\n",
       "</table>\n",
       "<p>70980 rows × 12 columns</p>\n",
       "</div>"
      ],
      "text/plain": [
       "   width height                                      file_name image_id  \\\n",
       "0   1280    720  rtsd-frames/autosave24_10_2013_11_21_31_0.jpg    57609   \n",
       "1   1280    720  rtsd-frames/autosave09_10_2012_12_54_26_0.jpg    11150   \n",
       "2   1920   1080  rtsd-frames/autosave16_04_2013_11_53_05_0.jpg    30508   \n",
       "3   1920   1080  rtsd-frames/autosave13_04_2013_09_48_32_0.jpg    24663   \n",
       "4   1280    720  rtsd-frames/autosave23_10_2012_09_03_01_1.jpg    45945   \n",
       "..   ...    ...                                            ...      ...   \n",
       "7   1280    720  rtsd-frames/autosave24_10_2013_11_23_19_2.jpg    57701   \n",
       "8   1280    720  rtsd-frames/autosave24_10_2013_11_23_20_1.jpg    57703   \n",
       "0   1280    720  rtsd-frames/autosave24_10_2013_11_29_00_2.jpg    57824   \n",
       "1   1280    720  rtsd-frames/autosave24_10_2013_11_29_00_0.jpg    57822   \n",
       "2   1280    720  rtsd-frames/autosave24_10_2013_11_29_00_1.jpg    57823   \n",
       "\n",
       "   category_id   area iscrowd category_name     x    y    w    h  \n",
       "0            1   1764       0           2_1   803  351   42   42  \n",
       "1            1    702       0           2_1   788  333   26   27  \n",
       "2            1    323       0           2_1   924  535   19   17  \n",
       "3            1   5313       0           2_1  1119  225   69   77  \n",
       "4            1    624       0           2_1  1006  313   26   24  \n",
       "..         ...    ...     ...           ...   ...  ...  ...  ...  \n",
       "7          154   2340       0          7_14   767  306   39   60  \n",
       "8          154  16912       0          7_14  1143  101  112  151  \n",
       "0          155   3648       0          8_23  1203  283   76   48  \n",
       "1          155    612       0          8_23   762  367   36   17  \n",
       "2          155   1456       0          8_23   878  346   56   26  \n",
       "\n",
       "[70980 rows x 12 columns]"
      ]
     },
     "execution_count": 96,
     "metadata": {},
     "output_type": "execute_result"
    }
   ],
   "source": [
    "df_result"
   ]
  },
  {
   "cell_type": "code",
   "execution_count": 97,
   "id": "7da9b762",
   "metadata": {},
   "outputs": [
    {
     "data": {
      "text/plain": [
       "['rtsd-frames/autosave01_02_2012_09_28_01_0.8794150510117291.jpg',\n",
       " 'rtsd-frames/autosave24_10_2012_10_38_51_1.jpg',\n",
       " 'rtsd-frames/autosave09_10_2012_14_04_29_1_0.8618184723759348.jpg',\n",
       " 'rtsd-frames/autosave09_10_2012_13_17_48_0.jpg',\n",
       " 'rtsd-frames/autosave16_04_2013_14_52_54_2_0.481617925019181.jpg',\n",
       " 'rtsd-frames/autosave09_11_2012_09_34_35_0_0.4535132293067088.jpg',\n",
       " 'rtsd-frames/autosave13_04_2013_09_58_33_0_0.6219367067135131.jpg',\n",
       " 'rtsd-frames/autosave23_10_2012_11_13_20_1_0.3381856559581883.jpg',\n",
       " 'rtsd-frames/autosave10_10_2012_09_40_11_1_0.5602914673825458.jpg',\n",
       " 'rtsd-frames/autosave02_10_2012_12_15_58_2_0.458516878415713.jpg',\n",
       " 'rtsd-frames/autosave09_10_2012_09_54_14_0.jpg',\n",
       " 'rtsd-frames/autosave09_10_2012_07_56_38_1_0.07259765182907585.jpg',\n",
       " 'rtsd-frames/autosave13_04_2013_09_57_00_0_0.20733226428615537.jpg',\n",
       " 'rtsd-frames/autosave02_10_2012_12_42_37_2_0.7755345589591811.jpg',\n",
       " 'rtsd-frames/autosave16_04_2013_11_42_47_1_0.14048468186331875.jpg',\n",
       " 'rtsd-frames/autosave23_10_2012_12_42_38_0.jpg',\n",
       " 'rtsd-frames/autosave16_04_2013_11_45_12_0_0.9356580679075841.jpg',\n",
       " 'rtsd-frames/autosave24_10_2012_10_04_38_0.jpg',\n",
       " 'rtsd-frames/autosave10_10_2012_12_45_46_1_0.13240933194305926.jpg',\n",
       " 'rtsd-frames/autosave13_04_2013_12_22_49_2_0.18166166542949125.jpg',\n",
       " 'rtsd-frames/autosave09_11_2012_09_34_35_2_0.012297774902304881.jpg',\n",
       " 'rtsd-frames/autosave09_11_2012_09_46_12_2_0.516427859132676.jpg',\n",
       " 'rtsd-frames/autosave09_10_2012_11_13_48_0_0.7035419810616225.jpg',\n",
       " 'rtsd-frames/autosave23_10_2012_12_41_59_1_0.9263426042649432.jpg',\n",
       " 'rtsd-frames/autosave09_10_2012_11_12_00_1_0.33229229564925566.jpg',\n",
       " 'rtsd-frames/autosave16_04_2013_14_51_25_2_0.4977298796789963.jpg',\n",
       " 'rtsd-frames/autosave24_10_2012_11_34_18_1_0.3061221152126177.jpg',\n",
       " 'rtsd-frames/autosave16_04_2013_14_28_28_2_0.2960574365980697.jpg',\n",
       " 'rtsd-frames/autosave09_10_2012_08_51_58_1_0.8052576259465869.jpg',\n",
       " 'rtsd-frames/autosave23_10_2012_11_36_06_1_0.9761160398753125.jpg',\n",
       " 'rtsd-frames/autosave09_10_2012_10_01_33_0_0.6255957226185666.jpg',\n",
       " 'rtsd-frames/autosave10_10_2012_08_28_43_2_0.2380447121850192.jpg',\n",
       " 'rtsd-frames/autosave16_04_2013_12_30_04_3_0.34448702852728086.jpg',\n",
       " 'rtsd-frames/autosave16_10_2012_08_04_32_0_0.7620866265459729.jpg',\n",
       " 'rtsd-frames/autosave01_02_2012_13_11_28.jpg',\n",
       " 'rtsd-frames/autosave16_04_2013_14_31_16_1_0.4029089988455814.jpg',\n",
       " 'rtsd-frames/autosave09_10_2012_10_00_49_0_0.1056726924595881.jpg',\n",
       " 'rtsd-frames/autosave09_11_2012_09_05_33_1_0.6178091007893917.jpg',\n",
       " 'rtsd-frames/autosave23_10_2012_14_23_56_1_0.7546794381322567.jpg',\n",
       " 'rtsd-frames/autosave09_10_2012_10_13_09_3_0.34090876342437326.jpg',\n",
       " 'rtsd-frames/autosave24_10_2012_10_14_35_1.jpg',\n",
       " 'rtsd-frames/autosave02_10_2012_12_28_02_0_0.36184114130657696.jpg',\n",
       " 'rtsd-frames/autosave24_10_2012_10_17_41_0_0.6749421157139291.jpg',\n",
       " 'rtsd-frames/autosave13_04_2013_15_57_54_2_0.06382914135306594.jpg',\n",
       " 'rtsd-frames/autosave13_04_2013_15_53_21_0_0.3803722771941819.jpg',\n",
       " 'rtsd-frames/autosave13_04_2013_09_40_28_0_0.2178871623391999.jpg',\n",
       " 'rtsd-frames/autosave23_10_2012_12_54_34_0_0.6067777267640619.jpg',\n",
       " 'rtsd-frames/autosave23_10_2012_13_25_31_2_0.49086663713779255.jpg',\n",
       " 'rtsd-frames/autosave02_10_2012_12_07_51_3_0.013441090711474701.jpg',\n",
       " 'rtsd-frames/autosave16_04_2013_15_03_22_3_0.16339880942898322.jpg',\n",
       " 'rtsd-frames/autosave16_04_2013_14_40_20_3_0.46942767569321064.jpg',\n",
       " 'rtsd-frames/autosave24_10_2012_10_15_11_2_0.9694665701360174.jpg',\n",
       " 'rtsd-frames/autosave09_10_2012_10_01_26_2_0.5435558809196731.jpg',\n",
       " 'rtsd-frames/autosave10_10_2012_13_30_43_0.jpg',\n",
       " 'rtsd-frames/autosave16_10_2012_10_22_59_2_0.39257743289663694.jpg',\n",
       " 'rtsd-frames/autosave10_10_2012_13_25_00_0.jpg',\n",
       " 'rtsd-frames/autosave09_10_2012_09_42_22_2_0.9760433452203293.jpg',\n",
       " 'rtsd-frames/autosave23_10_2012_15_17_04_2_0.405059680516608.jpg',\n",
       " 'rtsd-frames/autosave09_10_2012_09_24_25_3_0.9607788411046572.jpg',\n",
       " 'rtsd-frames/autosave09_10_2012_15_17_23_1.jpg',\n",
       " 'rtsd-frames/autosave09_10_2012_11_14_03_3_0.24548213207922875.jpg',\n",
       " 'rtsd-frames/autosave10_10_2012_13_25_01_0.jpg',\n",
       " 'rtsd-frames/autosave09_10_2012_09_11_42_2_0.739441446641677.jpg',\n",
       " 'rtsd-frames/autosave23_10_2012_11_06_48_0_0.24450837244018442.jpg',\n",
       " 'rtsd-frames/autosave16_10_2012_11_53_29_2_0.5360116260339195.jpg',\n",
       " 'rtsd-frames/autosave24_10_2013_11_18_49_1_0.37447284745057485.jpg',\n",
       " 'rtsd-frames/autosave01_02_2012_09_30_34_0.11170939716780937.jpg',\n",
       " 'rtsd-frames/autosave24_10_2012_11_17_37_0_0.7726929741329036.jpg',\n",
       " 'rtsd-frames/autosave16_04_2013_14_43_09_2_0.23647223375886717.jpg',\n",
       " 'rtsd-frames/autosave16_10_2012_08_35_47_3_0.5260291586455694.jpg',\n",
       " 'rtsd-frames/autosave23_10_2012_10_39_28_1_0.46275888023458434.jpg',\n",
       " 'rtsd-frames/autosave16_04_2013_11_57_55_2_0.46307721316273665.jpg',\n",
       " 'rtsd-frames/autosave16_04_2013_13_08_44_0_0.55701443437748.jpg',\n",
       " 'rtsd-frames/autosave10_10_2012_08_57_47_1_0.36255617308335564.jpg',\n",
       " 'rtsd-frames/autosave24_10_2012_10_11_15_0.jpg',\n",
       " 'rtsd-frames/autosave09_11_2012_09_55_44_0_0.8319496297639628.jpg',\n",
       " 'rtsd-frames/autosave09_10_2012_09_53_47_2_0.7602841906438711.jpg',\n",
       " 'rtsd-frames/autosave10_10_2012_10_01_00_1_0.597852678320186.jpg',\n",
       " 'rtsd-frames/autosave09_10_2012_09_28_54_0_0.317688627345208.jpg',\n",
       " 'rtsd-frames/autosave01_02_2012_11_09_24_0.11709036162127817.jpg',\n",
       " 'rtsd-frames/autosave16_10_2012_08_35_45_3_0.1467262442794527.jpg',\n",
       " 'rtsd-frames/autosave23_10_2012_08_51_18_2_0.7741724501181975.jpg',\n",
       " 'rtsd-frames/autosave13_04_2013_14_14_03_0_0.7444582167753577.jpg',\n",
       " 'rtsd-frames/autosave23_10_2012_12_05_55_2_0.9852358238703616.jpg',\n",
       " 'rtsd-frames/autosave23_10_2012_09_47_16_0_0.341302226287751.jpg',\n",
       " 'rtsd-frames/autosave16_04_2013_14_27_15_2_0.724549328440811.jpg',\n",
       " 'rtsd-frames/autosave16_04_2013_11_55_15_1.jpg',\n",
       " 'rtsd-frames/autosave23_10_2012_12_41_14_1_0.10820240732881725.jpg',\n",
       " 'rtsd-frames/autosave01_02_2012_09_31_14.jpg',\n",
       " 'rtsd-frames/autosave13_04_2013_15_18_57_1_0.27779729108567774.jpg',\n",
       " 'rtsd-frames/autosave24_10_2013_11_16_00_0_0.9962943230193833.jpg',\n",
       " 'rtsd-frames/autosave24_10_2013_11_02_28_1_0.4044506006695532.jpg',\n",
       " 'rtsd-frames/autosave09_10_2012_08_52_23_2_0.2256136873528627.jpg',\n",
       " 'rtsd-frames/autosave23_10_2012_14_06_21_1_0.9253071729567943.jpg',\n",
       " 'rtsd-frames/autosave02_10_2012_12_29_35_3_0.8513757147181309.jpg',\n",
       " 'rtsd-frames/autosave10_10_2012_14_24_43_1.jpg',\n",
       " 'rtsd-frames/autosave16_10_2012_07_08_25_0.jpg',\n",
       " 'rtsd-frames/autosave16_04_2013_11_40_53_0_0.40218054806109893.jpg',\n",
       " 'rtsd-frames/autosave23_10_2012_10_42_00_2.jpg',\n",
       " 'rtsd-frames/autosave13_04_2013_09_58_44_0.jpg',\n",
       " 'rtsd-frames/autosave09_10_2012_08_53_05_1_0.11175151290640595.jpg',\n",
       " 'rtsd-frames/autosave21_01_2013_12_32_43_2.jpg',\n",
       " 'rtsd-frames/autosave10_10_2012_14_43_13_0_0.8372914525875689.jpg',\n",
       " 'rtsd-frames/autosave16_10_2012_09_01_15_0.jpg',\n",
       " 'rtsd-frames/autosave24_10_2012_10_03_39_2_0.18971630338115497.jpg',\n",
       " 'rtsd-frames/autosave24_10_2012_11_31_05_3_0.2315176217823296.jpg',\n",
       " 'rtsd-frames/autosave16_04_2013_14_32_19_2_0.333528618972587.jpg',\n",
       " 'rtsd-frames/autosave09_10_2012_13_19_15_2.jpg',\n",
       " 'rtsd-frames/autosave09_10_2012_08_36_57_2_0.9249098382018722.jpg',\n",
       " 'rtsd-frames/autosave13_04_2013_15_37_07_1_0.8935055951951272.jpg',\n",
       " 'rtsd-frames/autosave02_10_2012_12_41_57_4_0.5711172392494732.jpg',\n",
       " 'rtsd-frames/autosave09_10_2012_09_51_02_2_0.9488553092399683.jpg',\n",
       " 'rtsd-frames/autosave09_11_2012_09_05_46_2.jpg',\n",
       " 'rtsd-frames/autosave16_10_2012_08_35_45_2_0.8171101139908686.jpg',\n",
       " 'rtsd-frames/autosave10_10_2012_08_57_47_2_0.34960041597322367.jpg',\n",
       " 'rtsd-frames/autosave09_10_2012_09_52_42_2.jpg',\n",
       " 'rtsd-frames/autosave16_04_2013_11_38_04_0_0.5571037852552506.jpg',\n",
       " 'rtsd-frames/autosave24_10_2012_10_39_11_3_0.14422729339467022.jpg',\n",
       " 'rtsd-frames/autosave16_04_2013_14_27_15_2_0.8049607262989384.jpg',\n",
       " 'rtsd-frames/autosave09_11_2012_09_25_47_3_0.9378378501992284.jpg',\n",
       " 'rtsd-frames/autosave10_10_2012_09_07_04_2_0.8869899652592355.jpg',\n",
       " 'rtsd-frames/autosave01_02_2012_11_22_23_0.6543193484517963.jpg',\n",
       " 'rtsd-frames/autosave23_10_2012_15_25_34_2.jpg',\n",
       " 'rtsd-frames/autosave16_10_2012_10_22_59_1_0.23699666975327738.jpg',\n",
       " 'rtsd-frames/autosave16_10_2012_09_01_34_5_0.8517331755746519.jpg',\n",
       " 'rtsd-frames/autosave16_10_2012_08_34_45_4_0.33800723769541496.jpg',\n",
       " 'rtsd-frames/autosave23_10_2012_15_15_25_2_0.9968873608881833.jpg',\n",
       " 'rtsd-frames/autosave16_04_2013_11_30_06_3_0.4945144337082611.jpg',\n",
       " 'rtsd-frames/autosave23_10_2012_10_39_28_3_0.16380282362488507.jpg',\n",
       " 'rtsd-frames/autosave09_10_2012_08_51_29_0_0.16735412697273155.jpg',\n",
       " 'rtsd-frames/autosave10_10_2012_09_28_53_2_0.2029670329622142.jpg',\n",
       " 'rtsd-frames/autosave16_10_2012_11_42_11_0_0.3509807291667425.jpg',\n",
       " 'rtsd-frames/autosave09_10_2012_12_02_35_1_0.11310426661948736.jpg',\n",
       " 'rtsd-frames/autosave23_10_2012_08_50_01_3_0.9152524230116973.jpg',\n",
       " 'rtsd-frames/autosave09_10_2012_10_12_32_0_0.14521626675591726.jpg',\n",
       " 'rtsd-frames/autosave24_10_2013_11_09_58_2.jpg',\n",
       " 'rtsd-frames/autosave16_04_2013_11_57_55_1_0.6360351773036311.jpg',\n",
       " 'rtsd-frames/autosave10_10_2012_12_22_49_1_0.16287354205204685.jpg',\n",
       " 'rtsd-frames/autosave23_10_2012_10_49_45_2_0.480871106468871.jpg',\n",
       " 'rtsd-frames/autosave16_10_2012_07_17_57_0.jpg',\n",
       " 'rtsd-frames/autosave16_04_2013_14_51_25_3_0.16443199303996414.jpg',\n",
       " 'rtsd-frames/autosave01_02_2012_09_31_22.jpg',\n",
       " 'rtsd-frames/autosave10_10_2012_13_04_06_4_0.9936284934239956.jpg',\n",
       " 'rtsd-frames/autosave16_10_2012_10_07_39_2.jpg',\n",
       " 'rtsd-frames/autosave01_02_2012_11_13_11_0.6686901776717401.jpg',\n",
       " 'rtsd-frames/autosave23_10_2012_10_47_36_1_0.0011343061335671312.jpg',\n",
       " 'rtsd-frames/autosave16_04_2013_12_32_39_2_0.8114211962005515.jpg',\n",
       " 'rtsd-frames/autosave23_10_2012_10_55_31_0.jpg',\n",
       " 'rtsd-frames/autosave09_10_2012_09_24_34_0.jpg',\n",
       " 'rtsd-frames/autosave13_04_2013_15_58_50_0_0.5605729185771815.jpg',\n",
       " 'rtsd-frames/autosave13_04_2013_14_14_40_0_0.8910806093428167.jpg',\n",
       " 'rtsd-frames/autosave13_04_2013_15_53_49_1_0.38038444747101074.jpg',\n",
       " 'rtsd-frames/autosave02_10_2012_12_06_12_1_0.8552599404984177.jpg',\n",
       " 'rtsd-frames/autosave16_04_2013_11_40_54_2_0.41314302342576725.jpg',\n",
       " 'rtsd-frames/autosave10_10_2012_08_44_35_0_0.11996208542846976.jpg',\n",
       " 'rtsd-frames/autosave23_10_2012_12_31_24_0_0.974068707353285.jpg',\n",
       " 'rtsd-frames/autosave23_10_2012_15_09_24_2.jpg',\n",
       " 'rtsd-frames/autosave23_10_2012_10_47_46_2_0.45442274647112.jpg',\n",
       " 'rtsd-frames/autosave09_11_2012_09_19_28_0_0.5425160604062974.jpg',\n",
       " 'rtsd-frames/autosave02_10_2012_12_52_18_1_0.7710464470100036.jpg',\n",
       " 'rtsd-frames/autosave13_04_2013_15_18_57_2_0.22035681304794086.jpg',\n",
       " 'rtsd-frames/autosave09_10_2012_10_11_21_1.jpg',\n",
       " 'rtsd-frames/autosave16_04_2013_11_45_12_0_0.051396911735703044.jpg',\n",
       " 'rtsd-frames/autosave24_10_2013_11_01_34_4_0.3046155200729477.jpg',\n",
       " 'rtsd-frames/autosave09_10_2012_08_30_13_1_0.8578742508451381.jpg',\n",
       " 'rtsd-frames/autosave09_10_2012_09_41_35_1_0.17258340225557223.jpg',\n",
       " 'rtsd-frames/autosave02_10_2012_12_02_28_2_0.40449497097797316.jpg',\n",
       " 'rtsd-frames/autosave21_01_2013_11_44_06_1_0.04850714505174558.jpg',\n",
       " 'rtsd-frames/autosave16_10_2012_08_35_43_5_0.17495586161582122.jpg',\n",
       " 'rtsd-frames/autosave10_10_2012_09_28_55_0_0.750899988086909.jpg',\n",
       " 'rtsd-frames/autosave02_10_2012_12_03_20_0_0.08554683740746594.jpg',\n",
       " 'rtsd-frames/autosave13_04_2013_09_58_44_1_0.22358137732464578.jpg',\n",
       " 'rtsd-frames/autosave09_10_2012_10_09_24_1_0.5683934656449484.jpg',\n",
       " 'rtsd-frames/autosave21_01_2013_11_44_06_1_0.9158207148991604.jpg',\n",
       " 'rtsd-frames/autosave23_10_2012_11_13_08_1_0.18944444934459903.jpg',\n",
       " 'rtsd-frames/autosave16_10_2012_11_38_54_0_0.06816184379124113.jpg',\n",
       " 'rtsd-frames/autosave10_10_2012_12_50_11_1_0.003820506805061741.jpg',\n",
       " 'rtsd-frames/autosave24_10_2013_11_16_01_0_0.6688229789174314.jpg',\n",
       " 'rtsd-frames/autosave09_11_2012_09_34_40_1_0.9815422529599169.jpg',\n",
       " 'rtsd-frames/autosave16_10_2012_12_00_08_2_0.1785340447374827.jpg',\n",
       " 'rtsd-frames/autosave09_10_2012_14_00_35_0.jpg',\n",
       " 'rtsd-frames/autosave10_10_2012_10_12_02_2_0.11511436999336844.jpg',\n",
       " 'rtsd-frames/autosave23_10_2012_09_55_23_1_0.9404522095812138.jpg',\n",
       " 'rtsd-frames/autosave24_10_2012_10_39_09_2_0.8804401419028175.jpg',\n",
       " 'rtsd-frames/autosave09_10_2012_13_26_04_1_0.02066110273270183.jpg',\n",
       " 'rtsd-frames/autosave24_10_2013_11_03_57_1_0.28992095728247136.jpg',\n",
       " 'rtsd-frames/autosave16_04_2013_14_59_04_0_0.34077033511626253.jpg',\n",
       " 'rtsd-frames/autosave10_10_2012_12_50_10_2_0.5634556989676354.jpg',\n",
       " 'rtsd-frames/autosave16_04_2013_15_36_52_2.jpg',\n",
       " 'rtsd-frames/autosave13_04_2013_12_44_04_3.jpg',\n",
       " 'rtsd-frames/autosave10_10_2012_12_24_48_0.jpg',\n",
       " 'rtsd-frames/autosave09_10_2012_10_01_27_3_0.6762683554139222.jpg',\n",
       " 'rtsd-frames/autosave24_10_2013_11_09_42_3_0.49955909915726804.jpg',\n",
       " 'rtsd-frames/autosave09_10_2012_09_53_24_2.jpg',\n",
       " 'rtsd-frames/autosave16_04_2013_12_30_41_1_0.914846194433264.jpg',\n",
       " 'rtsd-frames/autosave01_02_2012_11_22_23_0.780001899751059.jpg',\n",
       " 'rtsd-frames/autosave13_04_2013_09_48_30_2.jpg',\n",
       " 'rtsd-frames/autosave13_04_2013_15_58_29_1_0.2934740671309163.jpg',\n",
       " 'rtsd-frames/autosave24_10_2012_11_05_12_0_0.18891486011419767.jpg',\n",
       " 'rtsd-frames/autosave16_04_2013_14_30_59_2_0.15634905431480073.jpg',\n",
       " 'rtsd-frames/autosave09_10_2012_10_01_25_0_0.7862659367270658.jpg',\n",
       " 'rtsd-frames/autosave24_10_2012_10_39_17_2_0.9973025074967398.jpg',\n",
       " 'rtsd-frames/autosave10_10_2012_09_09_30_3.jpg',\n",
       " 'rtsd-frames/autosave10_10_2012_08_24_27_0_0.8850793349217833.jpg',\n",
       " 'rtsd-frames/autosave13_04_2013_15_24_42_0_0.26796181711653677.jpg',\n",
       " 'rtsd-frames/autosave02_10_2012_12_42_36_1.jpg',\n",
       " 'rtsd-frames/autosave09_10_2012_14_04_29_2.jpg',\n",
       " 'rtsd-frames/autosave09_10_2012_09_11_42_0_0.28354456618537005.jpg',\n",
       " 'rtsd-frames/autosave09_10_2012_12_32_48_3_0.1404659289207567.jpg',\n",
       " 'rtsd-frames/autosave01_02_2012_11_55_53.jpg',\n",
       " 'rtsd-frames/autosave13_04_2013_12_29_30_0.jpg',\n",
       " 'rtsd-frames/autosave02_10_2012_12_24_08_1_0.4014417586543677.jpg',\n",
       " 'rtsd-frames/autosave23_10_2012_09_43_29_1_0.7770629114159493.jpg',\n",
       " 'rtsd-frames/autosave09_11_2012_08_59_22_2_0.9572881491247094.jpg',\n",
       " 'rtsd-frames/autosave24_10_2012_11_47_21_1_0.8273704100122536.jpg',\n",
       " 'rtsd-frames/autosave09_10_2012_10_12_32_0_0.284598375315516.jpg',\n",
       " 'rtsd-frames/autosave09_10_2012_13_26_02_1_0.7821028235477266.jpg',\n",
       " 'rtsd-frames/autosave24_10_2012_11_43_29_4_0.014045404200238365.jpg',\n",
       " 'rtsd-frames/autosave09_10_2012_11_19_55_1.jpg',\n",
       " 'rtsd-frames/autosave02_10_2012_12_27_36_0_0.161884530683983.jpg',\n",
       " 'rtsd-frames/autosave23_10_2012_08_50_11_0_0.4290042412055546.jpg',\n",
       " 'rtsd-frames/autosave09_10_2012_08_53_04_1_0.020071721103881113.jpg',\n",
       " 'rtsd-frames/autosave09_11_2012_09_46_42_1_0.09118538617645267.jpg',\n",
       " 'rtsd-frames/autosave09_10_2012_13_26_04_1_0.5392293422651945.jpg',\n",
       " 'rtsd-frames/autosave09_11_2012_09_19_22_1_0.3942521577489184.jpg',\n",
       " 'rtsd-frames/autosave16_10_2012_11_52_50_0_0.5495074836538069.jpg',\n",
       " 'rtsd-frames/autosave09_10_2012_14_09_59_2_0.6074340503319279.jpg',\n",
       " 'rtsd-frames/autosave09_10_2012_11_18_50_1_0.5651758685845681.jpg',\n",
       " 'rtsd-frames/autosave21_01_2013_09_48_58_1_0.022139978984358377.jpg',\n",
       " 'rtsd-frames/autosave02_10_2012_12_42_11_0_0.06971397489308095.jpg',\n",
       " 'rtsd-frames/autosave13_04_2013_15_53_49_0_0.40207680258101874.jpg',\n",
       " 'rtsd-frames/autosave09_11_2012_09_05_31_0_0.2915195300662833.jpg',\n",
       " 'rtsd-frames/autosave24_10_2012_12_05_20_0_0.07109048527123774.jpg',\n",
       " 'rtsd-frames/autosave16_04_2013_14_31_14_0_0.6369988360299752.jpg',\n",
       " 'rtsd-frames/autosave23_10_2012_15_12_50_1_0.8796047021554497.jpg',\n",
       " 'rtsd-frames/autosave16_10_2012_11_25_19_2_0.6548020311255455.jpg',\n",
       " 'rtsd-frames/autosave16_04_2013_14_31_15_1_0.8879308319630121.jpg',\n",
       " 'rtsd-frames/autosave09_10_2012_14_21_28_2_0.9472975362826832.jpg',\n",
       " 'rtsd-frames/autosave24_10_2013_11_02_50_1.jpg',\n",
       " 'rtsd-frames/autosave13_04_2013_15_51_48_1_0.33561693353652244.jpg',\n",
       " 'rtsd-frames/autosave09_10_2012_09_56_11_0_0.6037994571092743.jpg',\n",
       " 'rtsd-frames/autosave16_04_2013_11_55_27_0_0.6340803252584417.jpg',\n",
       " 'rtsd-frames/autosave10_10_2012_09_26_16_1_0.8941641540102567.jpg',\n",
       " 'rtsd-frames/autosave13_04_2013_12_35_23_3_0.7100207860175962.jpg',\n",
       " 'rtsd-frames/autosave01_02_2012_09_28_19_0.5874696402052386.jpg',\n",
       " 'rtsd-frames/autosave23_10_2012_11_06_56_0_0.690320296451413.jpg',\n",
       " 'rtsd-frames/autosave09_10_2012_09_08_55_0_0.40842253018234675.jpg',\n",
       " 'rtsd-frames/autosave23_10_2012_10_38_49_2_0.10237435963618013.jpg',\n",
       " 'rtsd-frames/autosave21_01_2013_11_52_39_2_0.04768894080354602.jpg',\n",
       " 'rtsd-frames/autosave09_10_2012_14_04_29_2_0.8007789344052432.jpg',\n",
       " 'rtsd-frames/autosave16_04_2013_12_32_03_1_0.2107605668442737.jpg',\n",
       " 'rtsd-frames/autosave24_10_2013_11_06_50_1.jpg',\n",
       " 'rtsd-frames/autosave24_10_2012_11_50_15_0.jpg',\n",
       " 'rtsd-frames/autosave09_10_2012_10_10_03_2_0.942606637632711.jpg',\n",
       " 'rtsd-frames/autosave13_04_2013_12_44_06_0_0.7333766176816964.jpg',\n",
       " 'rtsd-frames/autosave02_10_2012_12_42_41_1_0.2965409325493369.jpg',\n",
       " 'rtsd-frames/autosave23_10_2012_14_52_34_1_0.15887608154944977.jpg',\n",
       " 'rtsd-frames/autosave09_10_2012_09_46_02_1_0.07965176796314788.jpg',\n",
       " 'rtsd-frames/autosave13_04_2013_09_39_00_2_0.2868426219799254.jpg',\n",
       " 'rtsd-frames/autosave02_10_2012_12_02_27_0_0.10608765184068503.jpg',\n",
       " 'rtsd-frames/autosave16_04_2013_11_57_51_1_0.9604890779338429.jpg',\n",
       " 'rtsd-frames/autosave01_02_2012_09_21_30_0.5174259369873561.jpg',\n",
       " 'rtsd-frames/autosave24_10_2012_11_16_23_1_0.973296670905442.jpg',\n",
       " 'rtsd-frames/autosave23_10_2012_13_06_09_4_0.40811460112748155.jpg',\n",
       " 'rtsd-frames/autosave16_04_2013_14_59_32_1_0.4986981518717326.jpg',\n",
       " 'rtsd-frames/autosave10_10_2012_14_24_36_3_0.38860169381053355.jpg',\n",
       " 'rtsd-frames/autosave23_10_2012_11_06_21_2_0.24930149810946267.jpg',\n",
       " 'rtsd-frames/autosave09_10_2012_10_09_28_1_0.522406682669788.jpg',\n",
       " 'rtsd-frames/autosave24_10_2012_11_15_13_2_0.32953623104415186.jpg',\n",
       " 'rtsd-frames/autosave10_10_2012_09_51_54_2_0.42264946178489404.jpg',\n",
       " 'rtsd-frames/autosave21_01_2013_12_32_41_2_0.0031526432496491452.jpg',\n",
       " 'rtsd-frames/autosave23_10_2012_12_48_31_0.jpg',\n",
       " 'rtsd-frames/autosave16_04_2013_11_40_54_2_0.48723953149228016.jpg',\n",
       " 'rtsd-frames/autosave13_04_2013_15_58_25_2_0.9487086861671176.jpg',\n",
       " 'rtsd-frames/autosave13_04_2013_14_16_45_0_0.22292534675297637.jpg',\n",
       " 'rtsd-frames/autosave13_04_2013_15_59_04_0_0.29249600037443746.jpg',\n",
       " 'rtsd-frames/autosave13_04_2013_14_16_50_1.jpg',\n",
       " 'rtsd-frames/autosave21_01_2013_09_37_14_1_0.036264539288087705.jpg',\n",
       " 'rtsd-frames/autosave09_10_2012_14_04_31_1_0.7698425603351265.jpg',\n",
       " 'rtsd-frames/autosave10_10_2012_14_49_45_3_0.8895493917551559.jpg',\n",
       " 'rtsd-frames/autosave16_10_2012_11_53_27_4_0.4228095859477564.jpg',\n",
       " 'rtsd-frames/autosave13_04_2013_09_58_33_3_0.6163036311209871.jpg',\n",
       " 'rtsd-frames/autosave23_10_2012_14_37_02_2.jpg',\n",
       " 'rtsd-frames/autosave16_10_2012_11_18_44_2_0.6422762987318132.jpg',\n",
       " 'rtsd-frames/autosave24_10_2012_11_47_22_0_0.8154875703966634.jpg',\n",
       " 'rtsd-frames/autosave10_10_2012_09_58_54_1.jpg',\n",
       " 'rtsd-frames/autosave13_04_2013_12_47_43_0_0.015181363576134532.jpg',\n",
       " 'rtsd-frames/autosave16_04_2013_14_40_22_2_0.7834144252298053.jpg',\n",
       " 'rtsd-frames/autosave10_10_2012_13_16_44_1_0.6431078776127933.jpg',\n",
       " 'rtsd-frames/autosave16_04_2013_14_43_02_3_0.7154771299492457.jpg',\n",
       " 'rtsd-frames/autosave09_10_2012_15_17_23_0.jpg',\n",
       " 'rtsd-frames/autosave01_02_2012_09_20_38_0.617678570410991.jpg',\n",
       " 'rtsd-frames/autosave10_10_2012_09_16_53_3_0.050158231277492304.jpg',\n",
       " 'rtsd-frames/autosave10_10_2012_13_31_41_2.jpg',\n",
       " 'rtsd-frames/autosave09_10_2012_11_14_01_1_0.6091023876817007.jpg',\n",
       " 'rtsd-frames/autosave13_04_2013_09_42_46_0_0.07384914747601823.jpg',\n",
       " 'rtsd-frames/autosave16_10_2012_08_22_44_1_0.1612174264156192.jpg',\n",
       " 'rtsd-frames/autosave16_10_2012_11_37_38_0_0.7155791804131272.jpg',\n",
       " 'rtsd-frames/autosave16_04_2013_15_03_22_0_0.1980598258459565.jpg',\n",
       " 'rtsd-frames/autosave24_10_2013_11_00_28_3.jpg',\n",
       " 'rtsd-frames/autosave01_02_2012_09_31_18_0.7209009325850232.jpg',\n",
       " 'rtsd-frames/autosave10_10_2012_10_00_56_1_0.5114558854467008.jpg',\n",
       " 'rtsd-frames/autosave13_04_2013_13_21_32_0.jpg',\n",
       " 'rtsd-frames/autosave02_10_2012_12_15_59_2_0.33745219545350824.jpg',\n",
       " 'rtsd-frames/autosave10_10_2012_13_16_44_1_0.39076244863468823.jpg',\n",
       " 'rtsd-frames/autosave16_04_2013_13_51_12_1_0.48314024242680986.jpg',\n",
       " 'rtsd-frames/autosave21_01_2013_10_13_08_0_0.8385509583549595.jpg',\n",
       " 'rtsd-frames/autosave16_04_2013_11_40_54_1_0.3690297961290069.jpg',\n",
       " 'rtsd-frames/autosave09_11_2012_08_59_22_4_0.287965619544029.jpg',\n",
       " 'rtsd-frames/autosave01_02_2012_09_26_22_0.8067080630391543.jpg',\n",
       " 'rtsd-frames/autosave09_10_2012_15_28_57_2_0.09482004276739753.jpg',\n",
       " 'rtsd-frames/autosave23_10_2012_10_40_49_0_0.5940239259841391.jpg',\n",
       " 'rtsd-frames/autosave10_10_2012_10_25_57_2_0.6513636668097389.jpg',\n",
       " 'rtsd-frames/autosave10_10_2012_13_20_19_0.jpg',\n",
       " 'rtsd-frames/autosave24_10_2013_11_09_46_3_0.5864282511127704.jpg',\n",
       " 'rtsd-frames/autosave21_01_2013_13_53_00_2_0.7720740479056106.jpg',\n",
       " 'rtsd-frames/autosave02_10_2012_12_24_37_3_0.65349701336604.jpg',\n",
       " 'rtsd-frames/autosave23_10_2012_11_11_55_2_0.5102660325690924.jpg',\n",
       " 'rtsd-frames/autosave16_10_2012_08_10_50_3_0.9233153573209951.jpg',\n",
       " 'rtsd-frames/autosave16_04_2013_14_43_09_2_0.19983450996128582.jpg',\n",
       " 'rtsd-frames/autosave13_04_2013_15_54_24_1_0.8491069929454406.jpg',\n",
       " 'rtsd-frames/autosave13_04_2013_12_22_49_3_0.6474871045825726.jpg',\n",
       " 'rtsd-frames/autosave09_10_2012_13_26_00_3_0.08621129388501803.jpg',\n",
       " 'rtsd-frames/autosave16_04_2013_11_52_15_0_0.9051660592699448.jpg',\n",
       " 'rtsd-frames/autosave09_10_2012_10_11_21_0_0.9853301917305115.jpg',\n",
       " 'rtsd-frames/autosave09_10_2012_14_08_09_3_0.9446385739374282.jpg',\n",
       " 'rtsd-frames/autosave16_04_2013_14_59_34_0_0.2652502274724545.jpg',\n",
       " 'rtsd-frames/autosave23_10_2012_14_52_35_1_0.5081528790897184.jpg',\n",
       " 'rtsd-frames/autosave09_10_2012_09_51_14_1_0.9176314332877553.jpg',\n",
       " 'rtsd-frames/autosave10_10_2012_12_40_09_2_0.8661732167536583.jpg',\n",
       " 'rtsd-frames/autosave09_10_2012_09_24_33_0_0.9100220826558801.jpg',\n",
       " 'rtsd-frames/autosave24_10_2012_11_41_28_0_0.8628572655313795.jpg',\n",
       " 'rtsd-frames/autosave13_04_2013_11_07_43_2_0.12629281258040492.jpg',\n",
       " 'rtsd-frames/autosave24_10_2012_10_39_17_0_0.47977162450927147.jpg',\n",
       " 'rtsd-frames/autosave09_10_2012_08_39_22_2.jpg',\n",
       " 'rtsd-frames/autosave16_04_2013_11_43_59_1_0.5386027297472631.jpg',\n",
       " 'rtsd-frames/autosave23_10_2012_10_33_55_2_0.29899159298626987.jpg',\n",
       " 'rtsd-frames/autosave09_10_2012_09_24_34_1.jpg',\n",
       " 'rtsd-frames/autosave21_01_2013_12_32_39_2_0.5110028516852045.jpg',\n",
       " 'rtsd-frames/autosave23_10_2012_11_27_41_2_0.5762274688669248.jpg',\n",
       " 'rtsd-frames/autosave24_10_2013_11_20_54_2_0.7991196235393608.jpg',\n",
       " 'rtsd-frames/autosave10_10_2012_13_36_44_3_0.4042974903510649.jpg',\n",
       " 'rtsd-frames/autosave01_02_2012_09_30_34_0.5134377525404025.jpg',\n",
       " 'rtsd-frames/autosave24_10_2012_11_05_11_2_0.6389332077361195.jpg',\n",
       " 'rtsd-frames/autosave21_01_2013_12_41_13_1_0.0162700379191395.jpg',\n",
       " 'rtsd-frames/autosave23_10_2012_10_33_54_2.jpg',\n",
       " 'rtsd-frames/autosave24_10_2013_11_09_47_2_0.41335176010867347.jpg',\n",
       " 'rtsd-frames/autosave24_10_2013_11_40_14_1_0.6552996004703806.jpg',\n",
       " 'rtsd-frames/autosave02_10_2012_12_57_26_1_0.7682841986280917.jpg',\n",
       " 'rtsd-frames/autosave09_10_2012_09_28_44_1_0.36378664216025336.jpg',\n",
       " 'rtsd-frames/autosave09_11_2012_09_18_24_2_0.9888678159258252.jpg',\n",
       " 'rtsd-frames/autosave23_10_2012_15_11_46_3_0.41110997013916384.jpg',\n",
       " 'rtsd-frames/autosave02_10_2012_12_06_37_0_0.06008903534824517.jpg',\n",
       " 'rtsd-frames/autosave09_10_2012_08_23_53_1.jpg',\n",
       " 'rtsd-frames/autosave21_01_2013_09_37_15_2_0.3611658152656988.jpg',\n",
       " 'rtsd-frames/autosave23_10_2012_08_34_55_0_0.3482182079192593.jpg',\n",
       " 'rtsd-frames/autosave10_10_2012_14_10_07_3_0.5949129448243083.jpg',\n",
       " 'rtsd-frames/autosave24_10_2012_11_54_43_2_0.9783313197909477.jpg',\n",
       " 'rtsd-frames/autosave16_04_2013_15_36_48_1.jpg',\n",
       " 'rtsd-frames/autosave10_10_2012_10_29_01_0.jpg',\n",
       " 'rtsd-frames/autosave23_10_2012_15_17_04_2_0.9417461310846174.jpg',\n",
       " 'rtsd-frames/autosave23_10_2012_08_35_03_2.jpg',\n",
       " 'rtsd-frames/autosave23_10_2012_14_57_14_0_0.6239927236846814.jpg',\n",
       " 'rtsd-frames/autosave02_10_2012_12_24_09_1_0.25519537162193673.jpg',\n",
       " 'rtsd-frames/autosave02_10_2012_12_03_20_1_0.7208085841813977.jpg',\n",
       " 'rtsd-frames/autosave10_10_2012_09_26_16_2_0.49018215739921855.jpg',\n",
       " 'rtsd-frames/autosave21_01_2013_12_40_45_1_0.6038415565500845.jpg',\n",
       " 'rtsd-frames/autosave01_02_2012_09_26_11.jpg',\n",
       " 'rtsd-frames/autosave01_02_2012_09_31_32_0.7809399270903373.jpg',\n",
       " 'rtsd-frames/autosave10_10_2012_13_31_19_1_0.43411583171549883.jpg',\n",
       " 'rtsd-frames/autosave13_04_2013_09_47_33_0_0.6861848984148305.jpg',\n",
       " 'rtsd-frames/autosave02_10_2012_12_06_38_3_0.7228713781251153.jpg',\n",
       " 'rtsd-frames/autosave01_02_2012_11_18_37_0.7840151549528214.jpg',\n",
       " 'rtsd-frames/autosave10_10_2012_09_05_41_1.jpg',\n",
       " 'rtsd-frames/autosave09_11_2012_09_25_47_2.jpg',\n",
       " 'rtsd-frames/autosave01_02_2012_13_48_58_0.4034561601105793.jpg',\n",
       " 'rtsd-frames/autosave09_10_2012_07_49_35_2_0.41367235591110174.jpg',\n",
       " 'rtsd-frames/autosave09_10_2012_10_09_24_3_0.4051352210567518.jpg',\n",
       " 'rtsd-frames/autosave10_10_2012_12_56_38_0_0.2543114969400625.jpg',\n",
       " 'rtsd-frames/autosave02_10_2012_12_41_58_2_0.6169588613840403.jpg',\n",
       " 'rtsd-frames/autosave16_10_2012_11_38_46_5.jpg',\n",
       " 'rtsd-frames/autosave13_04_2013_09_39_02_0_0.5093429023525222.jpg',\n",
       " 'rtsd-frames/autosave23_10_2012_14_52_33_3_0.6010161630567654.jpg',\n",
       " 'rtsd-frames/autosave09_10_2012_11_27_57_2_0.23855240195894845.jpg',\n",
       " 'rtsd-frames/autosave23_10_2012_13_01_42_0_0.958541901632174.jpg',\n",
       " 'rtsd-frames/autosave09_10_2012_09_31_49_0_0.9958757514415372.jpg',\n",
       " 'rtsd-frames/autosave23_10_2012_08_48_07_2_0.20798848446143858.jpg',\n",
       " 'rtsd-frames/autosave16_10_2012_11_27_25_1_0.7302401502463991.jpg',\n",
       " 'rtsd-frames/autosave13_04_2013_15_54_23_2_0.37510708206648313.jpg',\n",
       " 'rtsd-frames/autosave09_10_2012_13_37_48_0_0.7168904717644292.jpg',\n",
       " 'rtsd-frames/autosave24_10_2012_10_20_32_0_0.05392679212956242.jpg',\n",
       " 'rtsd-frames/autosave16_04_2013_12_30_47_1_0.5224591833928937.jpg',\n",
       " 'rtsd-frames/autosave10_10_2012_12_50_11_0_0.5940502439455709.jpg',\n",
       " 'rtsd-frames/autosave09_10_2012_09_24_34_1_0.1711079077216947.jpg',\n",
       " 'rtsd-frames/autosave09_11_2012_09_05_25_0.jpg',\n",
       " 'rtsd-frames/autosave16_10_2012_07_08_22_0_0.44181628142593266.jpg',\n",
       " 'rtsd-frames/autosave24_10_2012_10_38_50_2_0.09386358820138274.jpg',\n",
       " 'rtsd-frames/autosave13_04_2013_15_19_01_3_0.5242768233057736.jpg',\n",
       " 'rtsd-frames/autosave16_04_2013_15_03_22_3_0.8686748688042476.jpg',\n",
       " 'rtsd-frames/autosave09_10_2012_12_20_06_0_0.9707203576335732.jpg',\n",
       " 'rtsd-frames/autosave09_11_2012_09_34_35_2_0.8766879337518758.jpg',\n",
       " 'rtsd-frames/autosave10_10_2012_09_28_51_2_0.4754022651230335.jpg',\n",
       " 'rtsd-frames/autosave09_10_2012_11_14_01_3_0.5975516722263342.jpg',\n",
       " 'rtsd-frames/autosave16_04_2013_15_31_24_0_0.29406246026717486.jpg',\n",
       " 'rtsd-frames/autosave09_11_2012_09_34_14_0_0.35983573603274643.jpg',\n",
       " 'rtsd-frames/autosave16_10_2012_09_00_44_1_0.5117448896762852.jpg',\n",
       " 'rtsd-frames/autosave13_04_2013_09_53_30_2_0.32831294953997525.jpg',\n",
       " 'rtsd-frames/autosave16_10_2012_11_37_44_4_0.1305707475250486.jpg',\n",
       " 'rtsd-frames/autosave09_10_2012_12_42_22_3_0.31621931828403427.jpg',\n",
       " 'rtsd-frames/autosave10_10_2012_13_27_30_2_0.5699724219668173.jpg',\n",
       " 'rtsd-frames/autosave13_04_2013_12_22_49_3_0.8545268232167319.jpg',\n",
       " 'rtsd-frames/autosave24_10_2012_10_12_31_2_0.5398242371351694.jpg',\n",
       " 'rtsd-frames/autosave16_10_2012_11_40_10_1_0.6912838956007987.jpg',\n",
       " 'rtsd-frames/autosave02_10_2012_12_43_08_2_0.30600147041709524.jpg',\n",
       " 'rtsd-frames/autosave16_04_2013_12_30_42_2_0.42273537730312816.jpg',\n",
       " 'rtsd-frames/autosave10_10_2012_14_10_09_3_0.38405774632351586.jpg',\n",
       " 'rtsd-frames/autosave16_04_2013_14_43_00_1_0.682968185103505.jpg',\n",
       " 'rtsd-frames/autosave24_10_2012_11_16_24_0_0.26710288318115505.jpg',\n",
       " 'rtsd-frames/autosave16_04_2013_14_39_56_1_0.6329904270378437.jpg',\n",
       " 'rtsd-frames/autosave16_04_2013_15_03_58_2_0.13580400832335382.jpg',\n",
       " 'rtsd-frames/autosave09_10_2012_14_04_31_0.jpg',\n",
       " 'rtsd-frames/autosave16_04_2013_14_32_17_0_0.09326531499489743.jpg',\n",
       " 'rtsd-frames/autosave23_10_2012_11_06_55_2_0.7141098569554277.jpg',\n",
       " 'rtsd-frames/autosave16_04_2013_11_41_48_1_0.4215323523223379.jpg',\n",
       " 'rtsd-frames/autosave16_10_2012_11_27_25_0_0.6990520201539484.jpg',\n",
       " 'rtsd-frames/autosave16_04_2013_11_57_56_1_0.3114851641752745.jpg',\n",
       " 'rtsd-frames/autosave09_10_2012_09_31_48_1_0.2578212959434981.jpg',\n",
       " 'rtsd-frames/autosave09_10_2012_10_22_38_0_0.31612402982321597.jpg',\n",
       " 'rtsd-frames/autosave09_10_2012_14_12_52_0_0.4662441996786687.jpg',\n",
       " 'rtsd-frames/autosave16_04_2013_11_57_49_0_0.9900746151272467.jpg',\n",
       " 'rtsd-frames/autosave16_04_2013_12_30_43_2_0.9646284383697799.jpg',\n",
       " 'rtsd-frames/autosave21_01_2013_13_53_13_0_0.8674219822923644.jpg',\n",
       " 'rtsd-frames/autosave24_10_2012_11_05_12_0_0.5626659460151354.jpg',\n",
       " 'rtsd-frames/autosave16_10_2012_08_09_57_3_0.6234582800648508.jpg',\n",
       " 'rtsd-frames/autosave23_10_2012_12_47_22_1_0.5818642368323244.jpg',\n",
       " 'rtsd-frames/autosave24_10_2012_11_31_05_3_0.807718203179541.jpg',\n",
       " 'rtsd-frames/autosave16_10_2012_11_38_44_4.jpg',\n",
       " 'rtsd-frames/autosave16_10_2012_11_38_46_4_0.4342317870943059.jpg',\n",
       " 'rtsd-frames/autosave16_04_2013_14_37_04_3_0.3985651045627354.jpg',\n",
       " 'rtsd-frames/autosave13_04_2013_15_53_46_1_0.8741694184805912.jpg',\n",
       " 'rtsd-frames/autosave16_04_2013_11_55_18_1_0.009975108430066881.jpg',\n",
       " 'rtsd-frames/autosave21_01_2013_13_52_58_1_0.894120038108045.jpg',\n",
       " 'rtsd-frames/autosave09_10_2012_13_24_25_0_0.2828825290772048.jpg',\n",
       " 'rtsd-frames/autosave23_10_2012_12_54_09_0_0.044481236330329854.jpg',\n",
       " 'rtsd-frames/autosave09_11_2012_09_25_49_0.jpg',\n",
       " 'rtsd-frames/autosave02_10_2012_12_02_29_1_0.8066859700998011.jpg',\n",
       " 'rtsd-frames/autosave16_04_2013_11_44_31_3_0.5137676269718855.jpg',\n",
       " 'rtsd-frames/autosave01_02_2012_13_41_19_0.28524049901159154.jpg',\n",
       " 'rtsd-frames/autosave23_10_2012_12_01_10_1.jpg',\n",
       " 'rtsd-frames/autosave16_10_2012_11_48_43_0_0.2701419386563323.jpg',\n",
       " 'rtsd-frames/autosave24_10_2012_11_31_06_0_0.5060116042037309.jpg',\n",
       " 'rtsd-frames/autosave10_10_2012_09_29_52_0_0.9345942190415673.jpg',\n",
       " 'rtsd-frames/autosave21_01_2013_10_08_54_0_0.7987592146672243.jpg',\n",
       " 'rtsd-frames/autosave13_04_2013_15_37_05_2_0.858836698047003.jpg',\n",
       " 'rtsd-frames/autosave13_04_2013_15_37_05_0_0.987822098315245.jpg',\n",
       " 'rtsd-frames/autosave09_10_2012_10_09_28_1_0.07607606452977167.jpg',\n",
       " 'rtsd-frames/autosave01_02_2012_09_45_33_0.9963605266696356.jpg',\n",
       " 'rtsd-frames/autosave13_04_2013_15_19_00_3_0.749573379722176.jpg',\n",
       " 'rtsd-frames/autosave23_10_2012_11_06_20_1_0.46675874134286166.jpg',\n",
       " 'rtsd-frames/autosave09_10_2012_08_39_21_2_0.3608920243761101.jpg',\n",
       " 'rtsd-frames/autosave13_04_2013_13_48_39_1_0.586111355775874.jpg',\n",
       " 'rtsd-frames/autosave09_10_2012_13_37_02_0_0.9972533532149883.jpg',\n",
       " 'rtsd-frames/autosave23_10_2012_14_52_35_0_0.39255631394151536.jpg',\n",
       " 'rtsd-frames/autosave23_10_2012_11_59_05_0.jpg',\n",
       " 'rtsd-frames/autosave16_04_2013_13_34_49_0_0.8494830048508207.jpg',\n",
       " 'rtsd-frames/autosave09_11_2012_09_19_23_0_0.49607374697944984.jpg',\n",
       " 'rtsd-frames/autosave09_10_2012_11_14_34_2_0.9811491748416178.jpg',\n",
       " 'rtsd-frames/autosave13_04_2013_13_39_58_0_0.20753356054601713.jpg',\n",
       " 'rtsd-frames/autosave13_04_2013_15_58_29_1_0.6434420454817452.jpg',\n",
       " 'rtsd-frames/autosave09_10_2012_10_01_27_1_0.1829265350575764.jpg',\n",
       " 'rtsd-frames/autosave01_02_2012_13_47_26_0.5195013333958438.jpg',\n",
       " 'rtsd-frames/autosave09_10_2012_14_04_44_0_0.01749972381056919.jpg',\n",
       " 'rtsd-frames/autosave02_10_2012_12_06_13_2_0.3170290162951488.jpg',\n",
       " 'rtsd-frames/autosave16_04_2013_11_57_51_1_0.42411449199632245.jpg',\n",
       " 'rtsd-frames/autosave02_10_2012_12_04_22_3_0.6073586779671312.jpg',\n",
       " 'rtsd-frames/autosave16_04_2013_14_52_54_1_0.6383117043864153.jpg',\n",
       " 'rtsd-frames/autosave09_10_2012_11_52_11_1_0.7300892701972864.jpg',\n",
       " 'rtsd-frames/autosave09_10_2012_11_14_32_2.jpg',\n",
       " 'rtsd-frames/autosave13_04_2013_09_54_01_0_0.7292694745527255.jpg',\n",
       " 'rtsd-frames/autosave24_10_2012_11_05_09_2_0.6249103273235928.jpg',\n",
       " 'rtsd-frames/autosave16_04_2013_14_37_02_2_0.22398881679259808.jpg',\n",
       " 'rtsd-frames/autosave21_01_2013_12_39_42_0.jpg',\n",
       " 'rtsd-frames/autosave01_02_2012_09_39_16_0.9708563362945244.jpg',\n",
       " 'rtsd-frames/autosave09_10_2012_14_04_31_2_0.29192033025515207.jpg',\n",
       " 'rtsd-frames/autosave24_10_2012_12_11_35_2_0.7159097309798946.jpg',\n",
       " 'rtsd-frames/autosave21_01_2013_09_40_21_0_0.6004763071281217.jpg',\n",
       " 'rtsd-frames/autosave23_10_2012_10_40_47_3_0.9698768765382363.jpg',\n",
       " 'rtsd-frames/autosave13_04_2013_09_56_58_1_0.0525683126305293.jpg',\n",
       " 'rtsd-frames/autosave10_10_2012_09_16_55_1_0.337722313074592.jpg',\n",
       " 'rtsd-frames/autosave10_10_2012_10_12_03_0_0.9551642319295156.jpg',\n",
       " 'rtsd-frames/autosave13_04_2013_14_14_04_2_0.8417813779343251.jpg',\n",
       " 'rtsd-frames/autosave23_10_2012_08_39_01_1_0.440726493774274.jpg',\n",
       " 'rtsd-frames/autosave10_10_2012_10_28_08_1_0.8741065579963151.jpg',\n",
       " 'rtsd-frames/autosave16_04_2013_15_36_48_1_0.4089556350775968.jpg',\n",
       " 'rtsd-frames/autosave13_04_2013_13_44_58_2_0.6712408095863267.jpg',\n",
       " 'rtsd-frames/autosave23_10_2012_12_47_23_2_0.07793318800515237.jpg',\n",
       " 'rtsd-frames/autosave09_11_2012_09_52_26_4_0.44222496960258983.jpg',\n",
       " 'rtsd-frames/autosave09_10_2012_12_47_01_1_0.8422683259039623.jpg',\n",
       " 'rtsd-frames/autosave09_11_2012_09_25_47_2_0.0872793461518846.jpg',\n",
       " 'rtsd-frames/autosave13_04_2013_15_58_54_1_0.310490522910441.jpg',\n",
       " 'rtsd-frames/autosave02_10_2012_12_42_12_2_0.3927721540866633.jpg',\n",
       " 'rtsd-frames/autosave10_10_2012_11_25_36_2_0.7448628441064976.jpg',\n",
       " 'rtsd-frames/autosave23_10_2012_11_32_25_3.jpg',\n",
       " 'rtsd-frames/autosave09_10_2012_09_51_10_1_0.7566130176988626.jpg',\n",
       " 'rtsd-frames/autosave09_10_2012_14_09_23_1_0.7797458719289504.jpg',\n",
       " 'rtsd-frames/autosave13_04_2013_15_18_57_2_0.49692209752008176.jpg',\n",
       " 'rtsd-frames/autosave16_04_2013_15_03_19_2_0.5289659772122732.jpg',\n",
       " 'rtsd-frames/autosave09_10_2012_10_01_33_0_0.44215204629176086.jpg',\n",
       " 'rtsd-frames/autosave10_10_2012_14_49_47_0_0.3707327961362292.jpg',\n",
       " 'rtsd-frames/autosave16_04_2013_15_31_23_1.jpg',\n",
       " 'rtsd-frames/autosave16_10_2012_09_01_25_1.jpg',\n",
       " 'rtsd-frames/autosave09_10_2012_11_14_03_3_0.8371889723523881.jpg',\n",
       " 'rtsd-frames/autosave09_10_2012_13_06_55_2_0.028726160202735884.jpg',\n",
       " 'rtsd-frames/autosave21_01_2013_10_13_08_0_0.46096855562549877.jpg',\n",
       " 'rtsd-frames/autosave10_10_2012_13_20_19_2_0.4991008255818554.jpg',\n",
       " 'rtsd-frames/autosave23_10_2012_10_25_38_2.jpg',\n",
       " 'rtsd-frames/autosave09_11_2012_09_21_51_3_0.5302536711365027.jpg',\n",
       " 'rtsd-frames/autosave21_01_2013_13_54_18_2_0.5816804634824477.jpg',\n",
       " 'rtsd-frames/autosave10_10_2012_14_22_52_0_0.770992747342025.jpg',\n",
       " 'rtsd-frames/autosave09_10_2012_10_09_59_1_0.41924245624920076.jpg',\n",
       " 'rtsd-frames/autosave16_04_2013_14_37_30_1_0.0020031020142908806.jpg',\n",
       " 'rtsd-frames/autosave10_10_2012_13_20_18_1.jpg',\n",
       " 'rtsd-frames/autosave13_04_2013_14_14_40_0_0.5126330753169386.jpg',\n",
       " 'rtsd-frames/autosave24_10_2012_11_30_50_0.jpg',\n",
       " 'rtsd-frames/autosave24_10_2012_10_39_24_2_0.7329830123532771.jpg',\n",
       " 'rtsd-frames/autosave09_10_2012_13_29_34_2_0.5795350006989634.jpg',\n",
       " 'rtsd-frames/autosave24_10_2013_11_13_25_0.jpg',\n",
       " 'rtsd-frames/autosave16_04_2013_12_00_59_1_0.4201448407566942.jpg',\n",
       " 'rtsd-frames/autosave09_10_2012_09_47_50_1_0.9020482997243736.jpg',\n",
       " 'rtsd-frames/autosave21_01_2013_13_53_00_2_0.882317247755851.jpg',\n",
       " 'rtsd-frames/autosave24_10_2013_11_00_28_3_0.39711853623431437.jpg',\n",
       " 'rtsd-frames/autosave02_10_2012_12_02_18_2_0.49238400210689504.jpg',\n",
       " 'rtsd-frames/autosave16_04_2013_11_30_00_3_0.755643208470755.jpg',\n",
       " 'rtsd-frames/autosave01_02_2012_09_28_06_0.7377576937986082.jpg',\n",
       " 'rtsd-frames/autosave24_10_2012_11_50_15_2.jpg',\n",
       " 'rtsd-frames/autosave09_10_2012_13_17_45_0_0.5897267186652998.jpg',\n",
       " 'rtsd-frames/autosave24_10_2012_10_38_52_2.jpg',\n",
       " 'rtsd-frames/autosave13_04_2013_12_47_43_1_0.2152525209789612.jpg',\n",
       " 'rtsd-frames/autosave24_10_2012_10_06_18_1_0.7279361467484775.jpg',\n",
       " 'rtsd-frames/autosave10_10_2012_12_12_27_0_0.35039690543531243.jpg',\n",
       " 'rtsd-frames/autosave09_10_2012_14_19_14_1_0.05732182557683829.jpg',\n",
       " 'rtsd-frames/autosave23_10_2012_10_42_33_1_0.6572317525018404.jpg',\n",
       " 'rtsd-frames/autosave16_10_2012_08_44_26_2_0.18973637938512256.jpg',\n",
       " 'rtsd-frames/autosave16_10_2012_07_17_56_1_0.8953478179930537.jpg',\n",
       " 'rtsd-frames/autosave09_10_2012_14_00_35_1_0.2063916793170989.jpg',\n",
       " 'rtsd-frames/autosave16_10_2012_11_25_42_2_0.3094461800900802.jpg',\n",
       " 'rtsd-frames/autosave16_04_2013_12_30_06_2_0.7710965958110219.jpg',\n",
       " 'rtsd-frames/autosave10_10_2012_13_01_22_1_0.4866998117169068.jpg',\n",
       " 'rtsd-frames/autosave13_04_2013_15_37_07_2_0.45719681526846323.jpg',\n",
       " 'rtsd-frames/autosave16_10_2012_11_25_42_1_0.41089643582751045.jpg',\n",
       " 'rtsd-frames/autosave16_10_2012_08_35_45_0_0.003128768534059634.jpg',\n",
       " 'rtsd-frames/autosave10_10_2012_09_07_06_0_0.16493407142893501.jpg',\n",
       " 'rtsd-frames/autosave01_02_2012_09_31_20_0.2715091668521632.jpg',\n",
       " 'rtsd-frames/autosave01_02_2012_09_26_12_0.5919964877479164.jpg',\n",
       " 'rtsd-frames/autosave10_10_2012_08_08_28_3_0.9457377967405586.jpg',\n",
       " 'rtsd-frames/autosave09_10_2012_13_26_02_3.jpg',\n",
       " 'rtsd-frames/autosave09_11_2012_09_34_41_3_0.26197278074034513.jpg',\n",
       " 'rtsd-frames/autosave09_10_2012_09_51_10_0_0.4147878133243369.jpg',\n",
       " 'rtsd-frames/autosave02_10_2012_12_04_29_2_0.8256942578394866.jpg',\n",
       " 'rtsd-frames/autosave09_10_2012_09_51_00_2_0.20558387155836244.jpg',\n",
       " 'rtsd-frames/autosave24_10_2012_10_39_16_2_0.9380549801558563.jpg',\n",
       " 'rtsd-frames/autosave09_10_2012_13_23_54_0_0.766749165534968.jpg',\n",
       " 'rtsd-frames/autosave16_10_2012_10_27_59_5_0.9531487266219972.jpg',\n",
       " 'rtsd-frames/autosave09_10_2012_13_29_42_0.jpg',\n",
       " 'rtsd-frames/autosave09_10_2012_08_36_02_1.jpg',\n",
       " 'rtsd-frames/autosave24_10_2012_10_06_17_2_0.9882021459257913.jpg',\n",
       " 'rtsd-frames/autosave24_10_2012_10_20_34_0_0.32859088290871086.jpg',\n",
       " 'rtsd-frames/autosave23_10_2012_14_23_56_3.jpg',\n",
       " 'rtsd-frames/autosave24_10_2012_11_12_06_1_0.8266160347336167.jpg',\n",
       " 'rtsd-frames/autosave23_10_2012_10_13_49_0.jpg',\n",
       " 'rtsd-frames/autosave01_02_2012_09_18_50_0.6770313067465643.jpg',\n",
       " 'rtsd-frames/autosave23_10_2012_12_54_07_1_0.6532146772674072.jpg',\n",
       " 'rtsd-frames/autosave10_10_2012_14_10_09_1_0.6367827072502598.jpg',\n",
       " 'rtsd-frames/autosave24_10_2012_11_05_10_0_0.7778138401650755.jpg',\n",
       " 'rtsd-frames/autosave16_10_2012_11_40_10_1.jpg',\n",
       " 'rtsd-frames/autosave16_04_2013_14_59_02_1.jpg',\n",
       " 'rtsd-frames/autosave10_10_2012_12_49_50_3_0.9406836906043091.jpg',\n",
       " 'rtsd-frames/autosave13_04_2013_15_57_55_0_0.6464602557647652.jpg',\n",
       " 'rtsd-frames/autosave10_10_2012_12_12_25_2_0.8097562290962418.jpg',\n",
       " 'rtsd-frames/autosave09_10_2012_14_04_26_0_0.7782733159662422.jpg',\n",
       " 'rtsd-frames/autosave10_10_2012_13_12_59_0_0.9642481958186865.jpg',\n",
       " 'rtsd-frames/autosave09_11_2012_09_34_35_0_0.15466052165053157.jpg',\n",
       " 'rtsd-frames/autosave16_04_2013_11_42_51_0_0.12294423096103602.jpg',\n",
       " 'rtsd-frames/autosave09_10_2012_07_56_40_2_0.2503189303382404.jpg',\n",
       " 'rtsd-frames/autosave23_10_2012_13_08_00_2_0.04181365090242728.jpg',\n",
       " 'rtsd-frames/autosave16_10_2012_09_01_34_4_0.5148642656925982.jpg',\n",
       " 'rtsd-frames/autosave10_10_2012_14_10_09_2_0.35883865846077134.jpg',\n",
       " 'rtsd-frames/autosave10_10_2012_09_29_50_2_0.92567979146606.jpg',\n",
       " 'rtsd-frames/autosave23_10_2012_10_13_48_2_0.16001410221578205.jpg',\n",
       " 'rtsd-frames/autosave10_10_2012_14_24_36_3_0.21673740627367255.jpg',\n",
       " 'rtsd-frames/autosave09_10_2012_09_41_07_2.jpg',\n",
       " 'rtsd-frames/autosave01_02_2012_09_31_11_0.8063141040316049.jpg',\n",
       " 'rtsd-frames/autosave23_10_2012_10_39_28_3_0.19922116689559144.jpg',\n",
       " 'rtsd-frames/autosave24_10_2012_10_14_35_0.jpg',\n",
       " 'rtsd-frames/autosave01_02_2012_09_28_26_0.15951333440306548.jpg',\n",
       " 'rtsd-frames/autosave10_10_2012_10_00_55_2_0.002622366318134728.jpg',\n",
       " 'rtsd-frames/autosave09_10_2012_08_29_00_1_0.6125515116082412.jpg',\n",
       " 'rtsd-frames/autosave16_04_2013_12_30_42_1_0.7384754706969688.jpg',\n",
       " 'rtsd-frames/autosave16_10_2012_08_04_31_0.jpg',\n",
       " 'rtsd-frames/autosave24_10_2012_10_39_44_4.jpg',\n",
       " 'rtsd-frames/autosave09_10_2012_07_54_04_3_0.8427293276981205.jpg',\n",
       " 'rtsd-frames/autosave01_02_2012_13_48_55_0.5610459593443248.jpg',\n",
       " 'rtsd-frames/autosave02_10_2012_12_06_12_2_0.18627909295158096.jpg',\n",
       " 'rtsd-frames/autosave16_04_2013_11_42_49_0_0.8472031080420731.jpg',\n",
       " 'rtsd-frames/autosave23_10_2012_13_24_36_0.jpg',\n",
       " 'rtsd-frames/autosave09_10_2012_09_51_00_1_0.6757131710813422.jpg',\n",
       " 'rtsd-frames/autosave24_10_2012_11_05_09_3_0.03702815249242353.jpg',\n",
       " 'rtsd-frames/autosave10_10_2012_08_49_32_3_0.9628342632901303.jpg',\n",
       " 'rtsd-frames/autosave09_10_2012_08_45_52_3_0.5756894708624932.jpg',\n",
       " 'rtsd-frames/autosave10_10_2012_10_25_57_2_0.19481411256649117.jpg',\n",
       " 'rtsd-frames/autosave09_10_2012_09_42_22_0_0.6498345799954468.jpg',\n",
       " 'rtsd-frames/autosave13_04_2013_13_56_23_1_0.3680698111750198.jpg',\n",
       " 'rtsd-frames/autosave02_10_2012_12_28_01_0_0.23707394057711406.jpg',\n",
       " 'rtsd-frames/autosave10_10_2012_10_28_09_0_0.9410690427539258.jpg',\n",
       " 'rtsd-frames/autosave09_10_2012_14_08_10_1_0.440424063295622.jpg',\n",
       " 'rtsd-frames/autosave16_04_2013_14_40_22_1_0.9196695435590463.jpg',\n",
       " 'rtsd-frames/autosave24_10_2012_09_57_22_0_0.34710079275023586.jpg',\n",
       " 'rtsd-frames/autosave21_01_2013_10_13_10_1_0.27251192357253373.jpg',\n",
       " 'rtsd-frames/autosave09_10_2012_10_09_28_3_0.17949843953674205.jpg',\n",
       " 'rtsd-frames/autosave21_01_2013_12_52_31_0.jpg',\n",
       " 'rtsd-frames/autosave16_04_2013_11_43_59_0_0.8673641180751397.jpg',\n",
       " 'rtsd-frames/autosave23_10_2012_09_30_46_2_0.5858599995703556.jpg',\n",
       " 'rtsd-frames/autosave09_10_2012_10_12_31_1_0.051348478950725585.jpg',\n",
       " 'rtsd-frames/autosave09_10_2012_13_17_44_2.jpg',\n",
       " 'rtsd-frames/autosave13_04_2013_15_54_24_2_0.08410934246424473.jpg',\n",
       " 'rtsd-frames/autosave02_10_2012_12_42_42_1_0.672404031578453.jpg',\n",
       " 'rtsd-frames/autosave23_10_2012_11_15_35_2_0.11047681971318069.jpg',\n",
       " 'rtsd-frames/autosave16_10_2012_11_27_23_1_0.4695312001005296.jpg',\n",
       " 'rtsd-frames/autosave16_10_2012_08_35_47_5_0.35107040210672447.jpg',\n",
       " 'rtsd-frames/autosave02_10_2012_12_04_40_0_0.529745191340738.jpg',\n",
       " 'rtsd-frames/autosave23_10_2012_11_06_21_0_0.6507984876405616.jpg',\n",
       " 'rtsd-frames/autosave01_02_2012_10_52_30.jpg',\n",
       " 'rtsd-frames/autosave16_04_2013_11_57_56_2_0.448306303021654.jpg',\n",
       " 'rtsd-frames/autosave09_10_2012_13_19_16_0.jpg',\n",
       " 'rtsd-frames/autosave16_10_2012_11_29_16_2.jpg',\n",
       " 'rtsd-frames/autosave09_10_2012_08_50_38_2.jpg',\n",
       " 'rtsd-frames/autosave16_10_2012_11_01_59_2_0.9095718727046243.jpg',\n",
       " 'rtsd-frames/autosave23_10_2012_14_52_34_0.jpg',\n",
       " 'rtsd-frames/autosave09_10_2012_09_24_33_0_0.29691571968827946.jpg',\n",
       " 'rtsd-frames/autosave01_02_2012_13_41_22_0.9765419014135167.jpg',\n",
       " 'rtsd-frames/autosave13_04_2013_15_57_55_3_0.17727894472807515.jpg',\n",
       " 'rtsd-frames/autosave01_02_2012_09_22_18_0.4038666683117168.jpg',\n",
       " 'rtsd-frames/autosave16_10_2012_12_08_58_2_0.10397436965612272.jpg',\n",
       " 'rtsd-frames/autosave09_10_2012_12_42_22_2_0.5071221821106064.jpg',\n",
       " 'rtsd-frames/autosave16_10_2012_08_22_43_3.jpg',\n",
       " 'rtsd-frames/autosave09_10_2012_08_51_14_1_0.17745781416797513.jpg',\n",
       " 'rtsd-frames/autosave24_10_2012_10_39_10_1_0.6546921734448155.jpg',\n",
       " 'rtsd-frames/autosave09_10_2012_13_30_01_0_0.0503574145162875.jpg',\n",
       " 'rtsd-frames/autosave16_04_2013_11_57_58_0_0.7122914697800576.jpg',\n",
       " 'rtsd-frames/autosave16_10_2012_08_34_50_3_0.406356749829783.jpg',\n",
       " 'rtsd-frames/autosave13_04_2013_12_29_31_0.jpg',\n",
       " 'rtsd-frames/autosave24_10_2012_10_39_08_0_0.4327066745214685.jpg',\n",
       " 'rtsd-frames/autosave23_10_2012_08_48_07_3_0.4191215608054073.jpg',\n",
       " 'rtsd-frames/autosave10_10_2012_10_00_56_0_0.3191001546907096.jpg',\n",
       " 'rtsd-frames/autosave16_10_2012_09_00_44_0_0.2138989920332529.jpg',\n",
       " 'rtsd-frames/autosave01_02_2012_13_27_19_0.45892702697279886.jpg',\n",
       " 'rtsd-frames/autosave09_10_2012_13_19_16_2.jpg',\n",
       " 'rtsd-frames/autosave09_10_2012_12_17_25_1_0.5263968902651734.jpg',\n",
       " 'rtsd-frames/autosave01_02_2012_09_26_28_0.8084162727217886.jpg',\n",
       " 'rtsd-frames/autosave24_10_2012_11_17_37_2_0.3529089280075448.jpg',\n",
       " 'rtsd-frames/autosave23_10_2012_10_41_04_2_0.5335635811190025.jpg',\n",
       " 'rtsd-frames/autosave24_10_2012_11_43_29_3_0.08645835160428239.jpg',\n",
       " 'rtsd-frames/autosave09_10_2012_10_10_03_3_0.9023390183146432.jpg',\n",
       " 'rtsd-frames/autosave21_01_2013_10_37_20_2_0.5792048723826291.jpg',\n",
       " 'rtsd-frames/autosave16_10_2012_09_01_13_1_0.513060382364039.jpg',\n",
       " 'rtsd-frames/autosave01_02_2012_13_48_35_0.34574110185526286.jpg',\n",
       " 'rtsd-frames/autosave16_10_2012_08_51_01_0_0.196952710444675.jpg',\n",
       " 'rtsd-frames/autosave16_10_2012_10_27_58_3.jpg',\n",
       " 'rtsd-frames/autosave09_11_2012_09_05_26_2_0.6341194536834358.jpg',\n",
       " 'rtsd-frames/autosave09_10_2012_08_51_57_1.jpg',\n",
       " 'rtsd-frames/autosave02_10_2012_12_16_00_1_0.9953041619414639.jpg',\n",
       " 'rtsd-frames/autosave09_10_2012_10_21_12_0_0.7709253260674307.jpg',\n",
       " 'rtsd-frames/autosave09_10_2012_12_02_46_2.jpg',\n",
       " 'rtsd-frames/autosave16_04_2013_15_03_19_1_0.21271636361180157.jpg',\n",
       " 'rtsd-frames/autosave16_10_2012_11_40_10_0_0.29273157124560956.jpg',\n",
       " 'rtsd-frames/autosave10_10_2012_12_12_27_3_0.9580124581146511.jpg',\n",
       " 'rtsd-frames/autosave10_10_2012_12_12_27_2_0.26810298312799585.jpg',\n",
       " 'rtsd-frames/autosave13_04_2013_12_44_08_1_0.804482719301513.jpg',\n",
       " 'rtsd-frames/autosave09_10_2012_09_50_58_0_0.10891103733490215.jpg',\n",
       " 'rtsd-frames/autosave16_10_2012_07_17_55_2.jpg',\n",
       " 'rtsd-frames/autosave09_11_2012_09_46_42_1.jpg',\n",
       " 'rtsd-frames/autosave10_10_2012_09_58_56_0_0.07398552628428512.jpg',\n",
       " 'rtsd-frames/autosave16_10_2012_10_38_58_1_0.8632552837100115.jpg',\n",
       " 'rtsd-frames/autosave09_10_2012_08_29_00_1_0.6923205990640211.jpg',\n",
       " 'rtsd-frames/autosave21_01_2013_13_54_17_2_0.8899544124848973.jpg',\n",
       " 'rtsd-frames/autosave09_10_2012_08_51_13_2.jpg',\n",
       " 'rtsd-frames/autosave16_04_2013_11_30_00_0_0.38117030501066185.jpg',\n",
       " 'rtsd-frames/autosave09_11_2012_09_18_24_1_0.20785342724048295.jpg',\n",
       " 'rtsd-frames/autosave10_10_2012_14_25_53_2.jpg',\n",
       " 'rtsd-frames/autosave16_10_2012_10_06_40_0.jpg',\n",
       " 'rtsd-frames/autosave01_02_2012_10_49_47_0.3611444985287593.jpg',\n",
       " 'rtsd-frames/autosave23_10_2012_11_27_43_0_0.24260165713713644.jpg',\n",
       " 'rtsd-frames/autosave16_10_2012_11_40_25_2_0.5888814349268522.jpg',\n",
       " 'rtsd-frames/autosave16_10_2012_11_42_10_2_0.29615340045228133.jpg',\n",
       " 'rtsd-frames/autosave01_02_2012_09_48_09_0.9184103591792113.jpg',\n",
       " 'rtsd-frames/autosave09_10_2012_12_47_01_1_0.9753971171895156.jpg',\n",
       " 'rtsd-frames/autosave09_10_2012_14_09_30_2_0.21973402786666008.jpg',\n",
       " 'rtsd-frames/autosave16_10_2012_11_01_55_2_0.34110958942914593.jpg',\n",
       " 'rtsd-frames/autosave24_10_2012_11_54_07_1_0.5496784401035435.jpg',\n",
       " 'rtsd-frames/autosave02_10_2012_11_57_51_1_0.432826166115327.jpg',\n",
       " 'rtsd-frames/autosave02_10_2012_12_13_32_1.jpg',\n",
       " 'rtsd-frames/autosave09_10_2012_14_32_58_0.jpg',\n",
       " 'rtsd-frames/autosave01_02_2012_09_31_17_0.9064532307344476.jpg',\n",
       " 'rtsd-frames/autosave01_02_2012_09_18_52_0.9127089141992659.jpg',\n",
       " 'rtsd-frames/autosave01_02_2012_11_22_24_0.9999500738304054.jpg',\n",
       " 'rtsd-frames/autosave24_10_2012_11_11_56_0_0.021664178437638903.jpg',\n",
       " 'rtsd-frames/autosave09_10_2012_12_23_34_1_0.6552692396425969.jpg',\n",
       " 'rtsd-frames/autosave16_04_2013_15_03_25_3_0.8542472982682103.jpg',\n",
       " 'rtsd-frames/autosave09_11_2012_09_46_13_0_0.7059188505151998.jpg',\n",
       " 'rtsd-frames/autosave16_04_2013_11_38_02_3_0.7784391360230204.jpg',\n",
       " 'rtsd-frames/autosave16_10_2012_12_08_13_1_0.24564981900310623.jpg',\n",
       " 'rtsd-frames/autosave16_10_2012_11_37_38_1_0.6716914739144667.jpg',\n",
       " 'rtsd-frames/autosave10_10_2012_14_10_09_1_0.9487352959423683.jpg',\n",
       " 'rtsd-frames/autosave09_11_2012_09_05_46_1_0.5560960256205916.jpg',\n",
       " 'rtsd-frames/autosave09_10_2012_11_07_59_3_0.24715940804701197.jpg',\n",
       " 'rtsd-frames/autosave23_10_2012_09_16_36_1_0.049880737427309474.jpg',\n",
       " 'rtsd-frames/autosave16_04_2013_12_30_42_2_0.26144891612635635.jpg',\n",
       " 'rtsd-frames/autosave13_04_2013_13_44_59_0_0.31041176343697974.jpg',\n",
       " 'rtsd-frames/autosave24_10_2012_10_39_16_2_0.5559849413802395.jpg',\n",
       " 'rtsd-frames/autosave13_04_2013_12_52_23_1_0.824849824119481.jpg',\n",
       " 'rtsd-frames/autosave23_10_2012_13_25_30_2_0.40988249857809134.jpg',\n",
       " 'rtsd-frames/autosave13_04_2013_14_14_05_0_0.39545118754089503.jpg',\n",
       " 'rtsd-frames/autosave01_02_2012_09_39_33_0.21125175659408957.jpg',\n",
       " 'rtsd-frames/autosave21_01_2013_13_53_00_1_0.7712756257660613.jpg',\n",
       " 'rtsd-frames/autosave09_10_2012_12_17_22_1_0.2511974308642577.jpg',\n",
       " 'rtsd-frames/autosave16_10_2012_08_51_03_0_0.26240721548912815.jpg',\n",
       " 'rtsd-frames/autosave16_04_2013_14_57_59_2_0.6682535255333039.jpg',\n",
       " 'rtsd-frames/autosave02_10_2012_12_02_27_0_0.4531784129267743.jpg',\n",
       " 'rtsd-frames/autosave02_10_2012_12_03_18_2_0.1721515810527583.jpg',\n",
       " 'rtsd-frames/autosave16_10_2012_10_39_02_0_0.0955677117859185.jpg',\n",
       " 'rtsd-frames/autosave16_10_2012_11_27_24_0.jpg',\n",
       " 'rtsd-frames/autosave24_10_2012_10_39_11_4_0.3790444599392597.jpg',\n",
       " 'rtsd-frames/autosave13_04_2013_12_14_20_2_0.929048731302351.jpg',\n",
       " 'rtsd-frames/autosave21_01_2013_12_54_05_2_0.03305725338878451.jpg',\n",
       " 'rtsd-frames/autosave21_01_2013_12_40_45_1_0.4371210787395292.jpg',\n",
       " 'rtsd-frames/autosave09_10_2012_13_31_14_0_0.0036652154751765087.jpg',\n",
       " 'rtsd-frames/autosave09_10_2012_08_09_09_1_0.5746928124356957.jpg',\n",
       " 'rtsd-frames/autosave13_04_2013_13_02_49_2_0.3128466357391918.jpg',\n",
       " 'rtsd-frames/autosave10_10_2012_12_24_47_1_0.11763406685378153.jpg',\n",
       " 'rtsd-frames/autosave09_11_2012_09_46_43_2_0.6506506672252644.jpg',\n",
       " 'rtsd-frames/autosave23_10_2012_11_08_47_1_0.46867925769500984.jpg',\n",
       " 'rtsd-frames/autosave13_04_2013_15_59_46_1.jpg',\n",
       " 'rtsd-frames/autosave16_04_2013_14_51_25_1_0.996290867258108.jpg',\n",
       " 'rtsd-frames/autosave02_10_2012_12_28_00_0_0.7432826209865.jpg',\n",
       " 'rtsd-frames/autosave23_10_2012_10_13_48_2_0.4123666458947147.jpg',\n",
       " 'rtsd-frames/autosave01_02_2012_09_21_30_0.15599579969861777.jpg',\n",
       " 'rtsd-frames/autosave09_10_2012_14_08_07_1_0.6899222624777276.jpg',\n",
       " 'rtsd-frames/autosave09_11_2012_09_25_49_3.jpg',\n",
       " 'rtsd-frames/autosave02_10_2012_12_42_11_0_0.560539623510032.jpg',\n",
       " 'rtsd-frames/autosave24_10_2012_10_11_14_3_0.48845489194231595.jpg',\n",
       " 'rtsd-frames/autosave09_11_2012_09_55_19_2_0.6745541260977223.jpg',\n",
       " 'rtsd-frames/autosave10_10_2012_09_26_16_1_0.31619225706260845.jpg',\n",
       " 'rtsd-frames/autosave16_10_2012_12_08_13_3_0.11856723963138771.jpg',\n",
       " 'rtsd-frames/autosave09_10_2012_13_37_47_2_0.6737082851711723.jpg',\n",
       " 'rtsd-frames/autosave02_10_2012_12_07_55_2_0.7885161193559908.jpg',\n",
       " 'rtsd-frames/autosave16_04_2013_12_30_42_2_0.4488624506291814.jpg',\n",
       " 'rtsd-frames/autosave16_10_2012_11_48_45_1_0.3043988981576866.jpg',\n",
       " 'rtsd-frames/autosave10_10_2012_14_48_51_3_0.993269686795986.jpg',\n",
       " 'rtsd-frames/autosave16_04_2013_15_36_52_1_0.38534725337467624.jpg',\n",
       " 'rtsd-frames/autosave16_10_2012_08_34_52_1_0.8139441645925637.jpg',\n",
       " 'rtsd-frames/autosave23_10_2012_12_47_24_0_0.5859261312433263.jpg',\n",
       " 'rtsd-frames/autosave16_10_2012_10_06_40_0_0.16886554548378252.jpg',\n",
       " 'rtsd-frames/autosave10_10_2012_12_12_13_1_0.812568122887703.jpg',\n",
       " 'rtsd-frames/autosave10_10_2012_12_45_39_0_0.2949057683015628.jpg',\n",
       " 'rtsd-frames/autosave24_10_2012_11_47_21_2_0.37114605176394855.jpg',\n",
       " 'rtsd-frames/autosave09_10_2012_11_59_46_0_0.23923550450192155.jpg',\n",
       " 'rtsd-frames/autosave16_10_2012_08_02_52_2_0.4177986121524495.jpg',\n",
       " 'rtsd-frames/autosave09_10_2012_12_02_31_2_0.21607389941511645.jpg',\n",
       " 'rtsd-frames/autosave09_10_2012_10_09_59_0_0.5860946140598894.jpg',\n",
       " 'rtsd-frames/autosave16_10_2012_12_08_13_5_0.011058702231158346.jpg',\n",
       " 'rtsd-frames/autosave09_10_2012_12_17_24_0_0.8673247067369046.jpg',\n",
       " 'rtsd-frames/autosave09_10_2012_12_20_52_0_0.5916061367833999.jpg',\n",
       " 'rtsd-frames/autosave09_11_2012_09_34_35_1_0.2501975503751256.jpg',\n",
       " 'rtsd-frames/autosave21_01_2013_12_52_31_2_0.8527520600634001.jpg',\n",
       " 'rtsd-frames/autosave10_10_2012_13_09_16_0_0.37767023621749596.jpg',\n",
       " 'rtsd-frames/autosave24_10_2013_11_39_58_0_0.2976888837946162.jpg',\n",
       " 'rtsd-frames/autosave21_01_2013_09_37_14_2_0.538634097339823.jpg',\n",
       " 'rtsd-frames/autosave16_04_2013_15_31_23_0_0.5127771469250944.jpg',\n",
       " 'rtsd-frames/autosave09_10_2012_10_11_18_0_0.8816226366320888.jpg',\n",
       " 'rtsd-frames/autosave24_10_2012_10_03_41_0_0.131497523275252.jpg',\n",
       " 'rtsd-frames/autosave24_10_2012_11_54_43_2_0.07370431048474224.jpg',\n",
       " 'rtsd-frames/autosave21_01_2013_12_32_43_0.jpg',\n",
       " 'rtsd-frames/autosave09_10_2012_13_26_04_2_0.20550668836539154.jpg',\n",
       " 'rtsd-frames/autosave16_10_2012_10_06_42_5_0.41675278964061946.jpg',\n",
       " 'rtsd-frames/autosave24_10_2013_11_09_47_1_0.7585832795651055.jpg',\n",
       " 'rtsd-frames/autosave10_10_2012_12_38_37_2_0.11356051889248397.jpg',\n",
       " 'rtsd-frames/autosave24_10_2012_10_01_26_2.jpg',\n",
       " 'rtsd-frames/autosave09_10_2012_07_54_04_0_0.5423277289615247.jpg',\n",
       " 'rtsd-frames/autosave16_04_2013_12_00_59_1_0.6803688774115111.jpg',\n",
       " 'rtsd-frames/autosave24_10_2012_11_54_07_1.jpg',\n",
       " 'rtsd-frames/autosave09_11_2012_09_55_57_0_0.534533818456611.jpg',\n",
       " 'rtsd-frames/autosave21_01_2013_12_40_18_1.jpg',\n",
       " 'rtsd-frames/autosave24_10_2012_11_20_10_2_0.35493347450798696.jpg',\n",
       " 'rtsd-frames/autosave23_10_2012_12_48_31_1_0.8149041134830926.jpg',\n",
       " 'rtsd-frames/autosave13_04_2013_15_54_24_2_0.3674808084277774.jpg',\n",
       " 'rtsd-frames/autosave24_10_2012_11_01_58_0_0.2537425195268297.jpg',\n",
       " 'rtsd-frames/autosave13_04_2013_12_47_42_2_0.7877696231370248.jpg',\n",
       " 'rtsd-frames/autosave24_10_2012_10_14_34_1_0.2006599486319074.jpg',\n",
       " 'rtsd-frames/autosave13_04_2013_09_47_33_1_0.4820814551442736.jpg',\n",
       " 'rtsd-frames/autosave09_10_2012_13_24_23_2.jpg',\n",
       " 'rtsd-frames/autosave21_01_2013_11_44_06_0_0.14485623676585713.jpg',\n",
       " 'rtsd-frames/autosave09_10_2012_14_19_13_0_0.2545242655194825.jpg',\n",
       " 'rtsd-frames/autosave21_01_2013_12_41_13_0.jpg',\n",
       " 'rtsd-frames/autosave09_10_2012_08_51_57_0_0.23400437719388711.jpg',\n",
       " 'rtsd-frames/autosave16_10_2012_11_00_04_5_0.9617171357508191.jpg',\n",
       " 'rtsd-frames/autosave10_10_2012_14_10_08_2_0.6018706137993942.jpg',\n",
       " 'rtsd-frames/autosave09_10_2012_10_07_05_0_0.4797450014280078.jpg',\n",
       " 'rtsd-frames/autosave24_10_2012_11_15_14_0.jpg',\n",
       " 'rtsd-frames/autosave23_10_2012_13_03_16_1_0.8183454510265941.jpg',\n",
       " 'rtsd-frames/autosave16_04_2013_14_39_56_0_0.21135985662265278.jpg',\n",
       " 'rtsd-frames/autosave09_10_2012_09_52_43_0.jpg',\n",
       " 'rtsd-frames/autosave02_10_2012_12_24_10_1_0.9913241548106477.jpg',\n",
       " 'rtsd-frames/autosave10_10_2012_09_15_27_2_0.5504561437493859.jpg',\n",
       " 'rtsd-frames/autosave24_10_2012_10_39_24_4_0.8713840884473567.jpg',\n",
       " 'rtsd-frames/autosave13_04_2013_09_53_58_2_0.8128013816364998.jpg',\n",
       " 'rtsd-frames/autosave21_01_2013_10_35_28_0_0.745308291806893.jpg',\n",
       " 'rtsd-frames/autosave01_02_2012_09_26_17_0.4028227256565786.jpg',\n",
       " 'rtsd-frames/autosave01_02_2012_09_31_08_0.0908504718308315.jpg',\n",
       " 'rtsd-frames/autosave09_10_2012_08_24_17_0.jpg',\n",
       " 'rtsd-frames/autosave09_10_2012_09_28_44_1_0.5011757907527684.jpg',\n",
       " 'rtsd-frames/autosave16_10_2012_11_40_03_1_0.9654712400249944.jpg',\n",
       " 'rtsd-frames/autosave13_04_2013_15_17_39_0_0.34587270963577244.jpg',\n",
       " 'rtsd-frames/autosave02_10_2012_12_13_31_2_0.7977374841379684.jpg',\n",
       " 'rtsd-frames/autosave01_02_2012_13_41_08.jpg',\n",
       " 'rtsd-frames/autosave10_10_2012_14_10_07_0_0.6661871721329014.jpg',\n",
       " 'rtsd-frames/autosave24_10_2013_11_06_05_4_0.6730915153774015.jpg',\n",
       " 'rtsd-frames/autosave01_02_2012_10_52_31_0.21202407157113567.jpg',\n",
       " 'rtsd-frames/autosave10_10_2012_13_01_25_0_0.5544357212778757.jpg',\n",
       " 'rtsd-frames/autosave16_10_2012_09_01_15_4_0.023344572489231052.jpg',\n",
       " 'rtsd-frames/autosave23_10_2012_09_35_37_2.jpg',\n",
       " 'rtsd-frames/autosave02_10_2012_11_55_02_0_0.23733849886086666.jpg',\n",
       " 'rtsd-frames/autosave09_10_2012_10_01_27_3_0.5150451068537144.jpg',\n",
       " 'rtsd-frames/autosave09_10_2012_08_17_08_2_0.32805276620471324.jpg',\n",
       " 'rtsd-frames/autosave13_04_2013_15_32_34_2_0.08859842957599817.jpg',\n",
       " 'rtsd-frames/autosave13_04_2013_09_53_29_1_0.8370171351815975.jpg',\n",
       " 'rtsd-frames/autosave09_10_2012_12_02_46_1_0.6302498494674311.jpg',\n",
       " 'rtsd-frames/autosave16_10_2012_11_29_12_1_0.3301096799337979.jpg',\n",
       " 'rtsd-frames/autosave23_10_2012_11_15_35_2_0.3616718484054413.jpg',\n",
       " 'rtsd-frames/autosave16_10_2012_06_47_34_1_0.9353765287926047.jpg',\n",
       " 'rtsd-frames/autosave09_10_2012_14_09_23_2_0.8598183157056933.jpg',\n",
       " 'rtsd-frames/autosave16_04_2013_14_59_33_0_0.4445318466369582.jpg',\n",
       " 'rtsd-frames/autosave24_10_2012_10_20_33_0_0.786480004218529.jpg',\n",
       " 'rtsd-frames/autosave09_10_2012_15_21_54_1_0.7767762747057326.jpg',\n",
       " 'rtsd-frames/autosave16_04_2013_14_37_07_1_0.5251381145067424.jpg',\n",
       " 'rtsd-frames/autosave10_10_2012_09_05_40_0_0.462309168716575.jpg',\n",
       " 'rtsd-frames/autosave24_10_2012_11_02_55_3_0.9144060497867073.jpg',\n",
       " 'rtsd-frames/autosave16_10_2012_11_40_03_1_0.16197678652629544.jpg',\n",
       " 'rtsd-frames/autosave10_10_2012_09_04_44_0_0.5060847777043279.jpg',\n",
       " 'rtsd-frames/autosave10_10_2012_14_24_42_2_0.800692675368813.jpg',\n",
       " 'rtsd-frames/autosave16_10_2012_11_38_56_3.jpg',\n",
       " 'rtsd-frames/autosave16_10_2012_09_00_42_4_0.9778327427898518.jpg',\n",
       " 'rtsd-frames/autosave13_04_2013_11_07_43_2.jpg',\n",
       " 'rtsd-frames/autosave09_10_2012_13_29_50_2.jpg',\n",
       " 'rtsd-frames/autosave21_01_2013_13_53_13_2_0.6933193230741533.jpg',\n",
       " 'rtsd-frames/autosave16_10_2012_11_38_46_4_0.8629861563855792.jpg',\n",
       " 'rtsd-frames/autosave16_04_2013_12_30_43_1_0.2325029283384692.jpg',\n",
       " 'rtsd-frames/autosave23_10_2012_11_36_08_0.jpg',\n",
       " 'rtsd-frames/autosave16_10_2012_07_18_24_3_0.6744004143338466.jpg',\n",
       " 'rtsd-frames/autosave13_04_2013_09_54_01_1_0.9241679035501311.jpg',\n",
       " 'rtsd-frames/autosave09_10_2012_07_49_34_2.jpg',\n",
       " 'rtsd-frames/autosave16_04_2013_11_55_18_0_0.12083346666548156.jpg',\n",
       " 'rtsd-frames/autosave01_02_2012_10_38_38_0.8823070284477079.jpg',\n",
       " 'rtsd-frames/autosave16_10_2012_11_25_54_1_0.2009876489871264.jpg',\n",
       " 'rtsd-frames/autosave13_04_2013_13_02_51_0_0.04971367683094707.jpg',\n",
       " 'rtsd-frames/autosave16_04_2013_14_50_09_3_0.8712809759183477.jpg',\n",
       " 'rtsd-frames/autosave23_10_2012_09_37_04_3_0.8122648383582909.jpg',\n",
       " 'rtsd-frames/autosave21_01_2013_09_20_41_1_0.7065802692634069.jpg',\n",
       " 'rtsd-frames/autosave16_04_2013_14_51_25_1_0.8284489631876338.jpg',\n",
       " 'rtsd-frames/autosave23_10_2012_10_25_11_2_0.9267890588115044.jpg',\n",
       " 'rtsd-frames/autosave01_02_2012_09_31_30_0.49337397105691505.jpg',\n",
       " 'rtsd-frames/autosave10_10_2012_13_34_13_0_0.7491629598817501.jpg',\n",
       " 'rtsd-frames/autosave09_10_2012_10_12_31_1.jpg',\n",
       " 'rtsd-frames/autosave24_10_2012_10_08_04_1_0.697151944972423.jpg',\n",
       " 'rtsd-frames/autosave16_04_2013_15_03_33_0_0.15551776405678386.jpg',\n",
       " 'rtsd-frames/autosave13_04_2013_12_44_04_3_0.033052628168968146.jpg',\n",
       " 'rtsd-frames/autosave24_10_2012_10_14_35_1_0.2304232632407206.jpg',\n",
       " 'rtsd-frames/autosave23_10_2012_08_50_01_2_0.8961291156854809.jpg',\n",
       " 'rtsd-frames/autosave24_10_2012_11_11_52_2_0.9696012759158023.jpg',\n",
       " 'rtsd-frames/autosave09_10_2012_09_24_33_1_0.16116451597722536.jpg',\n",
       " 'rtsd-frames/autosave23_10_2012_10_38_50_0_0.3390796126319081.jpg',\n",
       " 'rtsd-frames/autosave13_04_2013_12_08_41_2_0.48562317503720154.jpg',\n",
       " 'rtsd-frames/autosave13_04_2013_12_14_21_2_0.60490387490136.jpg',\n",
       " 'rtsd-frames/autosave24_10_2012_11_49_50_1_0.2155013956989964.jpg',\n",
       " 'rtsd-frames/autosave09_10_2012_13_37_01_2_0.7792268008989505.jpg',\n",
       " 'rtsd-frames/autosave09_10_2012_08_13_04_3_0.2592983162734722.jpg',\n",
       " 'rtsd-frames/autosave09_10_2012_08_50_38_2_0.13565761900120543.jpg',\n",
       " 'rtsd-frames/autosave10_10_2012_08_09_07_3_0.34515231769740906.jpg',\n",
       " 'rtsd-frames/autosave16_04_2013_13_59_09_0_0.5450690186265801.jpg',\n",
       " 'rtsd-frames/autosave24_10_2012_10_38_54_0_0.5723096557073549.jpg',\n",
       " 'rtsd-frames/autosave10_10_2012_13_25_00_2_0.9029313599718481.jpg',\n",
       " 'rtsd-frames/autosave13_04_2013_09_59_05_2_0.8104165894710935.jpg',\n",
       " 'rtsd-frames/autosave16_04_2013_14_28_50_1_0.2011371859079245.jpg',\n",
       " 'rtsd-frames/autosave16_04_2013_11_42_49_0_0.6256645950076709.jpg',\n",
       " 'rtsd-frames/autosave09_10_2012_10_01_31_2_0.6698789259430379.jpg',\n",
       " 'rtsd-frames/autosave23_10_2012_14_54_02_3_0.5098830911429447.jpg',\n",
       " 'rtsd-frames/autosave23_10_2012_10_40_49_0_0.8638787706736605.jpg',\n",
       " 'rtsd-frames/autosave09_10_2012_13_29_41_2.jpg',\n",
       " 'rtsd-frames/autosave23_10_2012_10_28_02_1_0.021209935721934303.jpg',\n",
       " 'rtsd-frames/autosave10_10_2012_08_08_30_2_0.9422045551376079.jpg',\n",
       " 'rtsd-frames/autosave16_04_2013_11_57_46_2_0.0715113677488034.jpg',\n",
       " 'rtsd-frames/autosave13_04_2013_09_45_44_0_0.4920942654882403.jpg',\n",
       " 'rtsd-frames/autosave16_10_2012_11_23_55_0_0.7341767389339691.jpg',\n",
       " 'rtsd-frames/autosave10_10_2012_13_30_53_0.jpg',\n",
       " 'rtsd-frames/autosave16_10_2012_08_44_23_2_0.5996838777448412.jpg',\n",
       " 'rtsd-frames/autosave24_10_2012_10_40_34_3_0.3530529200996999.jpg',\n",
       " 'rtsd-frames/autosave10_10_2012_14_21_38_1_0.17869992028204462.jpg',\n",
       " 'rtsd-frames/autosave16_04_2013_11_55_15_3_0.6906169660795691.jpg',\n",
       " 'rtsd-frames/autosave09_11_2012_09_05_31_0_0.49396788475076414.jpg',\n",
       " 'rtsd-frames/autosave02_10_2012_12_29_35_3_0.5800314207849401.jpg',\n",
       " 'rtsd-frames/autosave09_11_2012_09_05_33_2_0.7652332671482739.jpg',\n",
       " 'rtsd-frames/autosave13_04_2013_13_02_50_1_0.40685781594876513.jpg',\n",
       " 'rtsd-frames/autosave16_10_2012_11_25_54_3_0.8472393091783869.jpg',\n",
       " 'rtsd-frames/autosave23_10_2012_14_23_56_2_0.8454769705709021.jpg',\n",
       " 'rtsd-frames/autosave23_10_2012_11_08_48_0.jpg',\n",
       " 'rtsd-frames/autosave16_10_2012_11_15_59_0_0.111018985556946.jpg',\n",
       " 'rtsd-frames/autosave23_10_2012_10_28_14_0_0.6583685337645776.jpg',\n",
       " 'rtsd-frames/autosave01_02_2012_09_26_06_0.11976871994165639.jpg',\n",
       " 'rtsd-frames/autosave16_04_2013_15_03_33_2_0.7758860073738608.jpg',\n",
       " 'rtsd-frames/autosave09_10_2012_10_10_03_1_0.4797764047514038.jpg',\n",
       " 'rtsd-frames/autosave24_10_2012_10_21_52_1_0.811108959867628.jpg',\n",
       " 'rtsd-frames/autosave13_04_2013_15_57_58_1_0.4202667571404034.jpg',\n",
       " 'rtsd-frames/autosave21_01_2013_12_31_16_2_0.3441803710061987.jpg',\n",
       " 'rtsd-frames/autosave09_10_2012_14_12_58_0_0.06462402469551765.jpg',\n",
       " 'rtsd-frames/autosave16_04_2013_15_03_19_2_0.9447739639905045.jpg',\n",
       " 'rtsd-frames/autosave23_10_2012_14_37_02_0_0.4922662360769716.jpg',\n",
       " 'rtsd-frames/autosave23_10_2012_14_06_20_3.jpg',\n",
       " 'rtsd-frames/autosave09_10_2012_09_24_33_1_0.18010103942587374.jpg',\n",
       " 'rtsd-frames/autosave09_11_2012_09_19_28_0_0.8473656609581761.jpg',\n",
       " 'rtsd-frames/autosave16_04_2013_12_24_11_3_0.4414446080779978.jpg',\n",
       " 'rtsd-frames/autosave16_04_2013_12_32_42_1_0.8561237703993987.jpg',\n",
       " 'rtsd-frames/autosave24_10_2012_10_12_32_0_0.07563833465568237.jpg',\n",
       " 'rtsd-frames/autosave01_02_2012_09_31_15_0.5341891599011633.jpg',\n",
       " 'rtsd-frames/autosave23_10_2012_11_15_35_2_0.48310577197463334.jpg',\n",
       " 'rtsd-frames/autosave24_10_2012_10_08_05_0.jpg',\n",
       " 'rtsd-frames/autosave21_01_2013_12_40_57_2_0.4750168393558656.jpg',\n",
       " 'rtsd-frames/autosave24_10_2013_11_18_50_1_0.8273764367766023.jpg',\n",
       " 'rtsd-frames/autosave09_10_2012_13_23_54_0_0.14785835190971863.jpg',\n",
       " 'rtsd-frames/autosave16_10_2012_11_38_44_5_0.39030055010176534.jpg',\n",
       " 'rtsd-frames/autosave23_10_2012_09_25_58_1_0.84063480183274.jpg',\n",
       " 'rtsd-frames/autosave09_10_2012_09_41_32_0_0.5897220945710772.jpg',\n",
       " 'rtsd-frames/autosave02_10_2012_12_16_00_1_0.05931885864019848.jpg',\n",
       " 'rtsd-frames/autosave09_10_2012_10_09_59_2_0.47549444647198336.jpg',\n",
       " 'rtsd-frames/autosave23_10_2012_09_55_08_2_0.05423999763278753.jpg',\n",
       " 'rtsd-frames/autosave09_10_2012_12_20_52_0_0.9092297080171858.jpg',\n",
       " 'rtsd-frames/autosave16_04_2013_12_01_03_1_0.9195692508291317.jpg',\n",
       " 'rtsd-frames/autosave02_10_2012_12_02_29_1_0.5909213964162333.jpg',\n",
       " 'rtsd-frames/autosave01_02_2012_09_18_52.jpg',\n",
       " 'rtsd-frames/autosave09_10_2012_07_47_56_2_0.5590049301308463.jpg',\n",
       " 'rtsd-frames/autosave23_10_2012_10_29_13_2_0.2913622427338808.jpg',\n",
       " 'rtsd-frames/autosave16_10_2012_08_34_52_0_0.9714731386444851.jpg',\n",
       " 'rtsd-frames/autosave16_04_2013_12_30_42_1_0.06644630985332156.jpg',\n",
       " 'rtsd-frames/autosave13_04_2013_09_45_53_0_0.0517139271270779.jpg',\n",
       " 'rtsd-frames/autosave09_11_2012_09_10_12_0_0.7959597913514187.jpg',\n",
       " 'rtsd-frames/autosave23_10_2012_09_55_22_1_0.6263748504647737.jpg',\n",
       " 'rtsd-frames/autosave21_01_2013_12_40_18_0_0.7092436486396642.jpg',\n",
       " 'rtsd-frames/autosave10_10_2012_14_29_45_2_0.15885879056083663.jpg',\n",
       " 'rtsd-frames/autosave09_11_2012_09_05_26_0_0.04409254665318496.jpg',\n",
       " 'rtsd-frames/autosave10_10_2012_10_25_56_0_0.7110850520389748.jpg',\n",
       " 'rtsd-frames/autosave13_04_2013_13_02_51_1_0.8440184047818121.jpg',\n",
       " 'rtsd-frames/autosave16_10_2012_11_50_08_0_0.8742105124625276.jpg',\n",
       " 'rtsd-frames/autosave09_10_2012_09_24_34_0_0.3962503633474691.jpg',\n",
       " 'rtsd-frames/autosave02_10_2012_12_12_58_2_0.3635235368893577.jpg',\n",
       " 'rtsd-frames/autosave09_10_2012_10_00_49_0_0.2718181975473749.jpg',\n",
       " 'rtsd-frames/autosave10_10_2012_08_57_47_0_0.34844814254305767.jpg',\n",
       " 'rtsd-frames/autosave24_10_2013_11_21_12_2_0.6735322432466857.jpg',\n",
       " 'rtsd-frames/autosave02_10_2012_12_15_59_1_0.012817700465187487.jpg',\n",
       " 'rtsd-frames/autosave23_10_2012_12_26_36_2_0.2528496916561461.jpg',\n",
       " 'rtsd-frames/autosave16_10_2012_07_08_24_0.jpg',\n",
       " 'rtsd-frames/autosave09_11_2012_09_19_21_1_0.6106605174542175.jpg',\n",
       " 'rtsd-frames/autosave10_10_2012_08_58_18_1_0.8395504398605577.jpg',\n",
       " 'rtsd-frames/autosave23_10_2012_09_43_28_2_0.8176964838025249.jpg',\n",
       " 'rtsd-frames/autosave01_02_2012_09_26_10_0.2682325125053111.jpg',\n",
       " 'rtsd-frames/autosave16_10_2012_11_40_09_2_0.022897139733100036.jpg',\n",
       " 'rtsd-frames/autosave16_04_2013_11_57_55_1_0.20476462104488913.jpg',\n",
       " 'rtsd-frames/autosave16_04_2013_11_45_12_1.jpg',\n",
       " 'rtsd-frames/autosave24_10_2012_10_39_05_3_0.9108272571045127.jpg',\n",
       " 'rtsd-frames/autosave16_04_2013_14_50_13_2_0.04401732239728917.jpg',\n",
       " 'rtsd-frames/autosave24_10_2012_11_05_10_0_0.5922708956443246.jpg',\n",
       " 'rtsd-frames/autosave09_10_2012_11_14_41_3_0.48834395747003.jpg',\n",
       " 'rtsd-frames/autosave10_10_2012_09_27_53_3_0.29676885569696154.jpg',\n",
       " 'rtsd-frames/autosave10_10_2012_10_25_55_1.jpg',\n",
       " 'rtsd-frames/autosave09_10_2012_10_18_14_0_0.08912638026606923.jpg',\n",
       " 'rtsd-frames/autosave01_02_2012_09_45_51_0.4967643923962153.jpg',\n",
       " 'rtsd-frames/autosave13_04_2013_12_44_08_3_0.4104895308589348.jpg',\n",
       " 'rtsd-frames/autosave24_10_2012_10_39_05_2_0.6948203088528226.jpg',\n",
       " 'rtsd-frames/autosave10_10_2012_09_26_14_0_0.21871837323250842.jpg',\n",
       " 'rtsd-frames/autosave09_10_2012_10_09_24_3_0.6497359229308266.jpg',\n",
       " 'rtsd-frames/autosave23_10_2012_11_15_36_1_0.1891557999554243.jpg',\n",
       " 'rtsd-frames/autosave24_10_2013_11_21_12_2_0.6391574146920123.jpg',\n",
       " 'rtsd-frames/autosave09_10_2012_09_42_28_2_0.6941873788380746.jpg',\n",
       " 'rtsd-frames/autosave10_10_2012_14_21_38_0_0.29894346961525897.jpg',\n",
       " 'rtsd-frames/autosave13_04_2013_09_43_28_1_0.3818411336443851.jpg',\n",
       " 'rtsd-frames/autosave16_10_2012_10_27_58_3_0.6356506821637953.jpg',\n",
       " 'rtsd-frames/autosave23_10_2012_10_32_58_2_0.7361270548502229.jpg',\n",
       " 'rtsd-frames/autosave21_01_2013_12_32_39_1_0.43771122090688164.jpg',\n",
       " 'rtsd-frames/autosave13_04_2013_15_57_58_1_0.39785856928651264.jpg',\n",
       " 'rtsd-frames/autosave16_04_2013_15_03_19_0_0.20402942012257053.jpg',\n",
       " 'rtsd-frames/autosave16_04_2013_15_33_09_2.jpg',\n",
       " 'rtsd-frames/autosave10_10_2012_14_26_45_0_0.5738584441207316.jpg',\n",
       " 'rtsd-frames/autosave10_10_2012_09_16_53_0_0.8627459199564993.jpg',\n",
       " ...]"
      ]
     },
     "execution_count": 97,
     "metadata": {},
     "output_type": "execute_result"
    }
   ],
   "source": [
    "files_to_drop = list(set(df['file_name']) - set(df_result['file_name']))\n",
    "\n",
    "for i in range(len(files_to_drop)):\n",
    "    files_to_drop[i] = files_to_drop[i].split('/')[1]"
   ]
  },
  {
   "cell_type": "code",
   "execution_count": 102,
   "id": "529ee81f",
   "metadata": {},
   "outputs": [],
   "source": [
    "path = './data/rtsd-frames/test/'\n",
    "\n",
    "for file_name in files_to_drop:\n",
    "    os.system(f\"rm {path + file_name}\")"
   ]
  },
  {
   "cell_type": "markdown",
   "id": "f5b1018e",
   "metadata": {},
   "source": [
    "## Аугментация"
   ]
  },
  {
   "cell_type": "code",
   "execution_count": 84,
   "id": "a0dd059b",
   "metadata": {},
   "outputs": [],
   "source": [
    "path = './data/rtsd-frames/rtsd-frames/'\n",
    "new_path = './data/rtsd-frames/test/'"
   ]
  },
  {
   "cell_type": "code",
   "execution_count": 85,
   "id": "e8a4135b",
   "metadata": {},
   "outputs": [],
   "source": [
    "# ia.seed(1)\n",
    "p = 0.3\n",
    "\n",
    "seq = iaa.Sequential([  \n",
    "    iaa.Sometimes(\n",
    "        p,\n",
    "        iaa.GaussianBlur(sigma=(0.0, 1)),\n",
    "    ), \n",
    "    iaa.Sometimes(\n",
    "        p,\n",
    "        iaa.MotionBlur(k=(3, 6)),\n",
    "    ),    \n",
    "    \n",
    "    iaa.Sometimes(\n",
    "        p,\n",
    "        iaa.pillike.Equalize(),\n",
    "    ),\n",
    "    iaa.Sometimes(\n",
    "        p,\n",
    "        iaa.pillike.Autocontrast(),\n",
    "    ),    \n",
    "\n",
    "    iaa.Sometimes(\n",
    "        p,\n",
    "        iaa.imgcorruptlike.GaussianNoise(severity=1),\n",
    "    ),\n",
    "    iaa.Sometimes(\n",
    "        p,\n",
    "        iaa.imgcorruptlike.Fog(severity=(1, 2)),\n",
    "    ),\n",
    "    iaa.Sometimes(\n",
    "        0.2,\n",
    "        iaa.imgcorruptlike.Frost(severity=1),\n",
    "    ),\n",
    "    iaa.Sometimes(\n",
    "        0.2,\n",
    "        iaa.imgcorruptlike.Snow(severity=1),\n",
    "    ),\n",
    "    iaa.Sometimes(\n",
    "        0.2,\n",
    "        iaa.imgcorruptlike.Spatter(severity=(1, 2)),\n",
    "    ),\n",
    "\n",
    "], random_order=True) # apply augmenters in random order"
   ]
  },
  {
   "cell_type": "code",
   "execution_count": 86,
   "id": "113ce513",
   "metadata": {},
   "outputs": [
    {
     "ename": "OSError",
     "evalue": "[Errno 28] No space left on device",
     "output_type": "error",
     "traceback": [
      "\u001b[1;31m---------------------------------------------------------------------------\u001b[0m",
      "\u001b[1;31mOSError\u001b[0m                                   Traceback (most recent call last)",
      "\u001b[1;32m<ipython-input-86-5a37d94a7eef>\u001b[0m in \u001b[0;36m<module>\u001b[1;34m\u001b[0m\n\u001b[0;32m     42\u001b[0m                 \u001b[0mimage_aug\u001b[0m \u001b[1;33m=\u001b[0m \u001b[0mseq\u001b[0m\u001b[1;33m(\u001b[0m\u001b[0mimages\u001b[0m\u001b[1;33m=\u001b[0m\u001b[0mnp\u001b[0m\u001b[1;33m.\u001b[0m\u001b[0marray\u001b[0m\u001b[1;33m(\u001b[0m\u001b[1;33m[\u001b[0m\u001b[0mimage\u001b[0m\u001b[1;33m]\u001b[0m\u001b[1;33m)\u001b[0m\u001b[1;33m)\u001b[0m\u001b[1;33m[\u001b[0m\u001b[1;36m0\u001b[0m\u001b[1;33m]\u001b[0m\u001b[1;33m\u001b[0m\u001b[1;33m\u001b[0m\u001b[0m\n\u001b[0;32m     43\u001b[0m                 \u001b[0mimage_aug\u001b[0m \u001b[1;33m=\u001b[0m \u001b[0mImage\u001b[0m\u001b[1;33m.\u001b[0m\u001b[0mfromarray\u001b[0m\u001b[1;33m(\u001b[0m\u001b[0mimage_aug\u001b[0m\u001b[1;33m)\u001b[0m\u001b[1;33m\u001b[0m\u001b[1;33m\u001b[0m\u001b[0m\n\u001b[1;32m---> 44\u001b[1;33m                 \u001b[0mimage_aug\u001b[0m\u001b[1;33m.\u001b[0m\u001b[0msave\u001b[0m\u001b[1;33m(\u001b[0m\u001b[1;34mf'{new_path}'\u001b[0m \u001b[1;33m+\u001b[0m \u001b[0mnew_image_name\u001b[0m\u001b[1;33m)\u001b[0m\u001b[1;33m\u001b[0m\u001b[1;33m\u001b[0m\u001b[0m\n\u001b[0m\u001b[0;32m     45\u001b[0m \u001b[1;33m\u001b[0m\u001b[0m\n\u001b[0;32m     46\u001b[0m                 \u001b[0mrow_copy\u001b[0m\u001b[1;33m[\u001b[0m\u001b[1;34m'file_name'\u001b[0m\u001b[1;33m]\u001b[0m \u001b[1;33m=\u001b[0m \u001b[0mnew_image_name\u001b[0m\u001b[1;33m\u001b[0m\u001b[1;33m\u001b[0m\u001b[0m\n",
      "\u001b[1;32m~\\anaconda3\\lib\\site-packages\\PIL\\Image.py\u001b[0m in \u001b[0;36msave\u001b[1;34m(self, fp, format, **params)\u001b[0m\n\u001b[0;32m   2170\u001b[0m \u001b[1;33m\u001b[0m\u001b[0m\n\u001b[0;32m   2171\u001b[0m         \u001b[1;32mtry\u001b[0m\u001b[1;33m:\u001b[0m\u001b[1;33m\u001b[0m\u001b[1;33m\u001b[0m\u001b[0m\n\u001b[1;32m-> 2172\u001b[1;33m             \u001b[0msave_handler\u001b[0m\u001b[1;33m(\u001b[0m\u001b[0mself\u001b[0m\u001b[1;33m,\u001b[0m \u001b[0mfp\u001b[0m\u001b[1;33m,\u001b[0m \u001b[0mfilename\u001b[0m\u001b[1;33m)\u001b[0m\u001b[1;33m\u001b[0m\u001b[1;33m\u001b[0m\u001b[0m\n\u001b[0m\u001b[0;32m   2173\u001b[0m         \u001b[1;32mfinally\u001b[0m\u001b[1;33m:\u001b[0m\u001b[1;33m\u001b[0m\u001b[1;33m\u001b[0m\u001b[0m\n\u001b[0;32m   2174\u001b[0m             \u001b[1;31m# do what we can to clean up\u001b[0m\u001b[1;33m\u001b[0m\u001b[1;33m\u001b[0m\u001b[1;33m\u001b[0m\u001b[0m\n",
      "\u001b[1;32m~\\anaconda3\\lib\\site-packages\\PIL\\JpegImagePlugin.py\u001b[0m in \u001b[0;36m_save\u001b[1;34m(im, fp, filename)\u001b[0m\n\u001b[0;32m    782\u001b[0m     \u001b[0mbufsize\u001b[0m \u001b[1;33m=\u001b[0m \u001b[0mmax\u001b[0m\u001b[1;33m(\u001b[0m\u001b[0mImageFile\u001b[0m\u001b[1;33m.\u001b[0m\u001b[0mMAXBLOCK\u001b[0m\u001b[1;33m,\u001b[0m \u001b[0mbufsize\u001b[0m\u001b[1;33m,\u001b[0m \u001b[0mlen\u001b[0m\u001b[1;33m(\u001b[0m\u001b[0mexif\u001b[0m\u001b[1;33m)\u001b[0m \u001b[1;33m+\u001b[0m \u001b[1;36m5\u001b[0m\u001b[1;33m,\u001b[0m \u001b[0mlen\u001b[0m\u001b[1;33m(\u001b[0m\u001b[0mextra\u001b[0m\u001b[1;33m)\u001b[0m \u001b[1;33m+\u001b[0m \u001b[1;36m1\u001b[0m\u001b[1;33m)\u001b[0m\u001b[1;33m\u001b[0m\u001b[1;33m\u001b[0m\u001b[0m\n\u001b[0;32m    783\u001b[0m \u001b[1;33m\u001b[0m\u001b[0m\n\u001b[1;32m--> 784\u001b[1;33m     \u001b[0mImageFile\u001b[0m\u001b[1;33m.\u001b[0m\u001b[0m_save\u001b[0m\u001b[1;33m(\u001b[0m\u001b[0mim\u001b[0m\u001b[1;33m,\u001b[0m \u001b[0mfp\u001b[0m\u001b[1;33m,\u001b[0m \u001b[1;33m[\u001b[0m\u001b[1;33m(\u001b[0m\u001b[1;34m\"jpeg\"\u001b[0m\u001b[1;33m,\u001b[0m \u001b[1;33m(\u001b[0m\u001b[1;36m0\u001b[0m\u001b[1;33m,\u001b[0m \u001b[1;36m0\u001b[0m\u001b[1;33m)\u001b[0m \u001b[1;33m+\u001b[0m \u001b[0mim\u001b[0m\u001b[1;33m.\u001b[0m\u001b[0msize\u001b[0m\u001b[1;33m,\u001b[0m \u001b[1;36m0\u001b[0m\u001b[1;33m,\u001b[0m \u001b[0mrawmode\u001b[0m\u001b[1;33m)\u001b[0m\u001b[1;33m]\u001b[0m\u001b[1;33m,\u001b[0m \u001b[0mbufsize\u001b[0m\u001b[1;33m)\u001b[0m\u001b[1;33m\u001b[0m\u001b[1;33m\u001b[0m\u001b[0m\n\u001b[0m\u001b[0;32m    785\u001b[0m \u001b[1;33m\u001b[0m\u001b[0m\n\u001b[0;32m    786\u001b[0m \u001b[1;33m\u001b[0m\u001b[0m\n",
      "\u001b[1;32m~\\anaconda3\\lib\\site-packages\\PIL\\ImageFile.py\u001b[0m in \u001b[0;36m_save\u001b[1;34m(im, fp, tile, bufsize)\u001b[0m\n\u001b[0;32m    530\u001b[0m                 \u001b[0ml\u001b[0m\u001b[1;33m,\u001b[0m \u001b[0ms\u001b[0m \u001b[1;33m=\u001b[0m \u001b[0me\u001b[0m\u001b[1;33m.\u001b[0m\u001b[0mencode_to_pyfd\u001b[0m\u001b[1;33m(\u001b[0m\u001b[1;33m)\u001b[0m\u001b[1;33m\u001b[0m\u001b[1;33m\u001b[0m\u001b[0m\n\u001b[0;32m    531\u001b[0m             \u001b[1;32melse\u001b[0m\u001b[1;33m:\u001b[0m\u001b[1;33m\u001b[0m\u001b[1;33m\u001b[0m\u001b[0m\n\u001b[1;32m--> 532\u001b[1;33m                 \u001b[0ms\u001b[0m \u001b[1;33m=\u001b[0m \u001b[0me\u001b[0m\u001b[1;33m.\u001b[0m\u001b[0mencode_to_file\u001b[0m\u001b[1;33m(\u001b[0m\u001b[0mfh\u001b[0m\u001b[1;33m,\u001b[0m \u001b[0mbufsize\u001b[0m\u001b[1;33m)\u001b[0m\u001b[1;33m\u001b[0m\u001b[1;33m\u001b[0m\u001b[0m\n\u001b[0m\u001b[0;32m    533\u001b[0m             \u001b[1;32mif\u001b[0m \u001b[0ms\u001b[0m \u001b[1;33m<\u001b[0m \u001b[1;36m0\u001b[0m\u001b[1;33m:\u001b[0m\u001b[1;33m\u001b[0m\u001b[1;33m\u001b[0m\u001b[0m\n\u001b[0;32m    534\u001b[0m                 \u001b[1;32mraise\u001b[0m \u001b[0mOSError\u001b[0m\u001b[1;33m(\u001b[0m\u001b[1;34mf\"encoder error {s} when writing image file\"\u001b[0m\u001b[1;33m)\u001b[0m\u001b[1;33m\u001b[0m\u001b[1;33m\u001b[0m\u001b[0m\n",
      "\u001b[1;31mOSError\u001b[0m: [Errno 28] No space left on device"
     ]
    }
   ],
   "source": [
    "categories = df_result['category_name'].unique()\n",
    "temp = pd.DataFrame()\n",
    "\n",
    "\n",
    "for category in categories:\n",
    "    df_cat = df_result[df_result['category_name'] == category]\n",
    "    count = df_cat.shape[0]\n",
    "    \n",
    "    if count >= 500:\n",
    "        pass\n",
    "    elif (500 - count) <= count:\n",
    "        df_temp = df_cat.sample(500 - count)\n",
    "        for index, row in df_temp.iterrows():\n",
    "            row_copy = pd.DataFrame(row.copy()).transpose()\n",
    "            image_name = row['file_name'].split('/')[1]\n",
    "\n",
    "            image = Image.open(path + image_name)\n",
    "            image = np.array(image, dtype=np.uint8)\n",
    "\n",
    "            new_image_name = image_name.split('.jpg')[0] + '_' + str(random.random()) + '.jpg'\n",
    "\n",
    "            image_aug = seq(images=np.array([image]))[0]\n",
    "            image_aug = Image.fromarray(image_aug)\n",
    "            image_aug.save(f'{new_path}' + new_image_name)\n",
    "\n",
    "            row_copy['file_name'] = new_image_name\n",
    "            temp = pd.concat([temp, row_copy], axis=0)\n",
    "    else:   \n",
    "        count_augs = math.ceil((500 - count) / count)\n",
    "        df_temp = df_cat.sample(count)\n",
    "        \n",
    "        for index, row in df_temp.iterrows():\n",
    "            row_copy = pd.DataFrame(row.copy()).transpose()\n",
    "            image_name = row['file_name'].split('/')[1]\n",
    "\n",
    "            image = Image.open(path + image_name)\n",
    "            image = np.array(image, dtype=np.uint8)\n",
    "\n",
    "            for _ in range(count_augs):\n",
    "                new_image_name = image_name.split('.jpg')[0] + '_' + str(random.random()) + '.jpg'\n",
    "\n",
    "                image_aug = seq(images=np.array([image]))[0]\n",
    "                image_aug = Image.fromarray(image_aug)\n",
    "                image_aug.save(f'{new_path}' + new_image_name)\n",
    "\n",
    "                row_copy['file_name'] = new_image_name\n",
    "                temp = pd.concat([temp, row_copy], axis=0)"
   ]
  },
  {
   "cell_type": "code",
   "execution_count": 89,
   "id": "8e3d281b",
   "metadata": {},
   "outputs": [],
   "source": [
    "temp['file_name'] = temp['file_name'].apply(lambda x: 'rtsd-frames/' + x)"
   ]
  },
  {
   "cell_type": "code",
   "execution_count": 132,
   "id": "bcf2503c",
   "metadata": {},
   "outputs": [
    {
     "data": {
      "application/vnd.plotly.v1+json": {
       "config": {
        "plotlyServerURL": "https://plot.ly"
       },
       "data": [
        {
         "alignmentgroup": "True",
         "hovertemplate": "category_name=%{x}<br>count=%{y}<extra></extra>",
         "legendgroup": "",
         "marker": {
          "color": "blue",
          "pattern": {
           "shape": ""
          }
         },
         "name": "",
         "offsetgroup": "",
         "orientation": "v",
         "showlegend": false,
         "textposition": "auto",
         "type": "bar",
         "x": [
          "2_3_5",
          "3_33",
          "8_3_3",
          "2_6",
          "4_5",
          "2_7",
          "6_15_3",
          "1_6",
          "1_7",
          "1_30",
          "2_3_6",
          "7_1",
          "1_19",
          "5_12",
          "5_3",
          "7_15",
          "6_8_2",
          "1_31",
          "8_1_3",
          "4_8_3",
          "2_3_4",
          "6_8_3",
          "7_7",
          "3_16",
          "1_21",
          "5_4",
          "4_1_3",
          "3_14",
          "8_8",
          "5_18",
          "6_7",
          "1_18",
          "1_20",
          "3_19",
          "8_2_2",
          "7_6",
          "8_1_4",
          "8_18",
          "8_6_2",
          "8_4_4",
          "5_7_1",
          "5_22",
          "3_12",
          "3_4",
          "6_15_2",
          "4_1_2_2",
          "5_7_2",
          "8_2_3",
          "3_30",
          "8_6_4",
          "3_11",
          "3_10",
          "8_4_1",
          "5_21",
          "1_15",
          "4_1_6",
          "1_13",
          "8_5_4",
          "4_8_2",
          "7_12",
          "8_13_1",
          "1_27",
          "8_3_2",
          "7_4",
          "5_11",
          "1_5",
          "3_29",
          "8_2_4",
          "1_1",
          "4_1_5",
          "1_14",
          "7_11",
          "3_32",
          "8_1_1",
          "1_20_3",
          "4_1_2_1",
          "1_12",
          "3_18_2",
          "1_33",
          "3_25",
          "3_31",
          "8_3_1",
          "1_12_2",
          "3_2",
          "6_15_1",
          "7_2",
          "4_3",
          "6_2",
          "8_4_3",
          "6_3_1",
          "3_18",
          "3_13",
          "5_14",
          "1_2",
          "8_15",
          "7_5",
          "3_28",
          "1_16",
          "1_8",
          "3_21",
          "1_20_2",
          "1_11",
          "2_3",
          "5_15_7",
          "4_1_2",
          "1_11_1"
         ],
         "xaxis": "x",
         "y": [
          499,
          499,
          498,
          498,
          498,
          496,
          496,
          496,
          495,
          495,
          495,
          495,
          495,
          495,
          495,
          494,
          494,
          494,
          494,
          494,
          494,
          492,
          492,
          492,
          490,
          490,
          488,
          481,
          480,
          480,
          480,
          480,
          480,
          476,
          476,
          476,
          476,
          475,
          475,
          475,
          474,
          473,
          473,
          468,
          468,
          468,
          465,
          465,
          464,
          462,
          460,
          459,
          459,
          456,
          454,
          450,
          450,
          450,
          444,
          441,
          441,
          440,
          432,
          432,
          425,
          425,
          425,
          424,
          416,
          416,
          416,
          414,
          412,
          406,
          404,
          398,
          382,
          380,
          378,
          376,
          366,
          360,
          356,
          356,
          352,
          350,
          348,
          334,
          250,
          239,
          228,
          226,
          190,
          190,
          187,
          166,
          161,
          159,
          147,
          134,
          116,
          115,
          68,
          63,
          27,
          23
         ],
         "yaxis": "y"
        }
       ],
       "layout": {
        "barmode": "relative",
        "legend": {
         "tracegroupgap": 0
        },
        "template": {
         "data": {
          "bar": [
           {
            "error_x": {
             "color": "#2a3f5f"
            },
            "error_y": {
             "color": "#2a3f5f"
            },
            "marker": {
             "line": {
              "color": "#E5ECF6",
              "width": 0.5
             },
             "pattern": {
              "fillmode": "overlay",
              "size": 10,
              "solidity": 0.2
             }
            },
            "type": "bar"
           }
          ],
          "barpolar": [
           {
            "marker": {
             "line": {
              "color": "#E5ECF6",
              "width": 0.5
             },
             "pattern": {
              "fillmode": "overlay",
              "size": 10,
              "solidity": 0.2
             }
            },
            "type": "barpolar"
           }
          ],
          "carpet": [
           {
            "aaxis": {
             "endlinecolor": "#2a3f5f",
             "gridcolor": "white",
             "linecolor": "white",
             "minorgridcolor": "white",
             "startlinecolor": "#2a3f5f"
            },
            "baxis": {
             "endlinecolor": "#2a3f5f",
             "gridcolor": "white",
             "linecolor": "white",
             "minorgridcolor": "white",
             "startlinecolor": "#2a3f5f"
            },
            "type": "carpet"
           }
          ],
          "choropleth": [
           {
            "colorbar": {
             "outlinewidth": 0,
             "ticks": ""
            },
            "type": "choropleth"
           }
          ],
          "contour": [
           {
            "colorbar": {
             "outlinewidth": 0,
             "ticks": ""
            },
            "colorscale": [
             [
              0,
              "#0d0887"
             ],
             [
              0.1111111111111111,
              "#46039f"
             ],
             [
              0.2222222222222222,
              "#7201a8"
             ],
             [
              0.3333333333333333,
              "#9c179e"
             ],
             [
              0.4444444444444444,
              "#bd3786"
             ],
             [
              0.5555555555555556,
              "#d8576b"
             ],
             [
              0.6666666666666666,
              "#ed7953"
             ],
             [
              0.7777777777777778,
              "#fb9f3a"
             ],
             [
              0.8888888888888888,
              "#fdca26"
             ],
             [
              1,
              "#f0f921"
             ]
            ],
            "type": "contour"
           }
          ],
          "contourcarpet": [
           {
            "colorbar": {
             "outlinewidth": 0,
             "ticks": ""
            },
            "type": "contourcarpet"
           }
          ],
          "heatmap": [
           {
            "colorbar": {
             "outlinewidth": 0,
             "ticks": ""
            },
            "colorscale": [
             [
              0,
              "#0d0887"
             ],
             [
              0.1111111111111111,
              "#46039f"
             ],
             [
              0.2222222222222222,
              "#7201a8"
             ],
             [
              0.3333333333333333,
              "#9c179e"
             ],
             [
              0.4444444444444444,
              "#bd3786"
             ],
             [
              0.5555555555555556,
              "#d8576b"
             ],
             [
              0.6666666666666666,
              "#ed7953"
             ],
             [
              0.7777777777777778,
              "#fb9f3a"
             ],
             [
              0.8888888888888888,
              "#fdca26"
             ],
             [
              1,
              "#f0f921"
             ]
            ],
            "type": "heatmap"
           }
          ],
          "heatmapgl": [
           {
            "colorbar": {
             "outlinewidth": 0,
             "ticks": ""
            },
            "colorscale": [
             [
              0,
              "#0d0887"
             ],
             [
              0.1111111111111111,
              "#46039f"
             ],
             [
              0.2222222222222222,
              "#7201a8"
             ],
             [
              0.3333333333333333,
              "#9c179e"
             ],
             [
              0.4444444444444444,
              "#bd3786"
             ],
             [
              0.5555555555555556,
              "#d8576b"
             ],
             [
              0.6666666666666666,
              "#ed7953"
             ],
             [
              0.7777777777777778,
              "#fb9f3a"
             ],
             [
              0.8888888888888888,
              "#fdca26"
             ],
             [
              1,
              "#f0f921"
             ]
            ],
            "type": "heatmapgl"
           }
          ],
          "histogram": [
           {
            "marker": {
             "pattern": {
              "fillmode": "overlay",
              "size": 10,
              "solidity": 0.2
             }
            },
            "type": "histogram"
           }
          ],
          "histogram2d": [
           {
            "colorbar": {
             "outlinewidth": 0,
             "ticks": ""
            },
            "colorscale": [
             [
              0,
              "#0d0887"
             ],
             [
              0.1111111111111111,
              "#46039f"
             ],
             [
              0.2222222222222222,
              "#7201a8"
             ],
             [
              0.3333333333333333,
              "#9c179e"
             ],
             [
              0.4444444444444444,
              "#bd3786"
             ],
             [
              0.5555555555555556,
              "#d8576b"
             ],
             [
              0.6666666666666666,
              "#ed7953"
             ],
             [
              0.7777777777777778,
              "#fb9f3a"
             ],
             [
              0.8888888888888888,
              "#fdca26"
             ],
             [
              1,
              "#f0f921"
             ]
            ],
            "type": "histogram2d"
           }
          ],
          "histogram2dcontour": [
           {
            "colorbar": {
             "outlinewidth": 0,
             "ticks": ""
            },
            "colorscale": [
             [
              0,
              "#0d0887"
             ],
             [
              0.1111111111111111,
              "#46039f"
             ],
             [
              0.2222222222222222,
              "#7201a8"
             ],
             [
              0.3333333333333333,
              "#9c179e"
             ],
             [
              0.4444444444444444,
              "#bd3786"
             ],
             [
              0.5555555555555556,
              "#d8576b"
             ],
             [
              0.6666666666666666,
              "#ed7953"
             ],
             [
              0.7777777777777778,
              "#fb9f3a"
             ],
             [
              0.8888888888888888,
              "#fdca26"
             ],
             [
              1,
              "#f0f921"
             ]
            ],
            "type": "histogram2dcontour"
           }
          ],
          "mesh3d": [
           {
            "colorbar": {
             "outlinewidth": 0,
             "ticks": ""
            },
            "type": "mesh3d"
           }
          ],
          "parcoords": [
           {
            "line": {
             "colorbar": {
              "outlinewidth": 0,
              "ticks": ""
             }
            },
            "type": "parcoords"
           }
          ],
          "pie": [
           {
            "automargin": true,
            "type": "pie"
           }
          ],
          "scatter": [
           {
            "marker": {
             "colorbar": {
              "outlinewidth": 0,
              "ticks": ""
             }
            },
            "type": "scatter"
           }
          ],
          "scatter3d": [
           {
            "line": {
             "colorbar": {
              "outlinewidth": 0,
              "ticks": ""
             }
            },
            "marker": {
             "colorbar": {
              "outlinewidth": 0,
              "ticks": ""
             }
            },
            "type": "scatter3d"
           }
          ],
          "scattercarpet": [
           {
            "marker": {
             "colorbar": {
              "outlinewidth": 0,
              "ticks": ""
             }
            },
            "type": "scattercarpet"
           }
          ],
          "scattergeo": [
           {
            "marker": {
             "colorbar": {
              "outlinewidth": 0,
              "ticks": ""
             }
            },
            "type": "scattergeo"
           }
          ],
          "scattergl": [
           {
            "marker": {
             "colorbar": {
              "outlinewidth": 0,
              "ticks": ""
             }
            },
            "type": "scattergl"
           }
          ],
          "scattermapbox": [
           {
            "marker": {
             "colorbar": {
              "outlinewidth": 0,
              "ticks": ""
             }
            },
            "type": "scattermapbox"
           }
          ],
          "scatterpolar": [
           {
            "marker": {
             "colorbar": {
              "outlinewidth": 0,
              "ticks": ""
             }
            },
            "type": "scatterpolar"
           }
          ],
          "scatterpolargl": [
           {
            "marker": {
             "colorbar": {
              "outlinewidth": 0,
              "ticks": ""
             }
            },
            "type": "scatterpolargl"
           }
          ],
          "scatterternary": [
           {
            "marker": {
             "colorbar": {
              "outlinewidth": 0,
              "ticks": ""
             }
            },
            "type": "scatterternary"
           }
          ],
          "surface": [
           {
            "colorbar": {
             "outlinewidth": 0,
             "ticks": ""
            },
            "colorscale": [
             [
              0,
              "#0d0887"
             ],
             [
              0.1111111111111111,
              "#46039f"
             ],
             [
              0.2222222222222222,
              "#7201a8"
             ],
             [
              0.3333333333333333,
              "#9c179e"
             ],
             [
              0.4444444444444444,
              "#bd3786"
             ],
             [
              0.5555555555555556,
              "#d8576b"
             ],
             [
              0.6666666666666666,
              "#ed7953"
             ],
             [
              0.7777777777777778,
              "#fb9f3a"
             ],
             [
              0.8888888888888888,
              "#fdca26"
             ],
             [
              1,
              "#f0f921"
             ]
            ],
            "type": "surface"
           }
          ],
          "table": [
           {
            "cells": {
             "fill": {
              "color": "#EBF0F8"
             },
             "line": {
              "color": "white"
             }
            },
            "header": {
             "fill": {
              "color": "#C8D4E3"
             },
             "line": {
              "color": "white"
             }
            },
            "type": "table"
           }
          ]
         },
         "layout": {
          "annotationdefaults": {
           "arrowcolor": "#2a3f5f",
           "arrowhead": 0,
           "arrowwidth": 1
          },
          "autotypenumbers": "strict",
          "coloraxis": {
           "colorbar": {
            "outlinewidth": 0,
            "ticks": ""
           }
          },
          "colorscale": {
           "diverging": [
            [
             0,
             "#8e0152"
            ],
            [
             0.1,
             "#c51b7d"
            ],
            [
             0.2,
             "#de77ae"
            ],
            [
             0.3,
             "#f1b6da"
            ],
            [
             0.4,
             "#fde0ef"
            ],
            [
             0.5,
             "#f7f7f7"
            ],
            [
             0.6,
             "#e6f5d0"
            ],
            [
             0.7,
             "#b8e186"
            ],
            [
             0.8,
             "#7fbc41"
            ],
            [
             0.9,
             "#4d9221"
            ],
            [
             1,
             "#276419"
            ]
           ],
           "sequential": [
            [
             0,
             "#0d0887"
            ],
            [
             0.1111111111111111,
             "#46039f"
            ],
            [
             0.2222222222222222,
             "#7201a8"
            ],
            [
             0.3333333333333333,
             "#9c179e"
            ],
            [
             0.4444444444444444,
             "#bd3786"
            ],
            [
             0.5555555555555556,
             "#d8576b"
            ],
            [
             0.6666666666666666,
             "#ed7953"
            ],
            [
             0.7777777777777778,
             "#fb9f3a"
            ],
            [
             0.8888888888888888,
             "#fdca26"
            ],
            [
             1,
             "#f0f921"
            ]
           ],
           "sequentialminus": [
            [
             0,
             "#0d0887"
            ],
            [
             0.1111111111111111,
             "#46039f"
            ],
            [
             0.2222222222222222,
             "#7201a8"
            ],
            [
             0.3333333333333333,
             "#9c179e"
            ],
            [
             0.4444444444444444,
             "#bd3786"
            ],
            [
             0.5555555555555556,
             "#d8576b"
            ],
            [
             0.6666666666666666,
             "#ed7953"
            ],
            [
             0.7777777777777778,
             "#fb9f3a"
            ],
            [
             0.8888888888888888,
             "#fdca26"
            ],
            [
             1,
             "#f0f921"
            ]
           ]
          },
          "colorway": [
           "#636efa",
           "#EF553B",
           "#00cc96",
           "#ab63fa",
           "#FFA15A",
           "#19d3f3",
           "#FF6692",
           "#B6E880",
           "#FF97FF",
           "#FECB52"
          ],
          "font": {
           "color": "#2a3f5f"
          },
          "geo": {
           "bgcolor": "white",
           "lakecolor": "white",
           "landcolor": "#E5ECF6",
           "showlakes": true,
           "showland": true,
           "subunitcolor": "white"
          },
          "hoverlabel": {
           "align": "left"
          },
          "hovermode": "closest",
          "mapbox": {
           "style": "light"
          },
          "paper_bgcolor": "white",
          "plot_bgcolor": "#E5ECF6",
          "polar": {
           "angularaxis": {
            "gridcolor": "white",
            "linecolor": "white",
            "ticks": ""
           },
           "bgcolor": "#E5ECF6",
           "radialaxis": {
            "gridcolor": "white",
            "linecolor": "white",
            "ticks": ""
           }
          },
          "scene": {
           "xaxis": {
            "backgroundcolor": "#E5ECF6",
            "gridcolor": "white",
            "gridwidth": 2,
            "linecolor": "white",
            "showbackground": true,
            "ticks": "",
            "zerolinecolor": "white"
           },
           "yaxis": {
            "backgroundcolor": "#E5ECF6",
            "gridcolor": "white",
            "gridwidth": 2,
            "linecolor": "white",
            "showbackground": true,
            "ticks": "",
            "zerolinecolor": "white"
           },
           "zaxis": {
            "backgroundcolor": "#E5ECF6",
            "gridcolor": "white",
            "gridwidth": 2,
            "linecolor": "white",
            "showbackground": true,
            "ticks": "",
            "zerolinecolor": "white"
           }
          },
          "shapedefaults": {
           "line": {
            "color": "#2a3f5f"
           }
          },
          "ternary": {
           "aaxis": {
            "gridcolor": "white",
            "linecolor": "white",
            "ticks": ""
           },
           "baxis": {
            "gridcolor": "white",
            "linecolor": "white",
            "ticks": ""
           },
           "bgcolor": "#E5ECF6",
           "caxis": {
            "gridcolor": "white",
            "linecolor": "white",
            "ticks": ""
           }
          },
          "title": {
           "x": 0.05
          },
          "xaxis": {
           "automargin": true,
           "gridcolor": "white",
           "linecolor": "white",
           "ticks": "",
           "title": {
            "standoff": 15
           },
           "zerolinecolor": "white",
           "zerolinewidth": 2
          },
          "yaxis": {
           "automargin": true,
           "gridcolor": "white",
           "linecolor": "white",
           "ticks": "",
           "title": {
            "standoff": 15
           },
           "zerolinecolor": "white",
           "zerolinewidth": 2
          }
         }
        },
        "title": {
         "text": "Distribution of sign_class"
        },
        "xaxis": {
         "anchor": "y",
         "domain": [
          0,
          1
         ],
         "title": {
          "text": "category_name"
         }
        },
        "yaxis": {
         "anchor": "x",
         "domain": [
          0,
          1
         ],
         "title": {
          "text": "count"
         }
        }
       }
      },
      "text/html": [
       "<div>                            <div id=\"c4d861a5-4915-4680-927b-9140101961ed\" class=\"plotly-graph-div\" style=\"height:525px; width:100%;\"></div>            <script type=\"text/javascript\">                require([\"plotly\"], function(Plotly) {                    window.PLOTLYENV=window.PLOTLYENV || {};                                    if (document.getElementById(\"c4d861a5-4915-4680-927b-9140101961ed\")) {                    Plotly.newPlot(                        \"c4d861a5-4915-4680-927b-9140101961ed\",                        [{\"alignmentgroup\":\"True\",\"hovertemplate\":\"category_name=%{x}<br>count=%{y}<extra></extra>\",\"legendgroup\":\"\",\"marker\":{\"color\":\"blue\",\"pattern\":{\"shape\":\"\"}},\"name\":\"\",\"offsetgroup\":\"\",\"orientation\":\"v\",\"showlegend\":false,\"textposition\":\"auto\",\"type\":\"bar\",\"x\":[\"2_3_5\",\"3_33\",\"8_3_3\",\"2_6\",\"4_5\",\"2_7\",\"6_15_3\",\"1_6\",\"1_7\",\"1_30\",\"2_3_6\",\"7_1\",\"1_19\",\"5_12\",\"5_3\",\"7_15\",\"6_8_2\",\"1_31\",\"8_1_3\",\"4_8_3\",\"2_3_4\",\"6_8_3\",\"7_7\",\"3_16\",\"1_21\",\"5_4\",\"4_1_3\",\"3_14\",\"8_8\",\"5_18\",\"6_7\",\"1_18\",\"1_20\",\"3_19\",\"8_2_2\",\"7_6\",\"8_1_4\",\"8_18\",\"8_6_2\",\"8_4_4\",\"5_7_1\",\"5_22\",\"3_12\",\"3_4\",\"6_15_2\",\"4_1_2_2\",\"5_7_2\",\"8_2_3\",\"3_30\",\"8_6_4\",\"3_11\",\"3_10\",\"8_4_1\",\"5_21\",\"1_15\",\"4_1_6\",\"1_13\",\"8_5_4\",\"4_8_2\",\"7_12\",\"8_13_1\",\"1_27\",\"8_3_2\",\"7_4\",\"5_11\",\"1_5\",\"3_29\",\"8_2_4\",\"1_1\",\"4_1_5\",\"1_14\",\"7_11\",\"3_32\",\"8_1_1\",\"1_20_3\",\"4_1_2_1\",\"1_12\",\"3_18_2\",\"1_33\",\"3_25\",\"3_31\",\"8_3_1\",\"1_12_2\",\"3_2\",\"6_15_1\",\"7_2\",\"4_3\",\"6_2\",\"8_4_3\",\"6_3_1\",\"3_18\",\"3_13\",\"5_14\",\"1_2\",\"8_15\",\"7_5\",\"3_28\",\"1_16\",\"1_8\",\"3_21\",\"1_20_2\",\"1_11\",\"2_3\",\"5_15_7\",\"4_1_2\",\"1_11_1\"],\"xaxis\":\"x\",\"y\":[499,499,498,498,498,496,496,496,495,495,495,495,495,495,495,494,494,494,494,494,494,492,492,492,490,490,488,481,480,480,480,480,480,476,476,476,476,475,475,475,474,473,473,468,468,468,465,465,464,462,460,459,459,456,454,450,450,450,444,441,441,440,432,432,425,425,425,424,416,416,416,414,412,406,404,398,382,380,378,376,366,360,356,356,352,350,348,334,250,239,228,226,190,190,187,166,161,159,147,134,116,115,68,63,27,23],\"yaxis\":\"y\"}],                        {\"barmode\":\"relative\",\"legend\":{\"tracegroupgap\":0},\"template\":{\"data\":{\"bar\":[{\"error_x\":{\"color\":\"#2a3f5f\"},\"error_y\":{\"color\":\"#2a3f5f\"},\"marker\":{\"line\":{\"color\":\"#E5ECF6\",\"width\":0.5},\"pattern\":{\"fillmode\":\"overlay\",\"size\":10,\"solidity\":0.2}},\"type\":\"bar\"}],\"barpolar\":[{\"marker\":{\"line\":{\"color\":\"#E5ECF6\",\"width\":0.5},\"pattern\":{\"fillmode\":\"overlay\",\"size\":10,\"solidity\":0.2}},\"type\":\"barpolar\"}],\"carpet\":[{\"aaxis\":{\"endlinecolor\":\"#2a3f5f\",\"gridcolor\":\"white\",\"linecolor\":\"white\",\"minorgridcolor\":\"white\",\"startlinecolor\":\"#2a3f5f\"},\"baxis\":{\"endlinecolor\":\"#2a3f5f\",\"gridcolor\":\"white\",\"linecolor\":\"white\",\"minorgridcolor\":\"white\",\"startlinecolor\":\"#2a3f5f\"},\"type\":\"carpet\"}],\"choropleth\":[{\"colorbar\":{\"outlinewidth\":0,\"ticks\":\"\"},\"type\":\"choropleth\"}],\"contour\":[{\"colorbar\":{\"outlinewidth\":0,\"ticks\":\"\"},\"colorscale\":[[0.0,\"#0d0887\"],[0.1111111111111111,\"#46039f\"],[0.2222222222222222,\"#7201a8\"],[0.3333333333333333,\"#9c179e\"],[0.4444444444444444,\"#bd3786\"],[0.5555555555555556,\"#d8576b\"],[0.6666666666666666,\"#ed7953\"],[0.7777777777777778,\"#fb9f3a\"],[0.8888888888888888,\"#fdca26\"],[1.0,\"#f0f921\"]],\"type\":\"contour\"}],\"contourcarpet\":[{\"colorbar\":{\"outlinewidth\":0,\"ticks\":\"\"},\"type\":\"contourcarpet\"}],\"heatmap\":[{\"colorbar\":{\"outlinewidth\":0,\"ticks\":\"\"},\"colorscale\":[[0.0,\"#0d0887\"],[0.1111111111111111,\"#46039f\"],[0.2222222222222222,\"#7201a8\"],[0.3333333333333333,\"#9c179e\"],[0.4444444444444444,\"#bd3786\"],[0.5555555555555556,\"#d8576b\"],[0.6666666666666666,\"#ed7953\"],[0.7777777777777778,\"#fb9f3a\"],[0.8888888888888888,\"#fdca26\"],[1.0,\"#f0f921\"]],\"type\":\"heatmap\"}],\"heatmapgl\":[{\"colorbar\":{\"outlinewidth\":0,\"ticks\":\"\"},\"colorscale\":[[0.0,\"#0d0887\"],[0.1111111111111111,\"#46039f\"],[0.2222222222222222,\"#7201a8\"],[0.3333333333333333,\"#9c179e\"],[0.4444444444444444,\"#bd3786\"],[0.5555555555555556,\"#d8576b\"],[0.6666666666666666,\"#ed7953\"],[0.7777777777777778,\"#fb9f3a\"],[0.8888888888888888,\"#fdca26\"],[1.0,\"#f0f921\"]],\"type\":\"heatmapgl\"}],\"histogram\":[{\"marker\":{\"pattern\":{\"fillmode\":\"overlay\",\"size\":10,\"solidity\":0.2}},\"type\":\"histogram\"}],\"histogram2d\":[{\"colorbar\":{\"outlinewidth\":0,\"ticks\":\"\"},\"colorscale\":[[0.0,\"#0d0887\"],[0.1111111111111111,\"#46039f\"],[0.2222222222222222,\"#7201a8\"],[0.3333333333333333,\"#9c179e\"],[0.4444444444444444,\"#bd3786\"],[0.5555555555555556,\"#d8576b\"],[0.6666666666666666,\"#ed7953\"],[0.7777777777777778,\"#fb9f3a\"],[0.8888888888888888,\"#fdca26\"],[1.0,\"#f0f921\"]],\"type\":\"histogram2d\"}],\"histogram2dcontour\":[{\"colorbar\":{\"outlinewidth\":0,\"ticks\":\"\"},\"colorscale\":[[0.0,\"#0d0887\"],[0.1111111111111111,\"#46039f\"],[0.2222222222222222,\"#7201a8\"],[0.3333333333333333,\"#9c179e\"],[0.4444444444444444,\"#bd3786\"],[0.5555555555555556,\"#d8576b\"],[0.6666666666666666,\"#ed7953\"],[0.7777777777777778,\"#fb9f3a\"],[0.8888888888888888,\"#fdca26\"],[1.0,\"#f0f921\"]],\"type\":\"histogram2dcontour\"}],\"mesh3d\":[{\"colorbar\":{\"outlinewidth\":0,\"ticks\":\"\"},\"type\":\"mesh3d\"}],\"parcoords\":[{\"line\":{\"colorbar\":{\"outlinewidth\":0,\"ticks\":\"\"}},\"type\":\"parcoords\"}],\"pie\":[{\"automargin\":true,\"type\":\"pie\"}],\"scatter\":[{\"marker\":{\"colorbar\":{\"outlinewidth\":0,\"ticks\":\"\"}},\"type\":\"scatter\"}],\"scatter3d\":[{\"line\":{\"colorbar\":{\"outlinewidth\":0,\"ticks\":\"\"}},\"marker\":{\"colorbar\":{\"outlinewidth\":0,\"ticks\":\"\"}},\"type\":\"scatter3d\"}],\"scattercarpet\":[{\"marker\":{\"colorbar\":{\"outlinewidth\":0,\"ticks\":\"\"}},\"type\":\"scattercarpet\"}],\"scattergeo\":[{\"marker\":{\"colorbar\":{\"outlinewidth\":0,\"ticks\":\"\"}},\"type\":\"scattergeo\"}],\"scattergl\":[{\"marker\":{\"colorbar\":{\"outlinewidth\":0,\"ticks\":\"\"}},\"type\":\"scattergl\"}],\"scattermapbox\":[{\"marker\":{\"colorbar\":{\"outlinewidth\":0,\"ticks\":\"\"}},\"type\":\"scattermapbox\"}],\"scatterpolar\":[{\"marker\":{\"colorbar\":{\"outlinewidth\":0,\"ticks\":\"\"}},\"type\":\"scatterpolar\"}],\"scatterpolargl\":[{\"marker\":{\"colorbar\":{\"outlinewidth\":0,\"ticks\":\"\"}},\"type\":\"scatterpolargl\"}],\"scatterternary\":[{\"marker\":{\"colorbar\":{\"outlinewidth\":0,\"ticks\":\"\"}},\"type\":\"scatterternary\"}],\"surface\":[{\"colorbar\":{\"outlinewidth\":0,\"ticks\":\"\"},\"colorscale\":[[0.0,\"#0d0887\"],[0.1111111111111111,\"#46039f\"],[0.2222222222222222,\"#7201a8\"],[0.3333333333333333,\"#9c179e\"],[0.4444444444444444,\"#bd3786\"],[0.5555555555555556,\"#d8576b\"],[0.6666666666666666,\"#ed7953\"],[0.7777777777777778,\"#fb9f3a\"],[0.8888888888888888,\"#fdca26\"],[1.0,\"#f0f921\"]],\"type\":\"surface\"}],\"table\":[{\"cells\":{\"fill\":{\"color\":\"#EBF0F8\"},\"line\":{\"color\":\"white\"}},\"header\":{\"fill\":{\"color\":\"#C8D4E3\"},\"line\":{\"color\":\"white\"}},\"type\":\"table\"}]},\"layout\":{\"annotationdefaults\":{\"arrowcolor\":\"#2a3f5f\",\"arrowhead\":0,\"arrowwidth\":1},\"autotypenumbers\":\"strict\",\"coloraxis\":{\"colorbar\":{\"outlinewidth\":0,\"ticks\":\"\"}},\"colorscale\":{\"diverging\":[[0,\"#8e0152\"],[0.1,\"#c51b7d\"],[0.2,\"#de77ae\"],[0.3,\"#f1b6da\"],[0.4,\"#fde0ef\"],[0.5,\"#f7f7f7\"],[0.6,\"#e6f5d0\"],[0.7,\"#b8e186\"],[0.8,\"#7fbc41\"],[0.9,\"#4d9221\"],[1,\"#276419\"]],\"sequential\":[[0.0,\"#0d0887\"],[0.1111111111111111,\"#46039f\"],[0.2222222222222222,\"#7201a8\"],[0.3333333333333333,\"#9c179e\"],[0.4444444444444444,\"#bd3786\"],[0.5555555555555556,\"#d8576b\"],[0.6666666666666666,\"#ed7953\"],[0.7777777777777778,\"#fb9f3a\"],[0.8888888888888888,\"#fdca26\"],[1.0,\"#f0f921\"]],\"sequentialminus\":[[0.0,\"#0d0887\"],[0.1111111111111111,\"#46039f\"],[0.2222222222222222,\"#7201a8\"],[0.3333333333333333,\"#9c179e\"],[0.4444444444444444,\"#bd3786\"],[0.5555555555555556,\"#d8576b\"],[0.6666666666666666,\"#ed7953\"],[0.7777777777777778,\"#fb9f3a\"],[0.8888888888888888,\"#fdca26\"],[1.0,\"#f0f921\"]]},\"colorway\":[\"#636efa\",\"#EF553B\",\"#00cc96\",\"#ab63fa\",\"#FFA15A\",\"#19d3f3\",\"#FF6692\",\"#B6E880\",\"#FF97FF\",\"#FECB52\"],\"font\":{\"color\":\"#2a3f5f\"},\"geo\":{\"bgcolor\":\"white\",\"lakecolor\":\"white\",\"landcolor\":\"#E5ECF6\",\"showlakes\":true,\"showland\":true,\"subunitcolor\":\"white\"},\"hoverlabel\":{\"align\":\"left\"},\"hovermode\":\"closest\",\"mapbox\":{\"style\":\"light\"},\"paper_bgcolor\":\"white\",\"plot_bgcolor\":\"#E5ECF6\",\"polar\":{\"angularaxis\":{\"gridcolor\":\"white\",\"linecolor\":\"white\",\"ticks\":\"\"},\"bgcolor\":\"#E5ECF6\",\"radialaxis\":{\"gridcolor\":\"white\",\"linecolor\":\"white\",\"ticks\":\"\"}},\"scene\":{\"xaxis\":{\"backgroundcolor\":\"#E5ECF6\",\"gridcolor\":\"white\",\"gridwidth\":2,\"linecolor\":\"white\",\"showbackground\":true,\"ticks\":\"\",\"zerolinecolor\":\"white\"},\"yaxis\":{\"backgroundcolor\":\"#E5ECF6\",\"gridcolor\":\"white\",\"gridwidth\":2,\"linecolor\":\"white\",\"showbackground\":true,\"ticks\":\"\",\"zerolinecolor\":\"white\"},\"zaxis\":{\"backgroundcolor\":\"#E5ECF6\",\"gridcolor\":\"white\",\"gridwidth\":2,\"linecolor\":\"white\",\"showbackground\":true,\"ticks\":\"\",\"zerolinecolor\":\"white\"}},\"shapedefaults\":{\"line\":{\"color\":\"#2a3f5f\"}},\"ternary\":{\"aaxis\":{\"gridcolor\":\"white\",\"linecolor\":\"white\",\"ticks\":\"\"},\"baxis\":{\"gridcolor\":\"white\",\"linecolor\":\"white\",\"ticks\":\"\"},\"bgcolor\":\"#E5ECF6\",\"caxis\":{\"gridcolor\":\"white\",\"linecolor\":\"white\",\"ticks\":\"\"}},\"title\":{\"x\":0.05},\"xaxis\":{\"automargin\":true,\"gridcolor\":\"white\",\"linecolor\":\"white\",\"ticks\":\"\",\"title\":{\"standoff\":15},\"zerolinecolor\":\"white\",\"zerolinewidth\":2},\"yaxis\":{\"automargin\":true,\"gridcolor\":\"white\",\"linecolor\":\"white\",\"ticks\":\"\",\"title\":{\"standoff\":15},\"zerolinecolor\":\"white\",\"zerolinewidth\":2}}},\"title\":{\"text\":\"Distribution of sign_class\"},\"xaxis\":{\"anchor\":\"y\",\"domain\":[0.0,1.0],\"title\":{\"text\":\"category_name\"}},\"yaxis\":{\"anchor\":\"x\",\"domain\":[0.0,1.0],\"title\":{\"text\":\"count\"}}},                        {\"responsive\": true}                    ).then(function(){\n",
       "                            \n",
       "var gd = document.getElementById('c4d861a5-4915-4680-927b-9140101961ed');\n",
       "var x = new MutationObserver(function (mutations, observer) {{\n",
       "        var display = window.getComputedStyle(gd).display;\n",
       "        if (!display || display === 'none') {{\n",
       "            console.log([gd, 'removed!']);\n",
       "            Plotly.purge(gd);\n",
       "            observer.disconnect();\n",
       "        }}\n",
       "}});\n",
       "\n",
       "// Listen for the removal of the full notebook cells\n",
       "var notebookContainer = gd.closest('#notebook-container');\n",
       "if (notebookContainer) {{\n",
       "    x.observe(notebookContainer, {childList: true});\n",
       "}}\n",
       "\n",
       "// Listen for the clearing of the current output cell\n",
       "var outputEl = gd.closest('.output');\n",
       "if (outputEl) {{\n",
       "    x.observe(outputEl, {childList: true});\n",
       "}}\n",
       "\n",
       "                        })                };                });            </script>        </div>"
      ]
     },
     "metadata": {},
     "output_type": "display_data"
    }
   ],
   "source": [
    "grouped_data = temp.groupby('category_name').size().reset_index(name='count')\n",
    "grouped_data = grouped_data.sort_values(by='count', ascending=False)\n",
    "fig = px.bar(grouped_data, x='category_name' ,y ='count', \n",
    "             labels={'category_name': 'category_name'}, color_discrete_sequence=['blue'], \n",
    "             title=f'Distribution of sign_class')\n",
    "fig.show()"
   ]
  },
  {
   "cell_type": "code",
   "execution_count": 90,
   "id": "46ff31cc",
   "metadata": {},
   "outputs": [],
   "source": [
    "df_result = pd.concat([df_result, temp], axis=0)"
   ]
  },
  {
   "cell_type": "code",
   "execution_count": 103,
   "id": "73da0da3",
   "metadata": {},
   "outputs": [
    {
     "data": {
      "application/vnd.plotly.v1+json": {
       "config": {
        "plotlyServerURL": "https://plot.ly"
       },
       "data": [
        {
         "alignmentgroup": "True",
         "hovertemplate": "category_name=%{x}<br>count=%{y}<extra></extra>",
         "legendgroup": "",
         "marker": {
          "color": "blue",
          "pattern": {
           "shape": ""
          }
         },
         "name": "",
         "offsetgroup": "",
         "orientation": "v",
         "showlegend": false,
         "textposition": "auto",
         "type": "bar",
         "x": [
          "1_1",
          "5_5",
          "5_19_1",
          "5_20",
          "5_21",
          "5_22",
          "5_3",
          "5_4",
          "5_6",
          "5_16",
          "5_7_1",
          "5_7_2",
          "6_15_1",
          "6_15_2",
          "6_15_3",
          "6_16",
          "5_18",
          "5_15_7",
          "6_3_1",
          "4_8_3",
          "4_1_6",
          "4_2_1",
          "4_2_2",
          "4_3",
          "4_5",
          "4_8_2",
          "5_11",
          "5_15_5",
          "5_12",
          "5_14",
          "5_15_1",
          "5_15_2",
          "5_15_2_2",
          "5_15_3",
          "6_2",
          "6_4",
          "4_1_4",
          "8_3_1",
          "8_1_3",
          "8_1_4",
          "8_2_1",
          "8_2_2",
          "8_2_3",
          "8_2_4",
          "8_3_2",
          "8_18",
          "8_3_3",
          "8_4_1",
          "8_4_4",
          "8_5_4",
          "8_6_2",
          "8_6_4",
          "8_1_1",
          "8_15",
          "6_6",
          "7_15",
          "6_7",
          "6_8_2",
          "6_8_3",
          "7_1",
          "7_11",
          "7_12",
          "7_2",
          "8_13_1",
          "7_3",
          "7_4",
          "7_5",
          "7_6",
          "7_7",
          "8_13",
          "4_1_5",
          "4_2_3",
          "4_1_3",
          "2_3_6",
          "1_25",
          "1_27",
          "1_30",
          "1_31",
          "1_33",
          "1_5",
          "1_6",
          "1_7",
          "1_8",
          "2_1",
          "2_2",
          "2_3",
          "4_1_2_2",
          "2_3_3",
          "2_3_4",
          "1_23",
          "1_22",
          "1_21",
          "1_15",
          "1_11",
          "1_11_1",
          "1_12",
          "1_12_2",
          "1_13",
          "1_14",
          "1_16",
          "1_20_3",
          "1_17",
          "1_18",
          "1_19",
          "1_2",
          "1_20",
          "1_20_2",
          "2_3_5",
          "2_3_2",
          "2_4",
          "3_2",
          "2_5",
          "3_24",
          "3_25",
          "3_27",
          "3_28",
          "3_29",
          "3_30",
          "3_31",
          "3_32",
          "3_33",
          "3_4",
          "3_4_1",
          "4_1_1",
          "4_1_2",
          "4_1_2_1",
          "3_20",
          "3_21",
          "3_13",
          "3_14",
          "2_6",
          "2_7",
          "3_1",
          "3_10",
          "3_11",
          "3_12",
          "8_8",
          "3_19",
          "3_18",
          "3_18_2",
          "3_16",
          "8_4_3",
          "8_5_2",
          "5_8",
          "1_10",
          "8_17",
          "3_6",
          "1_26",
          "5_17",
          "7_14",
          "7_18",
          "6_8_1",
          "8_14",
          "8_16",
          "8_23"
         ],
         "xaxis": "x",
         "y": [
          500,
          500,
          500,
          500,
          500,
          500,
          500,
          500,
          500,
          500,
          500,
          500,
          500,
          500,
          500,
          500,
          500,
          500,
          500,
          500,
          500,
          500,
          500,
          500,
          500,
          500,
          500,
          500,
          500,
          500,
          500,
          500,
          500,
          500,
          500,
          500,
          500,
          500,
          500,
          500,
          500,
          500,
          500,
          500,
          500,
          500,
          500,
          500,
          500,
          500,
          500,
          500,
          500,
          500,
          500,
          500,
          500,
          500,
          500,
          500,
          500,
          500,
          500,
          500,
          500,
          500,
          500,
          500,
          500,
          500,
          500,
          500,
          500,
          500,
          500,
          500,
          500,
          500,
          500,
          500,
          500,
          500,
          500,
          500,
          500,
          500,
          500,
          500,
          500,
          500,
          500,
          500,
          500,
          500,
          500,
          500,
          500,
          500,
          500,
          500,
          500,
          500,
          500,
          500,
          500,
          500,
          500,
          500,
          500,
          500,
          500,
          500,
          500,
          500,
          500,
          500,
          500,
          500,
          500,
          500,
          500,
          500,
          500,
          500,
          500,
          500,
          500,
          500,
          500,
          500,
          500,
          500,
          500,
          500,
          500,
          500,
          500,
          500,
          500,
          500,
          500,
          258,
          81,
          34,
          22,
          18,
          14,
          13,
          10,
          9,
          6,
          5,
          4,
          3,
          3
         ],
         "yaxis": "y"
        }
       ],
       "layout": {
        "barmode": "relative",
        "legend": {
         "tracegroupgap": 0
        },
        "template": {
         "data": {
          "bar": [
           {
            "error_x": {
             "color": "#2a3f5f"
            },
            "error_y": {
             "color": "#2a3f5f"
            },
            "marker": {
             "line": {
              "color": "#E5ECF6",
              "width": 0.5
             },
             "pattern": {
              "fillmode": "overlay",
              "size": 10,
              "solidity": 0.2
             }
            },
            "type": "bar"
           }
          ],
          "barpolar": [
           {
            "marker": {
             "line": {
              "color": "#E5ECF6",
              "width": 0.5
             },
             "pattern": {
              "fillmode": "overlay",
              "size": 10,
              "solidity": 0.2
             }
            },
            "type": "barpolar"
           }
          ],
          "carpet": [
           {
            "aaxis": {
             "endlinecolor": "#2a3f5f",
             "gridcolor": "white",
             "linecolor": "white",
             "minorgridcolor": "white",
             "startlinecolor": "#2a3f5f"
            },
            "baxis": {
             "endlinecolor": "#2a3f5f",
             "gridcolor": "white",
             "linecolor": "white",
             "minorgridcolor": "white",
             "startlinecolor": "#2a3f5f"
            },
            "type": "carpet"
           }
          ],
          "choropleth": [
           {
            "colorbar": {
             "outlinewidth": 0,
             "ticks": ""
            },
            "type": "choropleth"
           }
          ],
          "contour": [
           {
            "colorbar": {
             "outlinewidth": 0,
             "ticks": ""
            },
            "colorscale": [
             [
              0,
              "#0d0887"
             ],
             [
              0.1111111111111111,
              "#46039f"
             ],
             [
              0.2222222222222222,
              "#7201a8"
             ],
             [
              0.3333333333333333,
              "#9c179e"
             ],
             [
              0.4444444444444444,
              "#bd3786"
             ],
             [
              0.5555555555555556,
              "#d8576b"
             ],
             [
              0.6666666666666666,
              "#ed7953"
             ],
             [
              0.7777777777777778,
              "#fb9f3a"
             ],
             [
              0.8888888888888888,
              "#fdca26"
             ],
             [
              1,
              "#f0f921"
             ]
            ],
            "type": "contour"
           }
          ],
          "contourcarpet": [
           {
            "colorbar": {
             "outlinewidth": 0,
             "ticks": ""
            },
            "type": "contourcarpet"
           }
          ],
          "heatmap": [
           {
            "colorbar": {
             "outlinewidth": 0,
             "ticks": ""
            },
            "colorscale": [
             [
              0,
              "#0d0887"
             ],
             [
              0.1111111111111111,
              "#46039f"
             ],
             [
              0.2222222222222222,
              "#7201a8"
             ],
             [
              0.3333333333333333,
              "#9c179e"
             ],
             [
              0.4444444444444444,
              "#bd3786"
             ],
             [
              0.5555555555555556,
              "#d8576b"
             ],
             [
              0.6666666666666666,
              "#ed7953"
             ],
             [
              0.7777777777777778,
              "#fb9f3a"
             ],
             [
              0.8888888888888888,
              "#fdca26"
             ],
             [
              1,
              "#f0f921"
             ]
            ],
            "type": "heatmap"
           }
          ],
          "heatmapgl": [
           {
            "colorbar": {
             "outlinewidth": 0,
             "ticks": ""
            },
            "colorscale": [
             [
              0,
              "#0d0887"
             ],
             [
              0.1111111111111111,
              "#46039f"
             ],
             [
              0.2222222222222222,
              "#7201a8"
             ],
             [
              0.3333333333333333,
              "#9c179e"
             ],
             [
              0.4444444444444444,
              "#bd3786"
             ],
             [
              0.5555555555555556,
              "#d8576b"
             ],
             [
              0.6666666666666666,
              "#ed7953"
             ],
             [
              0.7777777777777778,
              "#fb9f3a"
             ],
             [
              0.8888888888888888,
              "#fdca26"
             ],
             [
              1,
              "#f0f921"
             ]
            ],
            "type": "heatmapgl"
           }
          ],
          "histogram": [
           {
            "marker": {
             "pattern": {
              "fillmode": "overlay",
              "size": 10,
              "solidity": 0.2
             }
            },
            "type": "histogram"
           }
          ],
          "histogram2d": [
           {
            "colorbar": {
             "outlinewidth": 0,
             "ticks": ""
            },
            "colorscale": [
             [
              0,
              "#0d0887"
             ],
             [
              0.1111111111111111,
              "#46039f"
             ],
             [
              0.2222222222222222,
              "#7201a8"
             ],
             [
              0.3333333333333333,
              "#9c179e"
             ],
             [
              0.4444444444444444,
              "#bd3786"
             ],
             [
              0.5555555555555556,
              "#d8576b"
             ],
             [
              0.6666666666666666,
              "#ed7953"
             ],
             [
              0.7777777777777778,
              "#fb9f3a"
             ],
             [
              0.8888888888888888,
              "#fdca26"
             ],
             [
              1,
              "#f0f921"
             ]
            ],
            "type": "histogram2d"
           }
          ],
          "histogram2dcontour": [
           {
            "colorbar": {
             "outlinewidth": 0,
             "ticks": ""
            },
            "colorscale": [
             [
              0,
              "#0d0887"
             ],
             [
              0.1111111111111111,
              "#46039f"
             ],
             [
              0.2222222222222222,
              "#7201a8"
             ],
             [
              0.3333333333333333,
              "#9c179e"
             ],
             [
              0.4444444444444444,
              "#bd3786"
             ],
             [
              0.5555555555555556,
              "#d8576b"
             ],
             [
              0.6666666666666666,
              "#ed7953"
             ],
             [
              0.7777777777777778,
              "#fb9f3a"
             ],
             [
              0.8888888888888888,
              "#fdca26"
             ],
             [
              1,
              "#f0f921"
             ]
            ],
            "type": "histogram2dcontour"
           }
          ],
          "mesh3d": [
           {
            "colorbar": {
             "outlinewidth": 0,
             "ticks": ""
            },
            "type": "mesh3d"
           }
          ],
          "parcoords": [
           {
            "line": {
             "colorbar": {
              "outlinewidth": 0,
              "ticks": ""
             }
            },
            "type": "parcoords"
           }
          ],
          "pie": [
           {
            "automargin": true,
            "type": "pie"
           }
          ],
          "scatter": [
           {
            "marker": {
             "colorbar": {
              "outlinewidth": 0,
              "ticks": ""
             }
            },
            "type": "scatter"
           }
          ],
          "scatter3d": [
           {
            "line": {
             "colorbar": {
              "outlinewidth": 0,
              "ticks": ""
             }
            },
            "marker": {
             "colorbar": {
              "outlinewidth": 0,
              "ticks": ""
             }
            },
            "type": "scatter3d"
           }
          ],
          "scattercarpet": [
           {
            "marker": {
             "colorbar": {
              "outlinewidth": 0,
              "ticks": ""
             }
            },
            "type": "scattercarpet"
           }
          ],
          "scattergeo": [
           {
            "marker": {
             "colorbar": {
              "outlinewidth": 0,
              "ticks": ""
             }
            },
            "type": "scattergeo"
           }
          ],
          "scattergl": [
           {
            "marker": {
             "colorbar": {
              "outlinewidth": 0,
              "ticks": ""
             }
            },
            "type": "scattergl"
           }
          ],
          "scattermapbox": [
           {
            "marker": {
             "colorbar": {
              "outlinewidth": 0,
              "ticks": ""
             }
            },
            "type": "scattermapbox"
           }
          ],
          "scatterpolar": [
           {
            "marker": {
             "colorbar": {
              "outlinewidth": 0,
              "ticks": ""
             }
            },
            "type": "scatterpolar"
           }
          ],
          "scatterpolargl": [
           {
            "marker": {
             "colorbar": {
              "outlinewidth": 0,
              "ticks": ""
             }
            },
            "type": "scatterpolargl"
           }
          ],
          "scatterternary": [
           {
            "marker": {
             "colorbar": {
              "outlinewidth": 0,
              "ticks": ""
             }
            },
            "type": "scatterternary"
           }
          ],
          "surface": [
           {
            "colorbar": {
             "outlinewidth": 0,
             "ticks": ""
            },
            "colorscale": [
             [
              0,
              "#0d0887"
             ],
             [
              0.1111111111111111,
              "#46039f"
             ],
             [
              0.2222222222222222,
              "#7201a8"
             ],
             [
              0.3333333333333333,
              "#9c179e"
             ],
             [
              0.4444444444444444,
              "#bd3786"
             ],
             [
              0.5555555555555556,
              "#d8576b"
             ],
             [
              0.6666666666666666,
              "#ed7953"
             ],
             [
              0.7777777777777778,
              "#fb9f3a"
             ],
             [
              0.8888888888888888,
              "#fdca26"
             ],
             [
              1,
              "#f0f921"
             ]
            ],
            "type": "surface"
           }
          ],
          "table": [
           {
            "cells": {
             "fill": {
              "color": "#EBF0F8"
             },
             "line": {
              "color": "white"
             }
            },
            "header": {
             "fill": {
              "color": "#C8D4E3"
             },
             "line": {
              "color": "white"
             }
            },
            "type": "table"
           }
          ]
         },
         "layout": {
          "annotationdefaults": {
           "arrowcolor": "#2a3f5f",
           "arrowhead": 0,
           "arrowwidth": 1
          },
          "autotypenumbers": "strict",
          "coloraxis": {
           "colorbar": {
            "outlinewidth": 0,
            "ticks": ""
           }
          },
          "colorscale": {
           "diverging": [
            [
             0,
             "#8e0152"
            ],
            [
             0.1,
             "#c51b7d"
            ],
            [
             0.2,
             "#de77ae"
            ],
            [
             0.3,
             "#f1b6da"
            ],
            [
             0.4,
             "#fde0ef"
            ],
            [
             0.5,
             "#f7f7f7"
            ],
            [
             0.6,
             "#e6f5d0"
            ],
            [
             0.7,
             "#b8e186"
            ],
            [
             0.8,
             "#7fbc41"
            ],
            [
             0.9,
             "#4d9221"
            ],
            [
             1,
             "#276419"
            ]
           ],
           "sequential": [
            [
             0,
             "#0d0887"
            ],
            [
             0.1111111111111111,
             "#46039f"
            ],
            [
             0.2222222222222222,
             "#7201a8"
            ],
            [
             0.3333333333333333,
             "#9c179e"
            ],
            [
             0.4444444444444444,
             "#bd3786"
            ],
            [
             0.5555555555555556,
             "#d8576b"
            ],
            [
             0.6666666666666666,
             "#ed7953"
            ],
            [
             0.7777777777777778,
             "#fb9f3a"
            ],
            [
             0.8888888888888888,
             "#fdca26"
            ],
            [
             1,
             "#f0f921"
            ]
           ],
           "sequentialminus": [
            [
             0,
             "#0d0887"
            ],
            [
             0.1111111111111111,
             "#46039f"
            ],
            [
             0.2222222222222222,
             "#7201a8"
            ],
            [
             0.3333333333333333,
             "#9c179e"
            ],
            [
             0.4444444444444444,
             "#bd3786"
            ],
            [
             0.5555555555555556,
             "#d8576b"
            ],
            [
             0.6666666666666666,
             "#ed7953"
            ],
            [
             0.7777777777777778,
             "#fb9f3a"
            ],
            [
             0.8888888888888888,
             "#fdca26"
            ],
            [
             1,
             "#f0f921"
            ]
           ]
          },
          "colorway": [
           "#636efa",
           "#EF553B",
           "#00cc96",
           "#ab63fa",
           "#FFA15A",
           "#19d3f3",
           "#FF6692",
           "#B6E880",
           "#FF97FF",
           "#FECB52"
          ],
          "font": {
           "color": "#2a3f5f"
          },
          "geo": {
           "bgcolor": "white",
           "lakecolor": "white",
           "landcolor": "#E5ECF6",
           "showlakes": true,
           "showland": true,
           "subunitcolor": "white"
          },
          "hoverlabel": {
           "align": "left"
          },
          "hovermode": "closest",
          "mapbox": {
           "style": "light"
          },
          "paper_bgcolor": "white",
          "plot_bgcolor": "#E5ECF6",
          "polar": {
           "angularaxis": {
            "gridcolor": "white",
            "linecolor": "white",
            "ticks": ""
           },
           "bgcolor": "#E5ECF6",
           "radialaxis": {
            "gridcolor": "white",
            "linecolor": "white",
            "ticks": ""
           }
          },
          "scene": {
           "xaxis": {
            "backgroundcolor": "#E5ECF6",
            "gridcolor": "white",
            "gridwidth": 2,
            "linecolor": "white",
            "showbackground": true,
            "ticks": "",
            "zerolinecolor": "white"
           },
           "yaxis": {
            "backgroundcolor": "#E5ECF6",
            "gridcolor": "white",
            "gridwidth": 2,
            "linecolor": "white",
            "showbackground": true,
            "ticks": "",
            "zerolinecolor": "white"
           },
           "zaxis": {
            "backgroundcolor": "#E5ECF6",
            "gridcolor": "white",
            "gridwidth": 2,
            "linecolor": "white",
            "showbackground": true,
            "ticks": "",
            "zerolinecolor": "white"
           }
          },
          "shapedefaults": {
           "line": {
            "color": "#2a3f5f"
           }
          },
          "ternary": {
           "aaxis": {
            "gridcolor": "white",
            "linecolor": "white",
            "ticks": ""
           },
           "baxis": {
            "gridcolor": "white",
            "linecolor": "white",
            "ticks": ""
           },
           "bgcolor": "#E5ECF6",
           "caxis": {
            "gridcolor": "white",
            "linecolor": "white",
            "ticks": ""
           }
          },
          "title": {
           "x": 0.05
          },
          "xaxis": {
           "automargin": true,
           "gridcolor": "white",
           "linecolor": "white",
           "ticks": "",
           "title": {
            "standoff": 15
           },
           "zerolinecolor": "white",
           "zerolinewidth": 2
          },
          "yaxis": {
           "automargin": true,
           "gridcolor": "white",
           "linecolor": "white",
           "ticks": "",
           "title": {
            "standoff": 15
           },
           "zerolinecolor": "white",
           "zerolinewidth": 2
          }
         }
        },
        "title": {
         "text": "Distribution of sign_class"
        },
        "xaxis": {
         "anchor": "y",
         "domain": [
          0,
          1
         ],
         "title": {
          "text": "category_name"
         }
        },
        "yaxis": {
         "anchor": "x",
         "domain": [
          0,
          1
         ],
         "title": {
          "text": "count"
         }
        }
       }
      },
      "text/html": [
       "<div>                            <div id=\"10835186-caf8-431a-bfce-9a6dc0f3e1ce\" class=\"plotly-graph-div\" style=\"height:525px; width:100%;\"></div>            <script type=\"text/javascript\">                require([\"plotly\"], function(Plotly) {                    window.PLOTLYENV=window.PLOTLYENV || {};                                    if (document.getElementById(\"10835186-caf8-431a-bfce-9a6dc0f3e1ce\")) {                    Plotly.newPlot(                        \"10835186-caf8-431a-bfce-9a6dc0f3e1ce\",                        [{\"alignmentgroup\":\"True\",\"hovertemplate\":\"category_name=%{x}<br>count=%{y}<extra></extra>\",\"legendgroup\":\"\",\"marker\":{\"color\":\"blue\",\"pattern\":{\"shape\":\"\"}},\"name\":\"\",\"offsetgroup\":\"\",\"orientation\":\"v\",\"showlegend\":false,\"textposition\":\"auto\",\"type\":\"bar\",\"x\":[\"1_1\",\"5_5\",\"5_19_1\",\"5_20\",\"5_21\",\"5_22\",\"5_3\",\"5_4\",\"5_6\",\"5_16\",\"5_7_1\",\"5_7_2\",\"6_15_1\",\"6_15_2\",\"6_15_3\",\"6_16\",\"5_18\",\"5_15_7\",\"6_3_1\",\"4_8_3\",\"4_1_6\",\"4_2_1\",\"4_2_2\",\"4_3\",\"4_5\",\"4_8_2\",\"5_11\",\"5_15_5\",\"5_12\",\"5_14\",\"5_15_1\",\"5_15_2\",\"5_15_2_2\",\"5_15_3\",\"6_2\",\"6_4\",\"4_1_4\",\"8_3_1\",\"8_1_3\",\"8_1_4\",\"8_2_1\",\"8_2_2\",\"8_2_3\",\"8_2_4\",\"8_3_2\",\"8_18\",\"8_3_3\",\"8_4_1\",\"8_4_4\",\"8_5_4\",\"8_6_2\",\"8_6_4\",\"8_1_1\",\"8_15\",\"6_6\",\"7_15\",\"6_7\",\"6_8_2\",\"6_8_3\",\"7_1\",\"7_11\",\"7_12\",\"7_2\",\"8_13_1\",\"7_3\",\"7_4\",\"7_5\",\"7_6\",\"7_7\",\"8_13\",\"4_1_5\",\"4_2_3\",\"4_1_3\",\"2_3_6\",\"1_25\",\"1_27\",\"1_30\",\"1_31\",\"1_33\",\"1_5\",\"1_6\",\"1_7\",\"1_8\",\"2_1\",\"2_2\",\"2_3\",\"4_1_2_2\",\"2_3_3\",\"2_3_4\",\"1_23\",\"1_22\",\"1_21\",\"1_15\",\"1_11\",\"1_11_1\",\"1_12\",\"1_12_2\",\"1_13\",\"1_14\",\"1_16\",\"1_20_3\",\"1_17\",\"1_18\",\"1_19\",\"1_2\",\"1_20\",\"1_20_2\",\"2_3_5\",\"2_3_2\",\"2_4\",\"3_2\",\"2_5\",\"3_24\",\"3_25\",\"3_27\",\"3_28\",\"3_29\",\"3_30\",\"3_31\",\"3_32\",\"3_33\",\"3_4\",\"3_4_1\",\"4_1_1\",\"4_1_2\",\"4_1_2_1\",\"3_20\",\"3_21\",\"3_13\",\"3_14\",\"2_6\",\"2_7\",\"3_1\",\"3_10\",\"3_11\",\"3_12\",\"8_8\",\"3_19\",\"3_18\",\"3_18_2\",\"3_16\",\"8_4_3\",\"8_5_2\",\"5_8\",\"1_10\",\"8_17\",\"3_6\",\"1_26\",\"5_17\",\"7_14\",\"7_18\",\"6_8_1\",\"8_14\",\"8_16\",\"8_23\"],\"xaxis\":\"x\",\"y\":[500,500,500,500,500,500,500,500,500,500,500,500,500,500,500,500,500,500,500,500,500,500,500,500,500,500,500,500,500,500,500,500,500,500,500,500,500,500,500,500,500,500,500,500,500,500,500,500,500,500,500,500,500,500,500,500,500,500,500,500,500,500,500,500,500,500,500,500,500,500,500,500,500,500,500,500,500,500,500,500,500,500,500,500,500,500,500,500,500,500,500,500,500,500,500,500,500,500,500,500,500,500,500,500,500,500,500,500,500,500,500,500,500,500,500,500,500,500,500,500,500,500,500,500,500,500,500,500,500,500,500,500,500,500,500,500,500,500,500,500,500,258,81,34,22,18,14,13,10,9,6,5,4,3,3],\"yaxis\":\"y\"}],                        {\"barmode\":\"relative\",\"legend\":{\"tracegroupgap\":0},\"template\":{\"data\":{\"bar\":[{\"error_x\":{\"color\":\"#2a3f5f\"},\"error_y\":{\"color\":\"#2a3f5f\"},\"marker\":{\"line\":{\"color\":\"#E5ECF6\",\"width\":0.5},\"pattern\":{\"fillmode\":\"overlay\",\"size\":10,\"solidity\":0.2}},\"type\":\"bar\"}],\"barpolar\":[{\"marker\":{\"line\":{\"color\":\"#E5ECF6\",\"width\":0.5},\"pattern\":{\"fillmode\":\"overlay\",\"size\":10,\"solidity\":0.2}},\"type\":\"barpolar\"}],\"carpet\":[{\"aaxis\":{\"endlinecolor\":\"#2a3f5f\",\"gridcolor\":\"white\",\"linecolor\":\"white\",\"minorgridcolor\":\"white\",\"startlinecolor\":\"#2a3f5f\"},\"baxis\":{\"endlinecolor\":\"#2a3f5f\",\"gridcolor\":\"white\",\"linecolor\":\"white\",\"minorgridcolor\":\"white\",\"startlinecolor\":\"#2a3f5f\"},\"type\":\"carpet\"}],\"choropleth\":[{\"colorbar\":{\"outlinewidth\":0,\"ticks\":\"\"},\"type\":\"choropleth\"}],\"contour\":[{\"colorbar\":{\"outlinewidth\":0,\"ticks\":\"\"},\"colorscale\":[[0.0,\"#0d0887\"],[0.1111111111111111,\"#46039f\"],[0.2222222222222222,\"#7201a8\"],[0.3333333333333333,\"#9c179e\"],[0.4444444444444444,\"#bd3786\"],[0.5555555555555556,\"#d8576b\"],[0.6666666666666666,\"#ed7953\"],[0.7777777777777778,\"#fb9f3a\"],[0.8888888888888888,\"#fdca26\"],[1.0,\"#f0f921\"]],\"type\":\"contour\"}],\"contourcarpet\":[{\"colorbar\":{\"outlinewidth\":0,\"ticks\":\"\"},\"type\":\"contourcarpet\"}],\"heatmap\":[{\"colorbar\":{\"outlinewidth\":0,\"ticks\":\"\"},\"colorscale\":[[0.0,\"#0d0887\"],[0.1111111111111111,\"#46039f\"],[0.2222222222222222,\"#7201a8\"],[0.3333333333333333,\"#9c179e\"],[0.4444444444444444,\"#bd3786\"],[0.5555555555555556,\"#d8576b\"],[0.6666666666666666,\"#ed7953\"],[0.7777777777777778,\"#fb9f3a\"],[0.8888888888888888,\"#fdca26\"],[1.0,\"#f0f921\"]],\"type\":\"heatmap\"}],\"heatmapgl\":[{\"colorbar\":{\"outlinewidth\":0,\"ticks\":\"\"},\"colorscale\":[[0.0,\"#0d0887\"],[0.1111111111111111,\"#46039f\"],[0.2222222222222222,\"#7201a8\"],[0.3333333333333333,\"#9c179e\"],[0.4444444444444444,\"#bd3786\"],[0.5555555555555556,\"#d8576b\"],[0.6666666666666666,\"#ed7953\"],[0.7777777777777778,\"#fb9f3a\"],[0.8888888888888888,\"#fdca26\"],[1.0,\"#f0f921\"]],\"type\":\"heatmapgl\"}],\"histogram\":[{\"marker\":{\"pattern\":{\"fillmode\":\"overlay\",\"size\":10,\"solidity\":0.2}},\"type\":\"histogram\"}],\"histogram2d\":[{\"colorbar\":{\"outlinewidth\":0,\"ticks\":\"\"},\"colorscale\":[[0.0,\"#0d0887\"],[0.1111111111111111,\"#46039f\"],[0.2222222222222222,\"#7201a8\"],[0.3333333333333333,\"#9c179e\"],[0.4444444444444444,\"#bd3786\"],[0.5555555555555556,\"#d8576b\"],[0.6666666666666666,\"#ed7953\"],[0.7777777777777778,\"#fb9f3a\"],[0.8888888888888888,\"#fdca26\"],[1.0,\"#f0f921\"]],\"type\":\"histogram2d\"}],\"histogram2dcontour\":[{\"colorbar\":{\"outlinewidth\":0,\"ticks\":\"\"},\"colorscale\":[[0.0,\"#0d0887\"],[0.1111111111111111,\"#46039f\"],[0.2222222222222222,\"#7201a8\"],[0.3333333333333333,\"#9c179e\"],[0.4444444444444444,\"#bd3786\"],[0.5555555555555556,\"#d8576b\"],[0.6666666666666666,\"#ed7953\"],[0.7777777777777778,\"#fb9f3a\"],[0.8888888888888888,\"#fdca26\"],[1.0,\"#f0f921\"]],\"type\":\"histogram2dcontour\"}],\"mesh3d\":[{\"colorbar\":{\"outlinewidth\":0,\"ticks\":\"\"},\"type\":\"mesh3d\"}],\"parcoords\":[{\"line\":{\"colorbar\":{\"outlinewidth\":0,\"ticks\":\"\"}},\"type\":\"parcoords\"}],\"pie\":[{\"automargin\":true,\"type\":\"pie\"}],\"scatter\":[{\"marker\":{\"colorbar\":{\"outlinewidth\":0,\"ticks\":\"\"}},\"type\":\"scatter\"}],\"scatter3d\":[{\"line\":{\"colorbar\":{\"outlinewidth\":0,\"ticks\":\"\"}},\"marker\":{\"colorbar\":{\"outlinewidth\":0,\"ticks\":\"\"}},\"type\":\"scatter3d\"}],\"scattercarpet\":[{\"marker\":{\"colorbar\":{\"outlinewidth\":0,\"ticks\":\"\"}},\"type\":\"scattercarpet\"}],\"scattergeo\":[{\"marker\":{\"colorbar\":{\"outlinewidth\":0,\"ticks\":\"\"}},\"type\":\"scattergeo\"}],\"scattergl\":[{\"marker\":{\"colorbar\":{\"outlinewidth\":0,\"ticks\":\"\"}},\"type\":\"scattergl\"}],\"scattermapbox\":[{\"marker\":{\"colorbar\":{\"outlinewidth\":0,\"ticks\":\"\"}},\"type\":\"scattermapbox\"}],\"scatterpolar\":[{\"marker\":{\"colorbar\":{\"outlinewidth\":0,\"ticks\":\"\"}},\"type\":\"scatterpolar\"}],\"scatterpolargl\":[{\"marker\":{\"colorbar\":{\"outlinewidth\":0,\"ticks\":\"\"}},\"type\":\"scatterpolargl\"}],\"scatterternary\":[{\"marker\":{\"colorbar\":{\"outlinewidth\":0,\"ticks\":\"\"}},\"type\":\"scatterternary\"}],\"surface\":[{\"colorbar\":{\"outlinewidth\":0,\"ticks\":\"\"},\"colorscale\":[[0.0,\"#0d0887\"],[0.1111111111111111,\"#46039f\"],[0.2222222222222222,\"#7201a8\"],[0.3333333333333333,\"#9c179e\"],[0.4444444444444444,\"#bd3786\"],[0.5555555555555556,\"#d8576b\"],[0.6666666666666666,\"#ed7953\"],[0.7777777777777778,\"#fb9f3a\"],[0.8888888888888888,\"#fdca26\"],[1.0,\"#f0f921\"]],\"type\":\"surface\"}],\"table\":[{\"cells\":{\"fill\":{\"color\":\"#EBF0F8\"},\"line\":{\"color\":\"white\"}},\"header\":{\"fill\":{\"color\":\"#C8D4E3\"},\"line\":{\"color\":\"white\"}},\"type\":\"table\"}]},\"layout\":{\"annotationdefaults\":{\"arrowcolor\":\"#2a3f5f\",\"arrowhead\":0,\"arrowwidth\":1},\"autotypenumbers\":\"strict\",\"coloraxis\":{\"colorbar\":{\"outlinewidth\":0,\"ticks\":\"\"}},\"colorscale\":{\"diverging\":[[0,\"#8e0152\"],[0.1,\"#c51b7d\"],[0.2,\"#de77ae\"],[0.3,\"#f1b6da\"],[0.4,\"#fde0ef\"],[0.5,\"#f7f7f7\"],[0.6,\"#e6f5d0\"],[0.7,\"#b8e186\"],[0.8,\"#7fbc41\"],[0.9,\"#4d9221\"],[1,\"#276419\"]],\"sequential\":[[0.0,\"#0d0887\"],[0.1111111111111111,\"#46039f\"],[0.2222222222222222,\"#7201a8\"],[0.3333333333333333,\"#9c179e\"],[0.4444444444444444,\"#bd3786\"],[0.5555555555555556,\"#d8576b\"],[0.6666666666666666,\"#ed7953\"],[0.7777777777777778,\"#fb9f3a\"],[0.8888888888888888,\"#fdca26\"],[1.0,\"#f0f921\"]],\"sequentialminus\":[[0.0,\"#0d0887\"],[0.1111111111111111,\"#46039f\"],[0.2222222222222222,\"#7201a8\"],[0.3333333333333333,\"#9c179e\"],[0.4444444444444444,\"#bd3786\"],[0.5555555555555556,\"#d8576b\"],[0.6666666666666666,\"#ed7953\"],[0.7777777777777778,\"#fb9f3a\"],[0.8888888888888888,\"#fdca26\"],[1.0,\"#f0f921\"]]},\"colorway\":[\"#636efa\",\"#EF553B\",\"#00cc96\",\"#ab63fa\",\"#FFA15A\",\"#19d3f3\",\"#FF6692\",\"#B6E880\",\"#FF97FF\",\"#FECB52\"],\"font\":{\"color\":\"#2a3f5f\"},\"geo\":{\"bgcolor\":\"white\",\"lakecolor\":\"white\",\"landcolor\":\"#E5ECF6\",\"showlakes\":true,\"showland\":true,\"subunitcolor\":\"white\"},\"hoverlabel\":{\"align\":\"left\"},\"hovermode\":\"closest\",\"mapbox\":{\"style\":\"light\"},\"paper_bgcolor\":\"white\",\"plot_bgcolor\":\"#E5ECF6\",\"polar\":{\"angularaxis\":{\"gridcolor\":\"white\",\"linecolor\":\"white\",\"ticks\":\"\"},\"bgcolor\":\"#E5ECF6\",\"radialaxis\":{\"gridcolor\":\"white\",\"linecolor\":\"white\",\"ticks\":\"\"}},\"scene\":{\"xaxis\":{\"backgroundcolor\":\"#E5ECF6\",\"gridcolor\":\"white\",\"gridwidth\":2,\"linecolor\":\"white\",\"showbackground\":true,\"ticks\":\"\",\"zerolinecolor\":\"white\"},\"yaxis\":{\"backgroundcolor\":\"#E5ECF6\",\"gridcolor\":\"white\",\"gridwidth\":2,\"linecolor\":\"white\",\"showbackground\":true,\"ticks\":\"\",\"zerolinecolor\":\"white\"},\"zaxis\":{\"backgroundcolor\":\"#E5ECF6\",\"gridcolor\":\"white\",\"gridwidth\":2,\"linecolor\":\"white\",\"showbackground\":true,\"ticks\":\"\",\"zerolinecolor\":\"white\"}},\"shapedefaults\":{\"line\":{\"color\":\"#2a3f5f\"}},\"ternary\":{\"aaxis\":{\"gridcolor\":\"white\",\"linecolor\":\"white\",\"ticks\":\"\"},\"baxis\":{\"gridcolor\":\"white\",\"linecolor\":\"white\",\"ticks\":\"\"},\"bgcolor\":\"#E5ECF6\",\"caxis\":{\"gridcolor\":\"white\",\"linecolor\":\"white\",\"ticks\":\"\"}},\"title\":{\"x\":0.05},\"xaxis\":{\"automargin\":true,\"gridcolor\":\"white\",\"linecolor\":\"white\",\"ticks\":\"\",\"title\":{\"standoff\":15},\"zerolinecolor\":\"white\",\"zerolinewidth\":2},\"yaxis\":{\"automargin\":true,\"gridcolor\":\"white\",\"linecolor\":\"white\",\"ticks\":\"\",\"title\":{\"standoff\":15},\"zerolinecolor\":\"white\",\"zerolinewidth\":2}}},\"title\":{\"text\":\"Distribution of sign_class\"},\"xaxis\":{\"anchor\":\"y\",\"domain\":[0.0,1.0],\"title\":{\"text\":\"category_name\"}},\"yaxis\":{\"anchor\":\"x\",\"domain\":[0.0,1.0],\"title\":{\"text\":\"count\"}}},                        {\"responsive\": true}                    ).then(function(){\n",
       "                            \n",
       "var gd = document.getElementById('10835186-caf8-431a-bfce-9a6dc0f3e1ce');\n",
       "var x = new MutationObserver(function (mutations, observer) {{\n",
       "        var display = window.getComputedStyle(gd).display;\n",
       "        if (!display || display === 'none') {{\n",
       "            console.log([gd, 'removed!']);\n",
       "            Plotly.purge(gd);\n",
       "            observer.disconnect();\n",
       "        }}\n",
       "}});\n",
       "\n",
       "// Listen for the removal of the full notebook cells\n",
       "var notebookContainer = gd.closest('#notebook-container');\n",
       "if (notebookContainer) {{\n",
       "    x.observe(notebookContainer, {childList: true});\n",
       "}}\n",
       "\n",
       "// Listen for the clearing of the current output cell\n",
       "var outputEl = gd.closest('.output');\n",
       "if (outputEl) {{\n",
       "    x.observe(outputEl, {childList: true});\n",
       "}}\n",
       "\n",
       "                        })                };                });            </script>        </div>"
      ]
     },
     "metadata": {},
     "output_type": "display_data"
    }
   ],
   "source": [
    "grouped_data = df_result.groupby('category_name').size().reset_index(name='count')\n",
    "grouped_data = grouped_data.sort_values(by='count', ascending=False)\n",
    "fig = px.bar(grouped_data, x='category_name' ,y ='count', \n",
    "             labels={'category_name': 'category_name'}, color_discrete_sequence=['blue'], \n",
    "             title=f'Distribution of sign_class')\n",
    "fig.show()"
   ]
  },
  {
   "cell_type": "code",
   "execution_count": 105,
   "id": "2eeaefb2",
   "metadata": {},
   "outputs": [],
   "source": [
    "df_result.to_csv('./data/rtsd-frames/data_signs.csv')"
   ]
  },
  {
   "cell_type": "code",
   "execution_count": null,
   "id": "89326f45",
   "metadata": {},
   "outputs": [],
   "source": []
  }
 ],
 "metadata": {
  "kernelspec": {
   "display_name": "Python 3",
   "language": "python",
   "name": "python3"
  },
  "language_info": {
   "codemirror_mode": {
    "name": "ipython",
    "version": 3
   },
   "file_extension": ".py",
   "mimetype": "text/x-python",
   "name": "python",
   "nbconvert_exporter": "python",
   "pygments_lexer": "ipython3",
   "version": "3.8.8"
  }
 },
 "nbformat": 4,
 "nbformat_minor": 5
}
